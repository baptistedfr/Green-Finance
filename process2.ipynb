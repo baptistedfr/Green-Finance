{
 "cells": [
  {
   "cell_type": "code",
   "execution_count": 26,
   "metadata": {},
   "outputs": [],
   "source": [
    "import pandas as pd\n",
    "import numpy as np\n",
    "from scipy.optimize import minimize"
   ]
  },
  {
   "cell_type": "markdown",
   "metadata": {},
   "source": [
    "## Lecture des datas"
   ]
  },
  {
   "cell_type": "code",
   "execution_count": 42,
   "metadata": {},
   "outputs": [
    {
     "name": "stdout",
     "output_type": "stream",
     "text": [
      "1247 tickers\n"
     ]
    }
   ],
   "source": [
    "df = pd.read_csv(\"all_data.csv\", sep=\";\")\n",
    "print(f\"{len(df)} tickers\")"
   ]
  },
  {
   "cell_type": "markdown",
   "metadata": {},
   "source": [
    "## Exclusions"
   ]
  },
  {
   "cell_type": "markdown",
   "metadata": {},
   "source": [
    "### Tabac / Armes controversées"
   ]
  },
  {
   "cell_type": "code",
   "execution_count": 43,
   "metadata": {},
   "outputs": [
    {
     "name": "stdout",
     "output_type": "stream",
     "text": [
      "1237 tickers\n"
     ]
    }
   ],
   "source": [
    "df2 = df.loc[(df['CWEAP_TIE']!=1) & (df['TOB_PRODUCER']!=1),:]\n",
    "print(f\"{len(df2)} tickers\")"
   ]
  },
  {
   "cell_type": "markdown",
   "metadata": {},
   "source": [
    "Elimination de 10 entreprises"
   ]
  },
  {
   "cell_type": "markdown",
   "metadata": {},
   "source": [
    "### Controverses 0/1"
   ]
  },
  {
   "cell_type": "code",
   "execution_count": 44,
   "metadata": {},
   "outputs": [],
   "source": [
    "columns_controverse = [\"E_CONTROVERSY\", \"S_CONTROVERSY\", 'G_CONTROVERSY']"
   ]
  },
  {
   "cell_type": "code",
   "execution_count": 45,
   "metadata": {},
   "outputs": [
    {
     "name": "stdout",
     "output_type": "stream",
     "text": [
      "NB E_CONTROVERSY : 28\n",
      "NB S_CONTROVERSY : 149\n",
      "NB G_CONTROVERSY : 35\n"
     ]
    }
   ],
   "source": [
    "# Controverse E\n",
    "for col in columns_controverse:\n",
    "    print(f\"NB {col} : {len(df.loc[df[col]<2,:])}\")"
   ]
  },
  {
   "cell_type": "code",
   "execution_count": 46,
   "metadata": {},
   "outputs": [
    {
     "name": "stdout",
     "output_type": "stream",
     "text": [
      "Elimination 175\n",
      "Reste 1062\n"
     ]
    }
   ],
   "source": [
    "df3 = df2.loc[~df2[columns_controverse].lt(2).any(axis=1), :]\n",
    "print(f\"Elimination {len(df2)-len(df3)}\")\n",
    "print(f\"Reste {len(df3)}\")"
   ]
  },
  {
   "cell_type": "markdown",
   "metadata": {},
   "source": [
    "### Note ESG < BB eet E > 3"
   ]
  },
  {
   "cell_type": "code",
   "execution_count": 32,
   "metadata": {},
   "outputs": [
    {
     "name": "stdout",
     "output_type": "stream",
     "text": [
      "NB : 17\n",
      "Elimination 11\n",
      "Reste 1051\n"
     ]
    }
   ],
   "source": [
    "print(f\"NB : {len(df.loc[df[\"IVA_COMPANY_RATING\"].isin(['B','CCC']),:])}\")\n",
    "df4 = df3.loc[~df3[\"IVA_COMPANY_RATING\"].isin(['B','CCC']),:]\n",
    "print(f\"Elimination {len(df3)-len(df4)}\")\n",
    "print(f\"Reste {len(df4)}\")"
   ]
  },
  {
   "cell_type": "code",
   "execution_count": 52,
   "metadata": {},
   "outputs": [
    {
     "name": "stdout",
     "output_type": "stream",
     "text": [
      "NB : 64\n",
      "Elimination 58\n",
      "Reste 993\n"
     ]
    }
   ],
   "source": [
    "print(f\"NB : {len(df.loc[df[\"E_SCORE\"]<=3,:])}\")\n",
    "df5 = df4.loc[df4[\"E_SCORE\"]>3,:]\n",
    "print(f\"Elimination {len(df4)-len(df5)}\")\n",
    "print(f\"Reste {len(df5)}\")"
   ]
  },
  {
   "cell_type": "markdown",
   "metadata": {},
   "source": [
    "### Restrictions ODD"
   ]
  },
  {
   "cell_type": "code",
   "execution_count": 53,
   "metadata": {},
   "outputs": [
    {
     "name": "stdout",
     "output_type": "stream",
     "text": [
      "NB SDG_01_NET_ALIGNMENT_SCORE : 28\n",
      "NB SDG_02_NET_ALIGNMENT_SCORE : 7\n",
      "NB SDG_03_NET_ALIGNMENT_SCORE : 48\n",
      "NB SDG_04_NET_ALIGNMENT_SCORE : 16\n",
      "NB SDG_05_NET_ALIGNMENT_SCORE : 1\n",
      "NB SDG_06_NET_ALIGNMENT_SCORE : 14\n",
      "NB SDG_07_NET_ALIGNMENT_SCORE : 83\n",
      "NB SDG_08_NET_ALIGNMENT_SCORE : 6\n",
      "NB SDG_09_NET_ALIGNMENT_SCORE : 37\n",
      "NB SDG_10_NET_ALIGNMENT_SCORE : 9\n",
      "NB SDG_11_NET_ALIGNMENT_SCORE : 51\n",
      "NB SDG_12_NET_ALIGNMENT_SCORE : 106\n",
      "NB SDG_13_NET_ALIGNMENT_SCORE : 83\n",
      "NB SDG_14_NET_ALIGNMENT_SCORE : 64\n",
      "NB SDG_15_NET_ALIGNMENT_SCORE : 66\n",
      "NB SDG_16_NET_ALIGNMENT_SCORE : 28\n",
      "NB SDG_17_NET_ALIGNMENT_SCORE : 70\n",
      "Elimination 103\n",
      "Reste 890\n",
      "Elimination 157\n",
      "Reste 733\n"
     ]
    }
   ],
   "source": [
    "# odds = [\"07\",\"12\",\"13\"]\n",
    "odds = [x for x in df.columns if x.startswith(\"SDG\")]\n",
    "for odd in odds:\n",
    "    print(f\"NB {odd} : {len(df.loc[df[odd]<=-2,:])}\")\n",
    "\n",
    "df6 = df5.loc[~df5[odds].le(-2).any(axis=1), :]\n",
    "print(f\"Elimination {len(df5)-len(df6)}\")\n",
    "print(f\"Reste {len(df6)}\")\n",
    "\n",
    "df7 = df6.loc[~df6[odds].le(2).all(axis=1), :]\n",
    "print(f\"Elimination {len(df6)-len(df7)}\")\n",
    "print(f\"Reste {len(df7)}\")"
   ]
  },
  {
   "cell_type": "code",
   "execution_count": 11,
   "metadata": {},
   "outputs": [
    {
     "name": "stderr",
     "output_type": "stream",
     "text": [
      "C:\\Users\\bapdu\\AppData\\Local\\Temp\\ipykernel_18696\\2025602295.py:4: SettingWithCopyWarning: \n",
      "A value is trying to be set on a copy of a slice from a DataFrame.\n",
      "Try using .loc[row_indexer,col_indexer] = value instead\n",
      "\n",
      "See the caveats in the documentation: https://pandas.pydata.org/pandas-docs/stable/user_guide/indexing.html#returning-a-view-versus-a-copy\n",
      "  df7['DURABLE_SOCIAL'] = df7[[f'SDG_{col}_NET_ALIGNMENT_SCORE' for col in odds_sociaux]].max(axis=1)\n",
      "C:\\Users\\bapdu\\AppData\\Local\\Temp\\ipykernel_18696\\2025602295.py:5: SettingWithCopyWarning: \n",
      "A value is trying to be set on a copy of a slice from a DataFrame.\n",
      "Try using .loc[row_indexer,col_indexer] = value instead\n",
      "\n",
      "See the caveats in the documentation: https://pandas.pydata.org/pandas-docs/stable/user_guide/indexing.html#returning-a-view-versus-a-copy\n",
      "  df7['DURABLE_ENVIRONNEMENTAL'] = df7[[f'SDG_{col}_NET_ALIGNMENT_SCORE' for col in odds_env]].max(axis=1)\n"
     ]
    }
   ],
   "source": [
    "odds_sociaux = [\"01\",\"02\",\"03\",\"04\",\"05\",\"06\",\"08\",\"10\",\"16\"]\n",
    "odds_env = [\"07\",\"11\",\"12\",\"13\",\"14\",\"15\"]\n",
    "\n",
    "df7['DURABLE_SOCIAL'] = df7[[f'SDG_{col}_NET_ALIGNMENT_SCORE' for col in odds_sociaux]].max(axis=1)\n",
    "df7['DURABLE_ENVIRONNEMENTAL'] = df7[[f'SDG_{col}_NET_ALIGNMENT_SCORE' for col in odds_env]].max(axis=1)"
   ]
  },
  {
   "cell_type": "code",
   "execution_count": 60,
   "metadata": {},
   "outputs": [
    {
     "data": {
      "text/plain": [
       "733"
      ]
     },
     "execution_count": 60,
     "metadata": {},
     "output_type": "execute_result"
    }
   ],
   "source": [
    "len(durable_env)"
   ]
  },
  {
   "cell_type": "code",
   "execution_count": 61,
   "metadata": {},
   "outputs": [
    {
     "name": "stdout",
     "output_type": "stream",
     "text": [
      "731\n"
     ]
    }
   ],
   "source": [
    "import numpy as np\n",
    "import pandas as pd\n",
    "from scipy.optimize import minimize\n",
    "df_fin = df7.copy()\n",
    "df_fin['EST_EU_TAXONOMY_MAX_REV'] = df_fin['EST_EU_TAXONOMY_MAX_REV'].fillna(0)\n",
    "df_fin['Annualized return 10Y'] = df_fin['Annualized return 10Y'].fillna(0)\n",
    "# df6 = df5.loc[(df5['EST_EU_TAXONOMY_MAX_REV']>0) & (df5['ITR']>0),:] #Si Pas Taxo >0 trop de lignes => trop long a faire tourner\n",
    "\n",
    "df_fin = df_fin.loc[(df_fin['ITR']>0),:]\n",
    "# Nombre de tickers\n",
    "n = len(df_fin)\n",
    "print(n)\n",
    "perf_moy = df_fin['Annualized return 20Y'].values\n",
    "taxonomie = df_fin['EST_EU_TAXONOMY_MAX_REV'].values\n",
    "itr = df_fin['ITR'].values\n",
    "durable_social = df_fin['DURABLE_SOCIAL'].values\n",
    "durable_env = df_fin['DURABLE_ENVIRONNEMENTAL'].values\n",
    "\n",
    "secteurs_uniques = df_fin['gics_sector_name'].unique()  # Liste des secteurs uniques\n",
    "m = len(secteurs_uniques)  # Nombre de secteurs\n",
    "\n",
    "# Matrice binaire (1 si l'actif appartient au secteur, 0 sinon)\n",
    "matrice_secteurs = np.array([[1 if df_fin.iloc[i]['gics_sector_name'] == secteur else 0 for secteur in secteurs_uniques] for i in range(n)])\n",
    "\n",
    "# Fonction objectif (on minimise donc on prend -Perf_moy)\n",
    "def objectif(w):\n",
    "    return -np.dot(w, perf_moy)  # On minimise la valeur négative pour maximiser\n",
    "\n",
    "# Contrainte : Taxonomie pondérée ≥ 10\n",
    "def contrainte_taxonomie(w):\n",
    "    return np.dot(w, taxonomie)-12\n",
    "\n",
    "# Contrainte : ITR < 2\n",
    "def contrainte_itr(w):\n",
    "    return 1.95-np.dot(w, itr)\n",
    "\n",
    "# Contrainte : Alignement environnemental pondéré ≥ 90%\n",
    "def contrainte_alignement_social(w):\n",
    "    filtres_env = (durable_env >= 2).astype(int)  # 1 si durable > 2, sinon 0\n",
    "\n",
    "    # Calcul de la somme des poids des entreprises ayant un score durable > 2\n",
    "    return np.dot(w, filtres_env) - 0.33  # Doit être ≥ 0\n",
    "\n",
    "def contrainte_alignement_env(w):\n",
    "    filtres_social = (durable_social >= 2).astype(int)  # 1 si durable > 2, sinon 0\n",
    "\n",
    "    # Calcul de la somme des poids des entreprises ayant un score durable > 2\n",
    "    return np.dot(w, filtres_social) - 0.33  # Doit être ≥ 0\n",
    "\n",
    "def contrainte_secteur(w):\n",
    "    return 0.30 - np.dot(matrice_secteurs.T, w)  # Doit être ≥ 0 pour chaque secteur\n",
    "\n",
    "# Contrainte : Somme des poids = 1\n",
    "def contrainte_somme(w):\n",
    "    return np.sum(w) - 1\n",
    "\n",
    "\n",
    "# Définition des contraintes sous forme de dictionnaires\n",
    "contraintes = [\n",
    "    {'type': 'eq', 'fun': contrainte_somme},  # Somme des poids = 1\n",
    "    {'type': 'ineq', 'fun': contrainte_taxonomie},  # Taxonomie pondérée ≥ 10\n",
    "    {'type': 'ineq', 'fun': contrainte_itr},  # ITR < 2\n",
    "    {'type': 'ineq', 'fun': contrainte_alignement_social},  # Investissement durable Social ≥ 30%\n",
    "    {'type': 'ineq', 'fun': contrainte_alignement_env}  # Investissement durable env≥ 30%\n",
    "]\n",
    "\n",
    "contraintes_secteurs = [{'type': 'ineq', 'fun': lambda w, j=j: contrainte_secteur(w)[j]} for j in range(m)]\n",
    "\n",
    "contraintes = contraintes + contraintes_secteurs\n",
    "\n",
    "# Bornes (chaque poids doit être positif et max 0.1)\n",
    "bornes = [(0, 0.075) for _ in range(n)]\n",
    "\n",
    "# Initialisation des poids (égalité répartie)\n",
    "w0 = np.ones(n) / n\n",
    "\n",
    "# Résolution avec SLSQP\n",
    "resultat = minimize(objectif, w0, method='SLSQP', bounds=bornes, constraints=contraintes)\n",
    "\n",
    "# Vérification des résultats\n",
    "if resultat.success:\n",
    "    w_opt = resultat.x\n",
    "    df_fin['Poids'] = w_opt\n",
    "else:\n",
    "    print(\"L'optimisation a échoué :\", resultat.message)"
   ]
  },
  {
   "cell_type": "code",
   "execution_count": 62,
   "metadata": {},
   "outputs": [
    {
     "name": "stdout",
     "output_type": "stream",
     "text": [
      "Return PTF : 0.3194471883554733\n",
      "TAXO : 12.000000000072163\n",
      "ITR : 1.9499999999586293\n",
      "Poids : 1.0000000000002123\n",
      "Investissement durable Social: 0.8077348320602452\n",
      "Investissement durable Environnemental: 0.6144613488961099\n",
      "E_SCORE : 7.066433753977812\n",
      "S_SCORE : 5.584046966455148\n",
      "G_SCORE : 6.156075977816603\n",
      "INTENSITY_SCOPE_1 : 10.505252143782528\n",
      "INTENSITY_SCOPE_2 : 4.277409488179751\n",
      "INTENSITY_SCOPE_3 : 247.60317477990927\n",
      "FOOTPRINT_SCOPE_1 : 7.784276449471127\n",
      "FOOTPRINT_SCOPE_2 : 2.729340743749261\n",
      "FOOTPRINT_SCOPE_3 : 169.08723210923873\n",
      "SDG_01_NET_ALIGNMENT_SCORE : 0.6927693255524314\n",
      "SDG_02_NET_ALIGNMENT_SCORE : 0.1609809047797907\n",
      "SDG_03_NET_ALIGNMENT_SCORE : 0.3375000000000498\n",
      "SDG_04_NET_ALIGNMENT_SCORE : 0.31250000000004485\n",
      "SDG_05_NET_ALIGNMENT_SCORE : 2.249157529852344\n",
      "SDG_06_NET_ALIGNMENT_SCORE : 0.7071134887500219\n",
      "SDG_07_NET_ALIGNMENT_SCORE : 1.2489916847762803\n",
      "SDG_08_NET_ALIGNMENT_SCORE : 1.599440560626597\n",
      "SDG_09_NET_ALIGNMENT_SCORE : 0.8153591008064333\n",
      "SDG_10_NET_ALIGNMENT_SCORE : 1.8563329225384986\n",
      "SDG_11_NET_ALIGNMENT_SCORE : 0.194730674448177\n",
      "SDG_12_NET_ALIGNMENT_SCORE : 1.836878656689972\n",
      "SDG_13_NET_ALIGNMENT_SCORE : 1.5025207882701657\n",
      "SDG_14_NET_ALIGNMENT_SCORE : -0.09859809047795388\n",
      "SDG_15_NET_ALIGNMENT_SCORE : -0.04719618095598016\n",
      "SDG_16_NET_ALIGNMENT_SCORE : 0.7827348320603189\n",
      "SDG_17_NET_ALIGNMENT_SCORE : 1.8866575298524726\n"
     ]
    }
   ],
   "source": [
    "print(f\"Return PTF : {(df_fin['Poids']*df_fin['Annualized return 20Y']).sum()}\")\n",
    "print(f\"TAXO : {(df_fin['Poids']*df_fin['EST_EU_TAXONOMY_MAX_REV']).sum()}\") \n",
    "print(f\"ITR : {(df_fin['Poids']*df_fin['ITR']).sum()}\") \n",
    "print(f\"Poids : {(df_fin['Poids']).sum()}\") \n",
    "filtres_durables_social = (df_fin['DURABLE_SOCIAL'] >= 2).astype(int)  # 1 si durable > 2, sinon 0.astype(int)  # 1 si durable > 2, sinon 0\n",
    "print(f\"Investissement durable Social: {(filtres_durables_social*df_fin['Poids']).sum()}\") \n",
    "\n",
    "filtres_durables_env = (df_fin['DURABLE_ENVIRONNEMENTAL'] >= 2).astype(int)  # 1 si durable > 2, sinon 0.astype(int)  # 1 si durable > 2, sinon 0\n",
    "print(f\"Investissement durable Environnemental: {(filtres_durables_env*df_fin['Poids']).sum()}\") \n",
    "\n",
    "col_scores = ['E_SCORE', 'S_SCORE', 'G_SCORE']\n",
    "for col in col_scores:\n",
    "    print(f\"{col} : {(df_fin[col]*df_fin['Poids']).sum()}\") \n",
    "\n",
    "col_inten = ['INTENSITY_SCOPE_1', 'INTENSITY_SCOPE_2', 'INTENSITY_SCOPE_3']\n",
    "for col in col_inten:\n",
    "    print(f\"{col} : {(df_fin[col]*df_fin['Poids']).sum()}\") \n",
    "\n",
    "    \n",
    "col_foot = ['FOOTPRINT_SCOPE_1', 'FOOTPRINT_SCOPE_2', 'FOOTPRINT_SCOPE_3']\n",
    "for col in col_foot:\n",
    "    print(f\"{col} : {(df_fin[col]*df_fin['Poids']).sum()}\")\n",
    "\n",
    "for col in odds:\n",
    "    print(f\"{col} : {(df_fin[col]*df_fin['Poids']).sum()}\")"
   ]
  },
  {
   "cell_type": "code",
   "execution_count": 64,
   "metadata": {},
   "outputs": [
    {
     "data": {
      "text/html": [
       "<div>\n",
       "<style scoped>\n",
       "    .dataframe tbody tr th:only-of-type {\n",
       "        vertical-align: middle;\n",
       "    }\n",
       "\n",
       "    .dataframe tbody tr th {\n",
       "        vertical-align: top;\n",
       "    }\n",
       "\n",
       "    .dataframe thead th {\n",
       "        text-align: right;\n",
       "    }\n",
       "</style>\n",
       "<table border=\"1\" class=\"dataframe\">\n",
       "  <thead>\n",
       "    <tr style=\"text-align: right;\">\n",
       "      <th></th>\n",
       "      <th>ticker</th>\n",
       "      <th>name</th>\n",
       "      <th>isin</th>\n",
       "      <th>country</th>\n",
       "      <th>currency</th>\n",
       "      <th>gics_sector_name</th>\n",
       "      <th>industry_group</th>\n",
       "      <th>region_en</th>\n",
       "      <th>Weight in MSCI World</th>\n",
       "      <th>Annualized return 20Y</th>\n",
       "      <th>...</th>\n",
       "      <th>FOOTPRINT_SCOPE_2</th>\n",
       "      <th>FOOTPRINT_SCOPE_3</th>\n",
       "      <th>INTENSITY_SCOPE_1</th>\n",
       "      <th>INTENSITY_SCOPE_2</th>\n",
       "      <th>INTENSITY_SCOPE_3</th>\n",
       "      <th>EV</th>\n",
       "      <th>SALES</th>\n",
       "      <th>DURABLE_SOCIAL</th>\n",
       "      <th>DURABLE_ENVIRONNEMENTAL</th>\n",
       "      <th>Poids</th>\n",
       "    </tr>\n",
       "  </thead>\n",
       "  <tbody>\n",
       "    <tr>\n",
       "      <th>1</th>\n",
       "      <td>NVDA US Equity</td>\n",
       "      <td>NVIDIA Corp</td>\n",
       "      <td>US67066G1040</td>\n",
       "      <td>UNITED STATES</td>\n",
       "      <td>USD</td>\n",
       "      <td>Information Technology</td>\n",
       "      <td>Semiconductors</td>\n",
       "      <td>North America</td>\n",
       "      <td>0.046132</td>\n",
       "      <td>0.396705</td>\n",
       "      <td>...</td>\n",
       "      <td>0.224788</td>\n",
       "      <td>34.721009</td>\n",
       "      <td>0.131528</td>\n",
       "      <td>1.627755</td>\n",
       "      <td>251.425343</td>\n",
       "      <td>3.359642e+06</td>\n",
       "      <td>109406.527100</td>\n",
       "      <td>2.5</td>\n",
       "      <td>6.5</td>\n",
       "      <td>0.075000</td>\n",
       "    </tr>\n",
       "    <tr>\n",
       "      <th>7</th>\n",
       "      <td>AVGO US Equity</td>\n",
       "      <td>Broadcom Inc</td>\n",
       "      <td>US11135F1012</td>\n",
       "      <td>UNITED STATES</td>\n",
       "      <td>USD</td>\n",
       "      <td>Information Technology</td>\n",
       "      <td>Semiconductors</td>\n",
       "      <td>North America</td>\n",
       "      <td>0.015473</td>\n",
       "      <td>0.317303</td>\n",
       "      <td>...</td>\n",
       "      <td>0.942548</td>\n",
       "      <td>69.793000</td>\n",
       "      <td>1.179637</td>\n",
       "      <td>3.735015</td>\n",
       "      <td>276.567279</td>\n",
       "      <td>8.371146e+05</td>\n",
       "      <td>49815.326600</td>\n",
       "      <td>2.5</td>\n",
       "      <td>1.5</td>\n",
       "      <td>0.075000</td>\n",
       "    </tr>\n",
       "    <tr>\n",
       "      <th>14</th>\n",
       "      <td>MA US Equity</td>\n",
       "      <td>Mastercard Inc</td>\n",
       "      <td>US57636Q1040</td>\n",
       "      <td>UNITED STATES</td>\n",
       "      <td>USD</td>\n",
       "      <td>Financials</td>\n",
       "      <td>Diversified Finan Serv</td>\n",
       "      <td>North America</td>\n",
       "      <td>0.006298</td>\n",
       "      <td>0.289978</td>\n",
       "      <td>...</td>\n",
       "      <td>0.459141</td>\n",
       "      <td>24.730839</td>\n",
       "      <td>0.135197</td>\n",
       "      <td>1.843861</td>\n",
       "      <td>99.316304</td>\n",
       "      <td>4.479303e+05</td>\n",
       "      <td>26302.422900</td>\n",
       "      <td>2.5</td>\n",
       "      <td>2.0</td>\n",
       "      <td>0.075000</td>\n",
       "    </tr>\n",
       "    <tr>\n",
       "      <th>19</th>\n",
       "      <td>NFLX US Equity</td>\n",
       "      <td>Netflix Inc</td>\n",
       "      <td>US64110L1061</td>\n",
       "      <td>UNITED STATES</td>\n",
       "      <td>USD</td>\n",
       "      <td>Communication Services</td>\n",
       "      <td>Internet</td>\n",
       "      <td>North America</td>\n",
       "      <td>0.005515</td>\n",
       "      <td>0.376162</td>\n",
       "      <td>...</td>\n",
       "      <td>0.415922</td>\n",
       "      <td>115.939906</td>\n",
       "      <td>0.711690</td>\n",
       "      <td>0.836228</td>\n",
       "      <td>233.102162</td>\n",
       "      <td>3.089634e+05</td>\n",
       "      <td>36237.703140</td>\n",
       "      <td>2.5</td>\n",
       "      <td>1.0</td>\n",
       "      <td>0.075000</td>\n",
       "    </tr>\n",
       "    <tr>\n",
       "      <th>22</th>\n",
       "      <td>CRM US Equity</td>\n",
       "      <td>Salesforce Inc</td>\n",
       "      <td>US79466L3024</td>\n",
       "      <td>UNITED STATES</td>\n",
       "      <td>USD</td>\n",
       "      <td>Information Technology</td>\n",
       "      <td>Software</td>\n",
       "      <td>North America</td>\n",
       "      <td>0.004466</td>\n",
       "      <td>0.256363</td>\n",
       "      <td>...</td>\n",
       "      <td>4.381089</td>\n",
       "      <td>59.867483</td>\n",
       "      <td>0.111356</td>\n",
       "      <td>7.794915</td>\n",
       "      <td>106.517341</td>\n",
       "      <td>2.710248e+05</td>\n",
       "      <td>35920.855100</td>\n",
       "      <td>2.5</td>\n",
       "      <td>3.5</td>\n",
       "      <td>0.075000</td>\n",
       "    </tr>\n",
       "    <tr>\n",
       "      <th>151</th>\n",
       "      <td>MELI US Equity</td>\n",
       "      <td>MercadoLibre Inc</td>\n",
       "      <td>US58733R1023</td>\n",
       "      <td>URUGUAY</td>\n",
       "      <td>USD</td>\n",
       "      <td>Consumer Discretionary</td>\n",
       "      <td>Internet</td>\n",
       "      <td>Latin America</td>\n",
       "      <td>0.001209</td>\n",
       "      <td>0.269122</td>\n",
       "      <td>...</td>\n",
       "      <td>0.752707</td>\n",
       "      <td>276.198071</td>\n",
       "      <td>25.613938</td>\n",
       "      <td>0.973390</td>\n",
       "      <td>357.175439</td>\n",
       "      <td>1.005309e+05</td>\n",
       "      <td>18331.816100</td>\n",
       "      <td>2.5</td>\n",
       "      <td>0.0</td>\n",
       "      <td>0.010539</td>\n",
       "    </tr>\n",
       "    <tr>\n",
       "      <th>155</th>\n",
       "      <td>CMG US Equity</td>\n",
       "      <td>Chipotle Mexican Grill Inc</td>\n",
       "      <td>US1696561059</td>\n",
       "      <td>UNITED STATES</td>\n",
       "      <td>USD</td>\n",
       "      <td>Consumer Discretionary</td>\n",
       "      <td>Retail</td>\n",
       "      <td>North America</td>\n",
       "      <td>0.001189</td>\n",
       "      <td>0.284092</td>\n",
       "      <td>...</td>\n",
       "      <td>8.242878</td>\n",
       "      <td>109.326461</td>\n",
       "      <td>13.711046</td>\n",
       "      <td>14.566726</td>\n",
       "      <td>193.200545</td>\n",
       "      <td>7.951385e+04</td>\n",
       "      <td>10610.277240</td>\n",
       "      <td>2.5</td>\n",
       "      <td>2.0</td>\n",
       "      <td>0.075000</td>\n",
       "    </tr>\n",
       "    <tr>\n",
       "      <th>173</th>\n",
       "      <td>REGN US Equity</td>\n",
       "      <td>Regeneron Pharmaceuticals Inc</td>\n",
       "      <td>US75886F1075</td>\n",
       "      <td>UNITED STATES</td>\n",
       "      <td>USD</td>\n",
       "      <td>Health Care</td>\n",
       "      <td>Biotechnology</td>\n",
       "      <td>North America</td>\n",
       "      <td>0.001099</td>\n",
       "      <td>0.254785</td>\n",
       "      <td>...</td>\n",
       "      <td>2.026112</td>\n",
       "      <td>96.964499</td>\n",
       "      <td>5.203772</td>\n",
       "      <td>3.970119</td>\n",
       "      <td>189.999664</td>\n",
       "      <td>1.111384e+05</td>\n",
       "      <td>13374.913890</td>\n",
       "      <td>5.0</td>\n",
       "      <td>2.0</td>\n",
       "      <td>0.075000</td>\n",
       "    </tr>\n",
       "    <tr>\n",
       "      <th>228</th>\n",
       "      <td>CSU CN Equity</td>\n",
       "      <td>Constellation Software Inc</td>\n",
       "      <td>CA21037X1006</td>\n",
       "      <td>CANADA</td>\n",
       "      <td>CAD</td>\n",
       "      <td>Information Technology</td>\n",
       "      <td>Software</td>\n",
       "      <td>North America</td>\n",
       "      <td>0.000895</td>\n",
       "      <td>0.324291</td>\n",
       "      <td>...</td>\n",
       "      <td>3.295466</td>\n",
       "      <td>47.809818</td>\n",
       "      <td>0.494831</td>\n",
       "      <td>5.729231</td>\n",
       "      <td>83.118282</td>\n",
       "      <td>6.524871e+04</td>\n",
       "      <td>8850.330312</td>\n",
       "      <td>1.5</td>\n",
       "      <td>1.0</td>\n",
       "      <td>0.075000</td>\n",
       "    </tr>\n",
       "    <tr>\n",
       "      <th>448</th>\n",
       "      <td>DECK US Equity</td>\n",
       "      <td>Deckers Outdoor Corp</td>\n",
       "      <td>US2435371073</td>\n",
       "      <td>UNITED STATES</td>\n",
       "      <td>USD</td>\n",
       "      <td>Consumer Discretionary</td>\n",
       "      <td>Apparel</td>\n",
       "      <td>North America</td>\n",
       "      <td>0.000447</td>\n",
       "      <td>0.255144</td>\n",
       "      <td>...</td>\n",
       "      <td>0.053488</td>\n",
       "      <td>511.354258</td>\n",
       "      <td>0.102178</td>\n",
       "      <td>0.063306</td>\n",
       "      <td>605.218692</td>\n",
       "      <td>2.259569e+04</td>\n",
       "      <td>4501.964276</td>\n",
       "      <td>2.5</td>\n",
       "      <td>2.0</td>\n",
       "      <td>0.075000</td>\n",
       "    </tr>\n",
       "    <tr>\n",
       "      <th>496</th>\n",
       "      <td>AHT LN Equity</td>\n",
       "      <td>Ashtead Group PLC</td>\n",
       "      <td>GB0000536739</td>\n",
       "      <td>BRITAIN</td>\n",
       "      <td>GBp</td>\n",
       "      <td>Industrials</td>\n",
       "      <td>Commercial Services</td>\n",
       "      <td>Europe</td>\n",
       "      <td>0.000396</td>\n",
       "      <td>0.243019</td>\n",
       "      <td>...</td>\n",
       "      <td>3.817674</td>\n",
       "      <td>225.446657</td>\n",
       "      <td>32.763286</td>\n",
       "      <td>3.540987</td>\n",
       "      <td>209.107333</td>\n",
       "      <td>4.091171e+04</td>\n",
       "      <td>10401.337510</td>\n",
       "      <td>1.5</td>\n",
       "      <td>2.5</td>\n",
       "      <td>0.042265</td>\n",
       "    </tr>\n",
       "    <tr>\n",
       "      <th>1070</th>\n",
       "      <td>SCAA SS Equity</td>\n",
       "      <td>Svenska Cellulosa AB SCA</td>\n",
       "      <td>SE0000171886</td>\n",
       "      <td>SWEDEN</td>\n",
       "      <td>SEK</td>\n",
       "      <td>Materials</td>\n",
       "      <td>Forest Products&amp;Paper</td>\n",
       "      <td>Europe</td>\n",
       "      <td>0.000107</td>\n",
       "      <td>0.201029</td>\n",
       "      <td>...</td>\n",
       "      <td>13.637987</td>\n",
       "      <td>709.131333</td>\n",
       "      <td>151.772557</td>\n",
       "      <td>19.412769</td>\n",
       "      <td>1009.401363</td>\n",
       "      <td>1.026117e+04</td>\n",
       "      <td>1699.912060</td>\n",
       "      <td>5.0</td>\n",
       "      <td>5.0</td>\n",
       "      <td>0.047196</td>\n",
       "    </tr>\n",
       "    <tr>\n",
       "      <th>1076</th>\n",
       "      <td>REA AU Equity</td>\n",
       "      <td>REA Group Ltd</td>\n",
       "      <td>AU000000REA9</td>\n",
       "      <td>AUSTRALIA</td>\n",
       "      <td>AUD</td>\n",
       "      <td>Communication Services</td>\n",
       "      <td>Real Estate</td>\n",
       "      <td>Asia-Pacific</td>\n",
       "      <td>0.000106</td>\n",
       "      <td>0.305201</td>\n",
       "      <td>...</td>\n",
       "      <td>0.254912</td>\n",
       "      <td>4.457368</td>\n",
       "      <td>0.012251</td>\n",
       "      <td>0.935907</td>\n",
       "      <td>16.365188</td>\n",
       "      <td>1.560601e+04</td>\n",
       "      <td>1002.342900</td>\n",
       "      <td>2.5</td>\n",
       "      <td>1.0</td>\n",
       "      <td>0.075000</td>\n",
       "    </tr>\n",
       "    <tr>\n",
       "      <th>1203</th>\n",
       "      <td>SAGAA SS Equity</td>\n",
       "      <td>Sagax AB</td>\n",
       "      <td>SE0004635878</td>\n",
       "      <td>SWEDEN</td>\n",
       "      <td>SEK</td>\n",
       "      <td>Real Estate</td>\n",
       "      <td>Real Estate</td>\n",
       "      <td>Europe</td>\n",
       "      <td>0.000056</td>\n",
       "      <td>0.290261</td>\n",
       "      <td>...</td>\n",
       "      <td>0.012423</td>\n",
       "      <td>37.269387</td>\n",
       "      <td>0.013970</td>\n",
       "      <td>0.097790</td>\n",
       "      <td>293.373230</td>\n",
       "      <td>1.433699e+04</td>\n",
       "      <td>429.493720</td>\n",
       "      <td>1.0</td>\n",
       "      <td>2.5</td>\n",
       "      <td>0.075000</td>\n",
       "    </tr>\n",
       "    <tr>\n",
       "      <th>1236</th>\n",
       "      <td>VIV FP Equity</td>\n",
       "      <td>Vivendi SE</td>\n",
       "      <td>FR0000127771</td>\n",
       "      <td>FRANCE</td>\n",
       "      <td>EUR</td>\n",
       "      <td>Communication Services</td>\n",
       "      <td>Media</td>\n",
       "      <td>Europe</td>\n",
       "      <td>0.000025</td>\n",
       "      <td>0.607743</td>\n",
       "      <td>...</td>\n",
       "      <td>5.243136</td>\n",
       "      <td>530.161246</td>\n",
       "      <td>0.692344</td>\n",
       "      <td>1.482912</td>\n",
       "      <td>149.945056</td>\n",
       "      <td>1.782760e+04</td>\n",
       "      <td>14864.000000</td>\n",
       "      <td>3.0</td>\n",
       "      <td>1.0</td>\n",
       "      <td>0.075000</td>\n",
       "    </tr>\n",
       "  </tbody>\n",
       "</table>\n",
       "<p>15 rows × 102 columns</p>\n",
       "</div>"
      ],
      "text/plain": [
       "               ticker                           name          isin  \\\n",
       "1      NVDA US Equity                    NVIDIA Corp  US67066G1040   \n",
       "7      AVGO US Equity                   Broadcom Inc  US11135F1012   \n",
       "14       MA US Equity                 Mastercard Inc  US57636Q1040   \n",
       "19     NFLX US Equity                    Netflix Inc  US64110L1061   \n",
       "22      CRM US Equity                 Salesforce Inc  US79466L3024   \n",
       "151    MELI US Equity               MercadoLibre Inc  US58733R1023   \n",
       "155     CMG US Equity     Chipotle Mexican Grill Inc  US1696561059   \n",
       "173    REGN US Equity  Regeneron Pharmaceuticals Inc  US75886F1075   \n",
       "228     CSU CN Equity     Constellation Software Inc  CA21037X1006   \n",
       "448    DECK US Equity           Deckers Outdoor Corp  US2435371073   \n",
       "496     AHT LN Equity              Ashtead Group PLC  GB0000536739   \n",
       "1070   SCAA SS Equity       Svenska Cellulosa AB SCA  SE0000171886   \n",
       "1076    REA AU Equity                  REA Group Ltd  AU000000REA9   \n",
       "1203  SAGAA SS Equity                       Sagax AB  SE0004635878   \n",
       "1236    VIV FP Equity                     Vivendi SE  FR0000127771   \n",
       "\n",
       "            country currency        gics_sector_name          industry_group  \\\n",
       "1     UNITED STATES      USD  Information Technology          Semiconductors   \n",
       "7     UNITED STATES      USD  Information Technology          Semiconductors   \n",
       "14    UNITED STATES      USD              Financials  Diversified Finan Serv   \n",
       "19    UNITED STATES      USD  Communication Services                Internet   \n",
       "22    UNITED STATES      USD  Information Technology                Software   \n",
       "151         URUGUAY      USD  Consumer Discretionary                Internet   \n",
       "155   UNITED STATES      USD  Consumer Discretionary                  Retail   \n",
       "173   UNITED STATES      USD             Health Care           Biotechnology   \n",
       "228          CANADA      CAD  Information Technology                Software   \n",
       "448   UNITED STATES      USD  Consumer Discretionary                 Apparel   \n",
       "496         BRITAIN      GBp             Industrials     Commercial Services   \n",
       "1070         SWEDEN      SEK               Materials   Forest Products&Paper   \n",
       "1076      AUSTRALIA      AUD  Communication Services             Real Estate   \n",
       "1203         SWEDEN      SEK             Real Estate             Real Estate   \n",
       "1236         FRANCE      EUR  Communication Services                   Media   \n",
       "\n",
       "          region_en  Weight in MSCI World  Annualized return 20Y  ...  \\\n",
       "1     North America              0.046132               0.396705  ...   \n",
       "7     North America              0.015473               0.317303  ...   \n",
       "14    North America              0.006298               0.289978  ...   \n",
       "19    North America              0.005515               0.376162  ...   \n",
       "22    North America              0.004466               0.256363  ...   \n",
       "151   Latin America              0.001209               0.269122  ...   \n",
       "155   North America              0.001189               0.284092  ...   \n",
       "173   North America              0.001099               0.254785  ...   \n",
       "228   North America              0.000895               0.324291  ...   \n",
       "448   North America              0.000447               0.255144  ...   \n",
       "496          Europe              0.000396               0.243019  ...   \n",
       "1070         Europe              0.000107               0.201029  ...   \n",
       "1076   Asia-Pacific              0.000106               0.305201  ...   \n",
       "1203         Europe              0.000056               0.290261  ...   \n",
       "1236         Europe              0.000025               0.607743  ...   \n",
       "\n",
       "      FOOTPRINT_SCOPE_2  FOOTPRINT_SCOPE_3  INTENSITY_SCOPE_1  \\\n",
       "1              0.224788          34.721009           0.131528   \n",
       "7              0.942548          69.793000           1.179637   \n",
       "14             0.459141          24.730839           0.135197   \n",
       "19             0.415922         115.939906           0.711690   \n",
       "22             4.381089          59.867483           0.111356   \n",
       "151            0.752707         276.198071          25.613938   \n",
       "155            8.242878         109.326461          13.711046   \n",
       "173            2.026112          96.964499           5.203772   \n",
       "228            3.295466          47.809818           0.494831   \n",
       "448            0.053488         511.354258           0.102178   \n",
       "496            3.817674         225.446657          32.763286   \n",
       "1070          13.637987         709.131333         151.772557   \n",
       "1076           0.254912           4.457368           0.012251   \n",
       "1203           0.012423          37.269387           0.013970   \n",
       "1236           5.243136         530.161246           0.692344   \n",
       "\n",
       "      INTENSITY_SCOPE_2  INTENSITY_SCOPE_3            EV          SALES  \\\n",
       "1              1.627755         251.425343  3.359642e+06  109406.527100   \n",
       "7              3.735015         276.567279  8.371146e+05   49815.326600   \n",
       "14             1.843861          99.316304  4.479303e+05   26302.422900   \n",
       "19             0.836228         233.102162  3.089634e+05   36237.703140   \n",
       "22             7.794915         106.517341  2.710248e+05   35920.855100   \n",
       "151            0.973390         357.175439  1.005309e+05   18331.816100   \n",
       "155           14.566726         193.200545  7.951385e+04   10610.277240   \n",
       "173            3.970119         189.999664  1.111384e+05   13374.913890   \n",
       "228            5.729231          83.118282  6.524871e+04    8850.330312   \n",
       "448            0.063306         605.218692  2.259569e+04    4501.964276   \n",
       "496            3.540987         209.107333  4.091171e+04   10401.337510   \n",
       "1070          19.412769        1009.401363  1.026117e+04    1699.912060   \n",
       "1076           0.935907          16.365188  1.560601e+04    1002.342900   \n",
       "1203           0.097790         293.373230  1.433699e+04     429.493720   \n",
       "1236           1.482912         149.945056  1.782760e+04   14864.000000   \n",
       "\n",
       "      DURABLE_SOCIAL  DURABLE_ENVIRONNEMENTAL     Poids  \n",
       "1                2.5                      6.5  0.075000  \n",
       "7                2.5                      1.5  0.075000  \n",
       "14               2.5                      2.0  0.075000  \n",
       "19               2.5                      1.0  0.075000  \n",
       "22               2.5                      3.5  0.075000  \n",
       "151              2.5                      0.0  0.010539  \n",
       "155              2.5                      2.0  0.075000  \n",
       "173              5.0                      2.0  0.075000  \n",
       "228              1.5                      1.0  0.075000  \n",
       "448              2.5                      2.0  0.075000  \n",
       "496              1.5                      2.5  0.042265  \n",
       "1070             5.0                      5.0  0.047196  \n",
       "1076             2.5                      1.0  0.075000  \n",
       "1203             1.0                      2.5  0.075000  \n",
       "1236             3.0                      1.0  0.075000  \n",
       "\n",
       "[15 rows x 102 columns]"
      ]
     },
     "execution_count": 64,
     "metadata": {},
     "output_type": "execute_result"
    }
   ],
   "source": [
    "df_fin[df_fin['Poids']>0.001]"
   ]
  },
  {
   "cell_type": "code",
   "execution_count": 12,
   "metadata": {},
   "outputs": [
    {
     "name": "stdout",
     "output_type": "stream",
     "text": [
      "Return PTF : 0.1589968660964774\n",
      "TAXO : 8.88141198983\n",
      "ITR : 2.3882738824\n",
      "Poids : 0.999999286\n",
      "Investissement durable : 0.556473561\n",
      "E_SCORE : 6.702299149800001\n",
      "S_SCORE : 5.1125413661\n",
      "G_SCORE : 5.6482565943\n",
      "INTENSITY_SCOPE_1 : 75.69229832018408\n",
      "INTENSITY_SCOPE_2 : 19.946423978449946\n",
      "INTENSITY_SCOPE_3 : 756.2246020384931\n",
      "FOOTPRINT_SCOPE_1 : 118.00648809367438\n",
      "FOOTPRINT_SCOPE_2 : 27.010985263301677\n",
      "FOOTPRINT_SCOPE_3 : 1373.604056364562\n",
      "SDG_01_NET_ALIGNMENT_SCORE : 0.0775825055\n",
      "SDG_02_NET_ALIGNMENT_SCORE : 0.019335309000000002\n",
      "SDG_03_NET_ALIGNMENT_SCORE : -0.111505415\n",
      "SDG_04_NET_ALIGNMENT_SCORE : -0.022077644\n",
      "SDG_05_NET_ALIGNMENT_SCORE : 1.9017966155000001\n",
      "SDG_06_NET_ALIGNMENT_SCORE : 0.9266744179999999\n",
      "SDG_07_NET_ALIGNMENT_SCORE : 0.6206072210000001\n",
      "SDG_08_NET_ALIGNMENT_SCORE : 1.0800233255\n",
      "SDG_09_NET_ALIGNMENT_SCORE : 0.100041403\n",
      "SDG_10_NET_ALIGNMENT_SCORE : 1.0660665655\n",
      "SDG_11_NET_ALIGNMENT_SCORE : -0.03663600200000001\n",
      "SDG_12_NET_ALIGNMENT_SCORE : 1.034473784\n",
      "SDG_13_NET_ALIGNMENT_SCORE : 0.8416237785000001\n",
      "SDG_14_NET_ALIGNMENT_SCORE : -0.257901699\n",
      "SDG_15_NET_ALIGNMENT_SCORE : -0.3408436385\n",
      "SDG_16_NET_ALIGNMENT_SCORE : 0.057018434999999965\n",
      "SDG_17_NET_ALIGNMENT_SCORE : 0.07954162000000001\n"
     ]
    }
   ],
   "source": [
    "print(f\"Return PTF : {(df['Weight in MSCI World']*df['Annualized return 20Y']).sum()}\")\n",
    "print(f\"TAXO : {(df['Weight in MSCI World']*df['EST_EU_TAXONOMY_MAX_REV']).sum()}\") \n",
    "print(f\"ITR : {(df['Weight in MSCI World']*df['ITR']).sum()}\") \n",
    "print(f\"Poids : {(df['Weight in MSCI World']).sum()}\") \n",
    "df['INVEST_DURABLE'] = df[['SDG_07_NET_ALIGNMENT_SCORE', 'SDG_12_NET_ALIGNMENT_SCORE', 'SDG_13_NET_ALIGNMENT_SCORE']].max(axis=1)\n",
    "filtres_durables = (df['INVEST_DURABLE'] >= 2).astype(int)  # 1 si durable > 2, sinon 0.astype(int)  # 1 si durable > 2, sinon 0\n",
    "print(f\"Investissement durable : {(filtres_durables*df['Weight in MSCI World']).sum()}\") \n",
    "\n",
    "col_scores = ['E_SCORE', 'S_SCORE', 'G_SCORE']\n",
    "for col in col_scores:\n",
    "    print(f\"{col} : {(df[col]*df['Weight in MSCI World']).sum()}\") \n",
    "\n",
    "col_inten = ['INTENSITY_SCOPE_1', 'INTENSITY_SCOPE_2', 'INTENSITY_SCOPE_3']\n",
    "for col in col_inten:\n",
    "    print(f\"{col} : {(df[col]*df['Weight in MSCI World']).sum()}\") \n",
    "\n",
    "col_foot = ['FOOTPRINT_SCOPE_1', 'FOOTPRINT_SCOPE_2', 'FOOTPRINT_SCOPE_3']\n",
    "for col in col_foot:\n",
    "    print(f\"{col} : {(df[col]*df['Weight in MSCI World']).sum()}\")\n",
    "\n",
    "for col in odds:\n",
    "    print(f\"{col} : {(df[col]*df['Weight in MSCI World']).sum()}\")"
   ]
  },
  {
   "cell_type": "code",
   "execution_count": 65,
   "metadata": {},
   "outputs": [
    {
     "data": {
      "text/plain": [
       "gics_sector_name\n",
       "Communication Services    22.50\n",
       "Consumer Discretionary    16.05\n",
       "Consumer Staples           0.00\n",
       "Energy                     0.00\n",
       "Financials                 7.50\n",
       "Health Care                7.50\n",
       "Industrials                4.23\n",
       "Information Technology    30.00\n",
       "Materials                  4.72\n",
       "Real Estate                7.50\n",
       "Utilities                  0.00\n",
       "Name: Poids, dtype: float64"
      ]
     },
     "execution_count": 65,
     "metadata": {},
     "output_type": "execute_result"
    }
   ],
   "source": [
    "# Repartition sectorielle\n",
    "round((df_fin.groupby('gics_sector_name')['Poids'].sum())*100,2)"
   ]
  },
  {
   "cell_type": "code",
   "execution_count": 66,
   "metadata": {},
   "outputs": [
    {
     "data": {
      "text/plain": [
       "industry_group\n",
       "Apparel                    7.50\n",
       "Biotechnology              7.50\n",
       "Commercial Services        4.23\n",
       "Diversified Finan Serv     7.50\n",
       "Forest Products&Paper      4.72\n",
       "Internet                   8.55\n",
       "Media                      7.50\n",
       "Real Estate               15.00\n",
       "Retail                     7.50\n",
       "Semiconductors            15.00\n",
       "Software                  15.00\n",
       "Name: Poids, dtype: float64"
      ]
     },
     "execution_count": 66,
     "metadata": {},
     "output_type": "execute_result"
    }
   ],
   "source": [
    "# Sous secteur\n",
    "df_sect = df_fin.groupby('industry_group')['Poids'].sum()\n",
    "round(df_sect[df_sect>0.01]*100,2)"
   ]
  },
  {
   "cell_type": "code",
   "execution_count": 67,
   "metadata": {},
   "outputs": [
    {
     "data": {
      "text/plain": [
       "country\n",
       "AUSTRALIA         7.50\n",
       "BRITAIN           4.23\n",
       "CANADA            7.50\n",
       "FRANCE            7.50\n",
       "SWEDEN           12.22\n",
       "UNITED STATES    60.00\n",
       "URUGUAY           1.05\n",
       "Name: Poids, dtype: float64"
      ]
     },
     "execution_count": 67,
     "metadata": {},
     "output_type": "execute_result"
    }
   ],
   "source": [
    "# Repartition geo\n",
    "df_geo = df_fin.groupby('country')['Poids'].sum()\n",
    "round(df_geo[df_geo>0.01]*100,2)"
   ]
  },
  {
   "cell_type": "code",
   "execution_count": 69,
   "metadata": {},
   "outputs": [
    {
     "data": {
      "text/plain": [
       "IVA_COMPANY_RATING\n",
       "A      16.05\n",
       "AA     34.23\n",
       "AAA    19.72\n",
       "BB      7.50\n",
       "BBB    22.50\n",
       "Name: Poids, dtype: float64"
      ]
     },
     "execution_count": 69,
     "metadata": {},
     "output_type": "execute_result"
    }
   ],
   "source": [
    "# Repartition geo\n",
    "df_esg = df_fin.groupby('IVA_COMPANY_RATING')['Poids'].sum()\n",
    "round(df_esg[df_esg>0.01]*100,2)"
   ]
  },
  {
   "cell_type": "code",
   "execution_count": 70,
   "metadata": {},
   "outputs": [
    {
     "data": {
      "text/plain": [
       "1       78.01\n",
       "7        0.45\n",
       "14       0.00\n",
       "19       0.00\n",
       "22      18.97\n",
       "151      0.00\n",
       "155      0.00\n",
       "173      0.00\n",
       "228      0.00\n",
       "448      0.00\n",
       "496      1.77\n",
       "1070    69.48\n",
       "1076     0.00\n",
       "1203    17.85\n",
       "1236     0.00\n",
       "Name: EST_EU_TAXONOMY_MAX_REV, dtype: float64"
      ]
     },
     "execution_count": 70,
     "metadata": {},
     "output_type": "execute_result"
    }
   ],
   "source": [
    "df_fin[df_fin['Poids']>0.001]['EST_EU_TAXONOMY_MAX_REV']"
   ]
  },
  {
   "cell_type": "code",
   "execution_count": 71,
   "metadata": {},
   "outputs": [
    {
     "name": "stderr",
     "output_type": "stream",
     "text": [
      "C:\\Users\\bapdu\\AppData\\Local\\Temp\\ipykernel_18696\\3671985498.py:43: UserWarning: Glyph 128202 (\\N{BAR CHART}) missing from font(s) DejaVu Sans.\n",
      "  plt.tight_layout()\n",
      "C:\\Users\\thibc\\AppData\\Roaming\\Python\\Python312\\site-packages\\IPython\\core\\pylabtools.py:170: UserWarning: Glyph 128202 (\\N{BAR CHART}) missing from font(s) DejaVu Sans.\n",
      "  fig.canvas.print_figure(bytes_io, **kw)\n"
     ]
    },
    {
     "data": {
      "image/png": "[encoded data removed]",
      "text/plain": [
       "<Figure size 1200x600 with 1 Axes>"
      ]
     },
     "metadata": {},
     "output_type": "display_data"
    }
   ],
   "source": [
    "import matplotlib.pyplot as plt\n",
    "import numpy as np\n",
    "import pandas as pd\n",
    "\n",
    "\n",
    "# 📌 Calcul des valeurs pour df6 (portefeuille optimisé)\n",
    "df_fin_values = [\n",
    "    (df_fin['Poids'] * df_fin[metric]).sum() if metric in df_fin.columns else None for metric in odds\n",
    "]\n",
    "\n",
    "# 📌 Calcul des valeurs pour df (MSCI World)\n",
    "df_values = [\n",
    "    (df['Weight in MSCI World'] * df[metric]).sum() if metric in df.columns else None for metric in odds\n",
    "]\n",
    "\n",
    "# 📌 Création du graphique\n",
    "x = np.arange(len(odds))  # Indices des barres\n",
    "width = 0.4  # Largeur des barres\n",
    "\n",
    "fig, ax = plt.subplots(figsize=(12, 6))\n",
    "\n",
    "# 🔹 Barres pour le portefeuille optimisé (df6)\n",
    "bars1 = ax.bar(x - width/2, df_fin_values, width, label=\"Portefeuille Optimisé\", color='blue')\n",
    "\n",
    "# 🔹 Barres pour MSCI World (df)\n",
    "bars2 = ax.bar(x + width/2, df_values, width, label=\"MSCI World\", color='orange')\n",
    "\n",
    "# 📌 Personnalisation du graphique\n",
    "ax.set_xlabel(\"Métriques\")\n",
    "ax.set_ylabel(\"Valeurs Pondérées\")\n",
    "ax.set_title(\"📊 Comparaison entre le Portefeuille Optimisé et MSCI World pour les ODD\")\n",
    "ax.set_xticks(x)\n",
    "ax.set_xticklabels([\"ODD_\"+x.split(\"_\")[1] for x in odds], rotation=45, ha=\"right\")\n",
    "ax.legend()\n",
    "\n",
    "# 📌 Ajouter les valeurs sur les barres\n",
    "for bars in [bars1, bars2]:\n",
    "    for bar in bars:\n",
    "        yval = bar.get_height()\n",
    "        ax.text(bar.get_x() + bar.get_width()/2, yval, f\"{yval:.2f}\", ha=\"center\", va=\"bottom\", fontsize=9)\n",
    "\n",
    "# 📌 Affichage\n",
    "plt.tight_layout()\n",
    "plt.show()\n"
   ]
  },
  {
   "cell_type": "code",
   "execution_count": 27,
   "metadata": {},
   "outputs": [
    {
     "data": {
      "application/vnd.plotly.v1+json": {
       "config": {
        "plotlyServerURL": "https://plot.ly"
       },
       "data": [
        {
         "marker": {
          "color": "blue"
         },
         "name": "Fonds article 9",
         "type": "bar",
         "x": [
          "ODD_01",
          "ODD_02",
          "ODD_03",
          "ODD_04",
          "ODD_05",
          "ODD_06",
          "ODD_07",
          "ODD_08",
          "ODD_09",
          "ODD_10",
          "ODD_11",
          "ODD_12",
          "ODD_13",
          "ODD_14",
          "ODD_15",
          "ODD_16",
          "ODD_17"
         ],
         "y": [
          0.8240090114326927,
          -0.0749999999999396,
          0.46431495099851927,
          0.30274390244325866,
          2.312500000000453,
          0.5924359150090425,
          1.313944479739114,
          1.7129142524354193,
          0.949733299170507,
          1.8759889406996382,
          0.11250000000011386,
          2.004544460960634,
          1.7677439024434904,
          -0.07499999999999313,
          -3.260206361951678e-14,
          0.9324036491622445,
          2.0057450382564253
         ]
        },
        {
         "marker": {
          "color": "orange"
         },
         "name": "MSCI World",
         "type": "bar",
         "x": [
          "ODD_01",
          "ODD_02",
          "ODD_03",
          "ODD_04",
          "ODD_05",
          "ODD_06",
          "ODD_07",
          "ODD_08",
          "ODD_09",
          "ODD_10",
          "ODD_11",
          "ODD_12",
          "ODD_13",
          "ODD_14",
          "ODD_15",
          "ODD_16",
          "ODD_17"
         ],
         "y": [
          0.0775825055,
          0.019335309000000002,
          -0.111505415,
          -0.022077644,
          1.9017966155000001,
          0.9266744179999999,
          0.6206072210000001,
          1.0800233255,
          0.100041403,
          1.0660665655,
          -0.03663600200000001,
          1.034473784,
          0.8416237785000001,
          -0.257901699,
          -0.3408436385,
          0.057018434999999965,
          0.07954162000000001
         ]
        }
       ],
       "layout": {
        "barmode": "group",
        "font": {
         "color": "black",
         "family": "Arial, sans-serif",
         "size": 12
        },
        "legend": {
         "bgcolor": "rgba(255,255,255,0.7)",
         "bordercolor": "black",
         "borderwidth": 1,
         "title": {
          "text": "Légende"
         },
         "x": 0.02,
         "y": 0.98
        },
        "template": {
         "data": {
          "bar": [
           {
            "error_x": {
             "color": "#2a3f5f"
            },
            "error_y": {
             "color": "#2a3f5f"
            },
            "marker": {
             "line": {
              "color": "white",
              "width": 0.5
             },
             "pattern": {
              "fillmode": "overlay",
              "size": 10,
              "solidity": 0.2
             }
            },
            "type": "bar"
           }
          ],
          "barpolar": [
           {
            "marker": {
             "line": {
              "color": "white",
              "width": 0.5
             },
             "pattern": {
              "fillmode": "overlay",
              "size": 10,
              "solidity": 0.2
             }
            },
            "type": "barpolar"
           }
          ],
          "carpet": [
           {
            "aaxis": {
             "endlinecolor": "#2a3f5f",
             "gridcolor": "#C8D4E3",
             "linecolor": "#C8D4E3",
             "minorgridcolor": "#C8D4E3",
             "startlinecolor": "#2a3f5f"
            },
            "baxis": {
             "endlinecolor": "#2a3f5f",
             "gridcolor": "#C8D4E3",
             "linecolor": "#C8D4E3",
             "minorgridcolor": "#C8D4E3",
             "startlinecolor": "#2a3f5f"
            },
            "type": "carpet"
           }
          ],
          "choropleth": [
           {
            "colorbar": {
             "outlinewidth": 0,
             "ticks": ""
            },
            "type": "choropleth"
           }
          ],
          "contour": [
           {
            "colorbar": {
             "outlinewidth": 0,
             "ticks": ""
            },
            "colorscale": [
             [
              0,
              "#0d0887"
             ],
             [
              0.1111111111111111,
              "#46039f"
             ],
             [
              0.2222222222222222,
              "#7201a8"
             ],
             [
              0.3333333333333333,
              "#9c179e"
             ],
             [
              0.4444444444444444,
              "#bd3786"
             ],
             [
              0.5555555555555556,
              "#d8576b"
             ],
             [
              0.6666666666666666,
              "#ed7953"
             ],
             [
              0.7777777777777778,
              "#fb9f3a"
             ],
             [
              0.8888888888888888,
              "#fdca26"
             ],
             [
              1,
              "#f0f921"
             ]
            ],
            "type": "contour"
           }
          ],
          "contourcarpet": [
           {
            "colorbar": {
             "outlinewidth": 0,
             "ticks": ""
            },
            "type": "contourcarpet"
           }
          ],
          "heatmap": [
           {
            "colorbar": {
             "outlinewidth": 0,
             "ticks": ""
            },
            "colorscale": [
             [
              0,
              "#0d0887"
             ],
             [
              0.1111111111111111,
              "#46039f"
             ],
             [
              0.2222222222222222,
              "#7201a8"
             ],
             [
              0.3333333333333333,
              "#9c179e"
             ],
             [
              0.4444444444444444,
              "#bd3786"
             ],
             [
              0.5555555555555556,
              "#d8576b"
             ],
             [
              0.6666666666666666,
              "#ed7953"
             ],
             [
              0.7777777777777778,
              "#fb9f3a"
             ],
             [
              0.8888888888888888,
              "#fdca26"
             ],
             [
              1,
              "#f0f921"
             ]
            ],
            "type": "heatmap"
           }
          ],
          "heatmapgl": [
           {
            "colorbar": {
             "outlinewidth": 0,
             "ticks": ""
            },
            "colorscale": [
             [
              0,
              "#0d0887"
             ],
             [
              0.1111111111111111,
              "#46039f"
             ],
             [
              0.2222222222222222,
              "#7201a8"
             ],
             [
              0.3333333333333333,
              "#9c179e"
             ],
             [
              0.4444444444444444,
              "#bd3786"
             ],
             [
              0.5555555555555556,
              "#d8576b"
             ],
             [
              0.6666666666666666,
              "#ed7953"
             ],
             [
              0.7777777777777778,
              "#fb9f3a"
             ],
             [
              0.8888888888888888,
              "#fdca26"
             ],
             [
              1,
              "#f0f921"
             ]
            ],
            "type": "heatmapgl"
           }
          ],
          "histogram": [
           {
            "marker": {
             "pattern": {
              "fillmode": "overlay",
              "size": 10,
              "solidity": 0.2
             }
            },
            "type": "histogram"
           }
          ],
          "histogram2d": [
           {
            "colorbar": {
             "outlinewidth": 0,
             "ticks": ""
            },
            "colorscale": [
             [
              0,
              "#0d0887"
             ],
             [
              0.1111111111111111,
              "#46039f"
             ],
             [
              0.2222222222222222,
              "#7201a8"
             ],
             [
              0.3333333333333333,
              "#9c179e"
             ],
             [
              0.4444444444444444,
              "#bd3786"
             ],
             [
              0.5555555555555556,
              "#d8576b"
             ],
             [
              0.6666666666666666,
              "#ed7953"
             ],
             [
              0.7777777777777778,
              "#fb9f3a"
             ],
             [
              0.8888888888888888,
              "#fdca26"
             ],
             [
              1,
              "#f0f921"
             ]
            ],
            "type": "histogram2d"
           }
          ],
          "histogram2dcontour": [
           {
            "colorbar": {
             "outlinewidth": 0,
             "ticks": ""
            },
            "colorscale": [
             [
              0,
              "#0d0887"
             ],
             [
              0.1111111111111111,
              "#46039f"
             ],
             [
              0.2222222222222222,
              "#7201a8"
             ],
             [
              0.3333333333333333,
              "#9c179e"
             ],
             [
              0.4444444444444444,
              "#bd3786"
             ],
             [
              0.5555555555555556,
              "#d8576b"
             ],
             [
              0.6666666666666666,
              "#ed7953"
             ],
             [
              0.7777777777777778,
              "#fb9f3a"
             ],
             [
              0.8888888888888888,
              "#fdca26"
             ],
             [
              1,
              "#f0f921"
             ]
            ],
            "type": "histogram2dcontour"
           }
          ],
          "mesh3d": [
           {
            "colorbar": {
             "outlinewidth": 0,
             "ticks": ""
            },
            "type": "mesh3d"
           }
          ],
          "parcoords": [
           {
            "line": {
             "colorbar": {
              "outlinewidth": 0,
              "ticks": ""
             }
            },
            "type": "parcoords"
           }
          ],
          "pie": [
           {
            "automargin": true,
            "type": "pie"
           }
          ],
          "scatter": [
           {
            "fillpattern": {
             "fillmode": "overlay",
             "size": 10,
             "solidity": 0.2
            },
            "type": "scatter"
           }
          ],
          "scatter3d": [
           {
            "line": {
             "colorbar": {
              "outlinewidth": 0,
              "ticks": ""
             }
            },
            "marker": {
             "colorbar": {
              "outlinewidth": 0,
              "ticks": ""
             }
            },
            "type": "scatter3d"
           }
          ],
          "scattercarpet": [
           {
            "marker": {
             "colorbar": {
              "outlinewidth": 0,
              "ticks": ""
             }
            },
            "type": "scattercarpet"
           }
          ],
          "scattergeo": [
           {
            "marker": {
             "colorbar": {
              "outlinewidth": 0,
              "ticks": ""
             }
            },
            "type": "scattergeo"
           }
          ],
          "scattergl": [
           {
            "marker": {
             "colorbar": {
              "outlinewidth": 0,
              "ticks": ""
             }
            },
            "type": "scattergl"
           }
          ],
          "scattermapbox": [
           {
            "marker": {
             "colorbar": {
              "outlinewidth": 0,
              "ticks": ""
             }
            },
            "type": "scattermapbox"
           }
          ],
          "scatterpolar": [
           {
            "marker": {
             "colorbar": {
              "outlinewidth": 0,
              "ticks": ""
             }
            },
            "type": "scatterpolar"
           }
          ],
          "scatterpolargl": [
           {
            "marker": {
             "colorbar": {
              "outlinewidth": 0,
              "ticks": ""
             }
            },
            "type": "scatterpolargl"
           }
          ],
          "scatterternary": [
           {
            "marker": {
             "colorbar": {
              "outlinewidth": 0,
              "ticks": ""
             }
            },
            "type": "scatterternary"
           }
          ],
          "surface": [
           {
            "colorbar": {
             "outlinewidth": 0,
             "ticks": ""
            },
            "colorscale": [
             [
              0,
              "#0d0887"
             ],
             [
              0.1111111111111111,
              "#46039f"
             ],
             [
              0.2222222222222222,
              "#7201a8"
             ],
             [
              0.3333333333333333,
              "#9c179e"
             ],
             [
              0.4444444444444444,
              "#bd3786"
             ],
             [
              0.5555555555555556,
              "#d8576b"
             ],
             [
              0.6666666666666666,
              "#ed7953"
             ],
             [
              0.7777777777777778,
              "#fb9f3a"
             ],
             [
              0.8888888888888888,
              "#fdca26"
             ],
             [
              1,
              "#f0f921"
             ]
            ],
            "type": "surface"
           }
          ],
          "table": [
           {
            "cells": {
             "fill": {
              "color": "#EBF0F8"
             },
             "line": {
              "color": "white"
             }
            },
            "header": {
             "fill": {
              "color": "#C8D4E3"
             },
             "line": {
              "color": "white"
             }
            },
            "type": "table"
           }
          ]
         },
         "layout": {
          "annotationdefaults": {
           "arrowcolor": "#2a3f5f",
           "arrowhead": 0,
           "arrowwidth": 1
          },
          "autotypenumbers": "strict",
          "coloraxis": {
           "colorbar": {
            "outlinewidth": 0,
            "ticks": ""
           }
          },
          "colorscale": {
           "diverging": [
            [
             0,
             "#8e0152"
            ],
            [
             0.1,
             "#c51b7d"
            ],
            [
             0.2,
             "#de77ae"
            ],
            [
             0.3,
             "#f1b6da"
            ],
            [
             0.4,
             "#fde0ef"
            ],
            [
             0.5,
             "#f7f7f7"
            ],
            [
             0.6,
             "#e6f5d0"
            ],
            [
             0.7,
             "#b8e186"
            ],
            [
             0.8,
             "#7fbc41"
            ],
            [
             0.9,
             "#4d9221"
            ],
            [
             1,
             "#276419"
            ]
           ],
           "sequential": [
            [
             0,
             "#0d0887"
            ],
            [
             0.1111111111111111,
             "#46039f"
            ],
            [
             0.2222222222222222,
             "#7201a8"
            ],
            [
             0.3333333333333333,
             "#9c179e"
            ],
            [
             0.4444444444444444,
             "#bd3786"
            ],
            [
             0.5555555555555556,
             "#d8576b"
            ],
            [
             0.6666666666666666,
             "#ed7953"
            ],
            [
             0.7777777777777778,
             "#fb9f3a"
            ],
            [
             0.8888888888888888,
             "#fdca26"
            ],
            [
             1,
             "#f0f921"
            ]
           ],
           "sequentialminus": [
            [
             0,
             "#0d0887"
            ],
            [
             0.1111111111111111,
             "#46039f"
            ],
            [
             0.2222222222222222,
             "#7201a8"
            ],
            [
             0.3333333333333333,
             "#9c179e"
            ],
            [
             0.4444444444444444,
             "#bd3786"
            ],
            [
             0.5555555555555556,
             "#d8576b"
            ],
            [
             0.6666666666666666,
             "#ed7953"
            ],
            [
             0.7777777777777778,
             "#fb9f3a"
            ],
            [
             0.8888888888888888,
             "#fdca26"
            ],
            [
             1,
             "#f0f921"
            ]
           ]
          },
          "colorway": [
           "#636efa",
           "#EF553B",
           "#00cc96",
           "#ab63fa",
           "#FFA15A",
           "#19d3f3",
           "#FF6692",
           "#B6E880",
           "#FF97FF",
           "#FECB52"
          ],
          "font": {
           "color": "#2a3f5f"
          },
          "geo": {
           "bgcolor": "white",
           "lakecolor": "white",
           "landcolor": "white",
           "showlakes": true,
           "showland": true,
           "subunitcolor": "#C8D4E3"
          },
          "hoverlabel": {
           "align": "left"
          },
          "hovermode": "closest",
          "mapbox": {
           "style": "light"
          },
          "paper_bgcolor": "white",
          "plot_bgcolor": "white",
          "polar": {
           "angularaxis": {
            "gridcolor": "#EBF0F8",
            "linecolor": "#EBF0F8",
            "ticks": ""
           },
           "bgcolor": "white",
           "radialaxis": {
            "gridcolor": "#EBF0F8",
            "linecolor": "#EBF0F8",
            "ticks": ""
           }
          },
          "scene": {
           "xaxis": {
            "backgroundcolor": "white",
            "gridcolor": "#DFE8F3",
            "gridwidth": 2,
            "linecolor": "#EBF0F8",
            "showbackground": true,
            "ticks": "",
            "zerolinecolor": "#EBF0F8"
           },
           "yaxis": {
            "backgroundcolor": "white",
            "gridcolor": "#DFE8F3",
            "gridwidth": 2,
            "linecolor": "#EBF0F8",
            "showbackground": true,
            "ticks": "",
            "zerolinecolor": "#EBF0F8"
           },
           "zaxis": {
            "backgroundcolor": "white",
            "gridcolor": "#DFE8F3",
            "gridwidth": 2,
            "linecolor": "#EBF0F8",
            "showbackground": true,
            "ticks": "",
            "zerolinecolor": "#EBF0F8"
           }
          },
          "shapedefaults": {
           "line": {
            "color": "#2a3f5f"
           }
          },
          "ternary": {
           "aaxis": {
            "gridcolor": "#DFE8F3",
            "linecolor": "#A2B1C6",
            "ticks": ""
           },
           "baxis": {
            "gridcolor": "#DFE8F3",
            "linecolor": "#A2B1C6",
            "ticks": ""
           },
           "bgcolor": "white",
           "caxis": {
            "gridcolor": "#DFE8F3",
            "linecolor": "#A2B1C6",
            "ticks": ""
           }
          },
          "title": {
           "x": 0.05
          },
          "xaxis": {
           "automargin": true,
           "gridcolor": "#EBF0F8",
           "linecolor": "#EBF0F8",
           "ticks": "",
           "title": {
            "standoff": 15
           },
           "zerolinecolor": "#EBF0F8",
           "zerolinewidth": 2
          },
          "yaxis": {
           "automargin": true,
           "gridcolor": "#EBF0F8",
           "linecolor": "#EBF0F8",
           "ticks": "",
           "title": {
            "standoff": 15
           },
           "zerolinecolor": "#EBF0F8",
           "zerolinewidth": 2
          }
         }
        },
        "title": {
         "text": "Comparaison entre notre fonds article 9 et et MSCI World pour les ODD"
        },
        "xaxis": {
         "title": {
          "text": "ODD"
         }
        },
        "yaxis": {
         "title": {
          "text": "Score moyen"
         }
        }
       }
      }
     },
     "metadata": {},
     "output_type": "display_data"
    }
   ],
   "source": [
    "import plotly.graph_objects as go\n",
    "import numpy as np\n",
    "\n",
    "# 📌 Calcul des valeurs pour df6 (portefeuille optimisé)\n",
    "df6_values = [\n",
    "    (df6['Poids'] * df6[metric]).sum() if metric in df6.columns else None for metric in odds\n",
    "]\n",
    "\n",
    "# 📌 Calcul des valeurs pour df (MSCI World)\n",
    "df_values = [\n",
    "    (df['Weight in MSCI World'] * df[metric]).sum() if metric in df.columns else None for metric in odds\n",
    "]\n",
    "\n",
    "# 📌 Création du graphique\n",
    "x = np.arange(len(odds))  # Indices des barres\n",
    "\n",
    "fig = go.Figure()\n",
    "\n",
    "# 🔹 Barres pour le portefeuille optimisé (df6)\n",
    "fig.add_trace(go.Bar(\n",
    "    x=[\"ODD_\" + x.split(\"_\")[1] for x in odds],\n",
    "    y=df6_values,\n",
    "    name=\"Fonds article 9\",\n",
    "    marker_color='blue'\n",
    "))\n",
    "\n",
    "# 🔹 Barres pour MSCI World (df)\n",
    "fig.add_trace(go.Bar(\n",
    "    x=[\"ODD_\" + x.split(\"_\")[1] for x in odds],\n",
    "    y=df_values,\n",
    "    name=\"MSCI World\",\n",
    "    marker_color='orange'\n",
    "))\n",
    "\n",
    "# 📌 Personnalisation du graphique\n",
    "fig.update_layout(\n",
    "    title=\"Comparaison entre notre fonds article 9 et et MSCI World pour les ODD\",\n",
    "    xaxis_title=\"ODD\",\n",
    "    yaxis_title=\"Score moyen\",\n",
    "    barmode='group',\n",
    "    template='plotly_white',  # Thème professionnel\n",
    "    font=dict(\n",
    "        family=\"Arial, sans-serif\",\n",
    "        size=12,\n",
    "        color=\"black\"\n",
    "    ),\n",
    "    legend=dict(\n",
    "        title=\"Légende\",\n",
    "        x=0.02, y=0.98,\n",
    "        bgcolor='rgba(255,255,255,0.7)',\n",
    "        bordercolor='black',\n",
    "        borderwidth=1\n",
    "    )\n",
    ")\n",
    "\n",
    "# 📌 Affichage\n",
    "fig.show()"
   ]
  },
  {
   "cell_type": "code",
   "execution_count": 33,
   "metadata": {},
   "outputs": [
    {
     "data": {
      "application/vnd.plotly.v1+json": {
       "config": {
        "plotlyServerURL": "https://plot.ly"
       },
       "data": [
        {
         "marker": {
          "color": "blue"
         },
         "name": "Fonds article 9",
         "type": "bar",
         "x": [
          "E_SCORE",
          "S_SCORE",
          "G_SCORE",
          "E_CONTROVERSY",
          "S_CONTROVERSY",
          "G_CONTROVERSY"
         ],
         "y": [
          7.152072174232554,
          6.0178757585207485,
          6.344478413943968,
          9.700000000002104,
          6.518495977710746,
          8.671657009742034
         ]
        },
        {
         "marker": {
          "color": "orange"
         },
         "name": "MSCI World",
         "type": "bar",
         "x": [
          "E_SCORE",
          "S_SCORE",
          "G_SCORE",
          "E_CONTROVERSY",
          "S_CONTROVERSY",
          "G_CONTROVERSY"
         ],
         "y": [
          6.702299149800001,
          5.1125413661,
          5.6482565943,
          9.144694848,
          4.036944304,
          7.1026828889999996
         ]
        }
       ],
       "layout": {
        "barmode": "group",
        "font": {
         "color": "black",
         "family": "Arial, sans-serif",
         "size": 12
        },
        "legend": {
         "bgcolor": "rgba(255,255,255,0.7)",
         "bordercolor": "black",
         "borderwidth": 1,
         "title": {
          "text": "Légende"
         },
         "x": 0.02,
         "y": 0.98
        },
        "template": {
         "data": {
          "bar": [
           {
            "error_x": {
             "color": "#2a3f5f"
            },
            "error_y": {
             "color": "#2a3f5f"
            },
            "marker": {
             "line": {
              "color": "white",
              "width": 0.5
             },
             "pattern": {
              "fillmode": "overlay",
              "size": 10,
              "solidity": 0.2
             }
            },
            "type": "bar"
           }
          ],
          "barpolar": [
           {
            "marker": {
             "line": {
              "color": "white",
              "width": 0.5
             },
             "pattern": {
              "fillmode": "overlay",
              "size": 10,
              "solidity": 0.2
             }
            },
            "type": "barpolar"
           }
          ],
          "carpet": [
           {
            "aaxis": {
             "endlinecolor": "#2a3f5f",
             "gridcolor": "#C8D4E3",
             "linecolor": "#C8D4E3",
             "minorgridcolor": "#C8D4E3",
             "startlinecolor": "#2a3f5f"
            },
            "baxis": {
             "endlinecolor": "#2a3f5f",
             "gridcolor": "#C8D4E3",
             "linecolor": "#C8D4E3",
             "minorgridcolor": "#C8D4E3",
             "startlinecolor": "#2a3f5f"
            },
            "type": "carpet"
           }
          ],
          "choropleth": [
           {
            "colorbar": {
             "outlinewidth": 0,
             "ticks": ""
            },
            "type": "choropleth"
           }
          ],
          "contour": [
           {
            "colorbar": {
             "outlinewidth": 0,
             "ticks": ""
            },
            "colorscale": [
             [
              0,
              "#0d0887"
             ],
             [
              0.1111111111111111,
              "#46039f"
             ],
             [
              0.2222222222222222,
              "#7201a8"
             ],
             [
              0.3333333333333333,
              "#9c179e"
             ],
             [
              0.4444444444444444,
              "#bd3786"
             ],
             [
              0.5555555555555556,
              "#d8576b"
             ],
             [
              0.6666666666666666,
              "#ed7953"
             ],
             [
              0.7777777777777778,
              "#fb9f3a"
             ],
             [
              0.8888888888888888,
              "#fdca26"
             ],
             [
              1,
              "#f0f921"
             ]
            ],
            "type": "contour"
           }
          ],
          "contourcarpet": [
           {
            "colorbar": {
             "outlinewidth": 0,
             "ticks": ""
            },
            "type": "contourcarpet"
           }
          ],
          "heatmap": [
           {
            "colorbar": {
             "outlinewidth": 0,
             "ticks": ""
            },
            "colorscale": [
             [
              0,
              "#0d0887"
             ],
             [
              0.1111111111111111,
              "#46039f"
             ],
             [
              0.2222222222222222,
              "#7201a8"
             ],
             [
              0.3333333333333333,
              "#9c179e"
             ],
             [
              0.4444444444444444,
              "#bd3786"
             ],
             [
              0.5555555555555556,
              "#d8576b"
             ],
             [
              0.6666666666666666,
              "#ed7953"
             ],
             [
              0.7777777777777778,
              "#fb9f3a"
             ],
             [
              0.8888888888888888,
              "#fdca26"
             ],
             [
              1,
              "#f0f921"
             ]
            ],
            "type": "heatmap"
           }
          ],
          "heatmapgl": [
           {
            "colorbar": {
             "outlinewidth": 0,
             "ticks": ""
            },
            "colorscale": [
             [
              0,
              "#0d0887"
             ],
             [
              0.1111111111111111,
              "#46039f"
             ],
             [
              0.2222222222222222,
              "#7201a8"
             ],
             [
              0.3333333333333333,
              "#9c179e"
             ],
             [
              0.4444444444444444,
              "#bd3786"
             ],
             [
              0.5555555555555556,
              "#d8576b"
             ],
             [
              0.6666666666666666,
              "#ed7953"
             ],
             [
              0.7777777777777778,
              "#fb9f3a"
             ],
             [
              0.8888888888888888,
              "#fdca26"
             ],
             [
              1,
              "#f0f921"
             ]
            ],
            "type": "heatmapgl"
           }
          ],
          "histogram": [
           {
            "marker": {
             "pattern": {
              "fillmode": "overlay",
              "size": 10,
              "solidity": 0.2
             }
            },
            "type": "histogram"
           }
          ],
          "histogram2d": [
           {
            "colorbar": {
             "outlinewidth": 0,
             "ticks": ""
            },
            "colorscale": [
             [
              0,
              "#0d0887"
             ],
             [
              0.1111111111111111,
              "#46039f"
             ],
             [
              0.2222222222222222,
              "#7201a8"
             ],
             [
              0.3333333333333333,
              "#9c179e"
             ],
             [
              0.4444444444444444,
              "#bd3786"
             ],
             [
              0.5555555555555556,
              "#d8576b"
             ],
             [
              0.6666666666666666,
              "#ed7953"
             ],
             [
              0.7777777777777778,
              "#fb9f3a"
             ],
             [
              0.8888888888888888,
              "#fdca26"
             ],
             [
              1,
              "#f0f921"
             ]
            ],
            "type": "histogram2d"
           }
          ],
          "histogram2dcontour": [
           {
            "colorbar": {
             "outlinewidth": 0,
             "ticks": ""
            },
            "colorscale": [
             [
              0,
              "#0d0887"
             ],
             [
              0.1111111111111111,
              "#46039f"
             ],
             [
              0.2222222222222222,
              "#7201a8"
             ],
             [
              0.3333333333333333,
              "#9c179e"
             ],
             [
              0.4444444444444444,
              "#bd3786"
             ],
             [
              0.5555555555555556,
              "#d8576b"
             ],
             [
              0.6666666666666666,
              "#ed7953"
             ],
             [
              0.7777777777777778,
              "#fb9f3a"
             ],
             [
              0.8888888888888888,
              "#fdca26"
             ],
             [
              1,
              "#f0f921"
             ]
            ],
            "type": "histogram2dcontour"
           }
          ],
          "mesh3d": [
           {
            "colorbar": {
             "outlinewidth": 0,
             "ticks": ""
            },
            "type": "mesh3d"
           }
          ],
          "parcoords": [
           {
            "line": {
             "colorbar": {
              "outlinewidth": 0,
              "ticks": ""
             }
            },
            "type": "parcoords"
           }
          ],
          "pie": [
           {
            "automargin": true,
            "type": "pie"
           }
          ],
          "scatter": [
           {
            "fillpattern": {
             "fillmode": "overlay",
             "size": 10,
             "solidity": 0.2
            },
            "type": "scatter"
           }
          ],
          "scatter3d": [
           {
            "line": {
             "colorbar": {
              "outlinewidth": 0,
              "ticks": ""
             }
            },
            "marker": {
             "colorbar": {
              "outlinewidth": 0,
              "ticks": ""
             }
            },
            "type": "scatter3d"
           }
          ],
          "scattercarpet": [
           {
            "marker": {
             "colorbar": {
              "outlinewidth": 0,
              "ticks": ""
             }
            },
            "type": "scattercarpet"
           }
          ],
          "scattergeo": [
           {
            "marker": {
             "colorbar": {
              "outlinewidth": 0,
              "ticks": ""
             }
            },
            "type": "scattergeo"
           }
          ],
          "scattergl": [
           {
            "marker": {
             "colorbar": {
              "outlinewidth": 0,
              "ticks": ""
             }
            },
            "type": "scattergl"
           }
          ],
          "scattermapbox": [
           {
            "marker": {
             "colorbar": {
              "outlinewidth": 0,
              "ticks": ""
             }
            },
            "type": "scattermapbox"
           }
          ],
          "scatterpolar": [
           {
            "marker": {
             "colorbar": {
              "outlinewidth": 0,
              "ticks": ""
             }
            },
            "type": "scatterpolar"
           }
          ],
          "scatterpolargl": [
           {
            "marker": {
             "colorbar": {
              "outlinewidth": 0,
              "ticks": ""
             }
            },
            "type": "scatterpolargl"
           }
          ],
          "scatterternary": [
           {
            "marker": {
             "colorbar": {
              "outlinewidth": 0,
              "ticks": ""
             }
            },
            "type": "scatterternary"
           }
          ],
          "surface": [
           {
            "colorbar": {
             "outlinewidth": 0,
             "ticks": ""
            },
            "colorscale": [
             [
              0,
              "#0d0887"
             ],
             [
              0.1111111111111111,
              "#46039f"
             ],
             [
              0.2222222222222222,
              "#7201a8"
             ],
             [
              0.3333333333333333,
              "#9c179e"
             ],
             [
              0.4444444444444444,
              "#bd3786"
             ],
             [
              0.5555555555555556,
              "#d8576b"
             ],
             [
              0.6666666666666666,
              "#ed7953"
             ],
             [
              0.7777777777777778,
              "#fb9f3a"
             ],
             [
              0.8888888888888888,
              "#fdca26"
             ],
             [
              1,
              "#f0f921"
             ]
            ],
            "type": "surface"
           }
          ],
          "table": [
           {
            "cells": {
             "fill": {
              "color": "#EBF0F8"
             },
             "line": {
              "color": "white"
             }
            },
            "header": {
             "fill": {
              "color": "#C8D4E3"
             },
             "line": {
              "color": "white"
             }
            },
            "type": "table"
           }
          ]
         },
         "layout": {
          "annotationdefaults": {
           "arrowcolor": "#2a3f5f",
           "arrowhead": 0,
           "arrowwidth": 1
          },
          "autotypenumbers": "strict",
          "coloraxis": {
           "colorbar": {
            "outlinewidth": 0,
            "ticks": ""
           }
          },
          "colorscale": {
           "diverging": [
            [
             0,
             "#8e0152"
            ],
            [
             0.1,
             "#c51b7d"
            ],
            [
             0.2,
             "#de77ae"
            ],
            [
             0.3,
             "#f1b6da"
            ],
            [
             0.4,
             "#fde0ef"
            ],
            [
             0.5,
             "#f7f7f7"
            ],
            [
             0.6,
             "#e6f5d0"
            ],
            [
             0.7,
             "#b8e186"
            ],
            [
             0.8,
             "#7fbc41"
            ],
            [
             0.9,
             "#4d9221"
            ],
            [
             1,
             "#276419"
            ]
           ],
           "sequential": [
            [
             0,
             "#0d0887"
            ],
            [
             0.1111111111111111,
             "#46039f"
            ],
            [
             0.2222222222222222,
             "#7201a8"
            ],
            [
             0.3333333333333333,
             "#9c179e"
            ],
            [
             0.4444444444444444,
             "#bd3786"
            ],
            [
             0.5555555555555556,
             "#d8576b"
            ],
            [
             0.6666666666666666,
             "#ed7953"
            ],
            [
             0.7777777777777778,
             "#fb9f3a"
            ],
            [
             0.8888888888888888,
             "#fdca26"
            ],
            [
             1,
             "#f0f921"
            ]
           ],
           "sequentialminus": [
            [
             0,
             "#0d0887"
            ],
            [
             0.1111111111111111,
             "#46039f"
            ],
            [
             0.2222222222222222,
             "#7201a8"
            ],
            [
             0.3333333333333333,
             "#9c179e"
            ],
            [
             0.4444444444444444,
             "#bd3786"
            ],
            [
             0.5555555555555556,
             "#d8576b"
            ],
            [
             0.6666666666666666,
             "#ed7953"
            ],
            [
             0.7777777777777778,
             "#fb9f3a"
            ],
            [
             0.8888888888888888,
             "#fdca26"
            ],
            [
             1,
             "#f0f921"
            ]
           ]
          },
          "colorway": [
           "#636efa",
           "#EF553B",
           "#00cc96",
           "#ab63fa",
           "#FFA15A",
           "#19d3f3",
           "#FF6692",
           "#B6E880",
           "#FF97FF",
           "#FECB52"
          ],
          "font": {
           "color": "#2a3f5f"
          },
          "geo": {
           "bgcolor": "white",
           "lakecolor": "white",
           "landcolor": "white",
           "showlakes": true,
           "showland": true,
           "subunitcolor": "#C8D4E3"
          },
          "hoverlabel": {
           "align": "left"
          },
          "hovermode": "closest",
          "mapbox": {
           "style": "light"
          },
          "paper_bgcolor": "white",
          "plot_bgcolor": "white",
          "polar": {
           "angularaxis": {
            "gridcolor": "#EBF0F8",
            "linecolor": "#EBF0F8",
            "ticks": ""
           },
           "bgcolor": "white",
           "radialaxis": {
            "gridcolor": "#EBF0F8",
            "linecolor": "#EBF0F8",
            "ticks": ""
           }
          },
          "scene": {
           "xaxis": {
            "backgroundcolor": "white",
            "gridcolor": "#DFE8F3",
            "gridwidth": 2,
            "linecolor": "#EBF0F8",
            "showbackground": true,
            "ticks": "",
            "zerolinecolor": "#EBF0F8"
           },
           "yaxis": {
            "backgroundcolor": "white",
            "gridcolor": "#DFE8F3",
            "gridwidth": 2,
            "linecolor": "#EBF0F8",
            "showbackground": true,
            "ticks": "",
            "zerolinecolor": "#EBF0F8"
           },
           "zaxis": {
            "backgroundcolor": "white",
            "gridcolor": "#DFE8F3",
            "gridwidth": 2,
            "linecolor": "#EBF0F8",
            "showbackground": true,
            "ticks": "",
            "zerolinecolor": "#EBF0F8"
           }
          },
          "shapedefaults": {
           "line": {
            "color": "#2a3f5f"
           }
          },
          "ternary": {
           "aaxis": {
            "gridcolor": "#DFE8F3",
            "linecolor": "#A2B1C6",
            "ticks": ""
           },
           "baxis": {
            "gridcolor": "#DFE8F3",
            "linecolor": "#A2B1C6",
            "ticks": ""
           },
           "bgcolor": "white",
           "caxis": {
            "gridcolor": "#DFE8F3",
            "linecolor": "#A2B1C6",
            "ticks": ""
           }
          },
          "title": {
           "x": 0.05
          },
          "xaxis": {
           "automargin": true,
           "gridcolor": "#EBF0F8",
           "linecolor": "#EBF0F8",
           "ticks": "",
           "title": {
            "standoff": 15
           },
           "zerolinecolor": "#EBF0F8",
           "zerolinewidth": 2
          },
          "yaxis": {
           "automargin": true,
           "gridcolor": "#EBF0F8",
           "linecolor": "#EBF0F8",
           "ticks": "",
           "title": {
            "standoff": 15
           },
           "zerolinecolor": "#EBF0F8",
           "zerolinewidth": 2
          }
         }
        },
        "title": {
         "text": "Comparaison entre notre fonds article 9 et et MSCI World pour les scores E,S & G et les scores de controverses"
        },
        "xaxis": {
         "title": {
          "text": "Pilier"
         }
        },
        "yaxis": {
         "title": {
          "text": "Score moyen"
         }
        }
       }
      }
     },
     "metadata": {},
     "output_type": "display_data"
    }
   ],
   "source": [
    "scores = ['SCOPE_1', 'SCOPE_2', 'SCOPE_3', 'FOOTPRINT_SCOPE_1', 'FOOTPRINT_SCOPE_2', 'FOOTPRINT_SCOPE_3']\n",
    "\n",
    "# 📌 Calcul des valeurs pour df6 (portefeuille optimisé)\n",
    "df6_values = [\n",
    "    (df6['Poids'] * df6[metric]).sum() if metric in df6.columns else None for metric in scores\n",
    "]\n",
    "\n",
    "# 📌 Calcul des valeurs pour df (MSCI World)\n",
    "df_values = [\n",
    "    (df['Weight in MSCI World'] * df[metric]).sum() if metric in df.columns else None for metric in scores\n",
    "]\n",
    "\n",
    "# 📌 Création du graphique\n",
    "x = np.arange(len(scores))  # Indices des barres\n",
    "\n",
    "fig = go.Figure()\n",
    "\n",
    "# 🔹 Barres pour le portefeuille optimisé (df6)\n",
    "fig.add_trace(go.Bar(\n",
    "    x=[x for x in scores],\n",
    "    y=df6_values,\n",
    "    name=\"Fonds article 9\",\n",
    "    marker_color='blue'\n",
    "))\n",
    "\n",
    "# 🔹 Barres pour MSCI World (df)\n",
    "fig.add_trace(go.Bar(\n",
    "    x=[x for x in scores],\n",
    "    y=df_values,\n",
    "    name=\"MSCI World\",\n",
    "    marker_color='orange'\n",
    "))\n",
    "\n",
    "# 📌 Personnalisation du graphique\n",
    "fig.update_layout(\n",
    "    title=\"Comparaison entre notre fonds article 9 et et MSCI World pour les scores E,S & G et les scores de controverses\",\n",
    "    xaxis_title=\"Pilier\",\n",
    "    yaxis_title=\"Score moyen\",\n",
    "    barmode='group',\n",
    "    template='plotly_white',\n",
    "    font=dict(\n",
    "        family=\"Arial, sans-serif\",\n",
    "        size=12,\n",
    "        color=\"black\"\n",
    "    ),\n",
    "    legend=dict(\n",
    "        title=\"Légende\",\n",
    "        x=0.02, y=0.98,\n",
    "        bgcolor='rgba(255,255,255,0.7)',\n",
    "        bordercolor='black',\n",
    "        borderwidth=1\n",
    "    )\n",
    ")\n",
    "\n",
    "# 📌 Affichage\n",
    "fig.show()"
   ]
  },
  {
   "cell_type": "code",
   "execution_count": null,
   "metadata": {},
   "outputs": [],
   "source": [
    "scores = ['SCOPE_1', 'SCOPE_2', 'SCOPE_3', 'FOOTPRINT_SCOPE_1', 'FOOTPRINT_SCOPE_2', 'FOOTPRINT_SCOPE_3']\n",
    "\n",
    "# 📌 Calcul des valeurs pour df6 (portefeuille optimisé)\n",
    "df6_values = [\n",
    "    (df6['Poids'] * df6[metric]).sum() if metric in df6.columns else None for metric in scores\n",
    "]\n",
    "\n",
    "# 📌 Calcul des valeurs pour df (MSCI World)\n",
    "df_values = [\n",
    "    (df['Weight in MSCI World'] * df[metric]).sum() if metric in df.columns else None for metric in scores\n",
    "]\n",
    "\n",
    "# 📌 Création du graphique\n",
    "x = np.arange(len(scores))  # Indices des barres\n",
    "\n",
    "fig = go.Figure()\n",
    "\n",
    "# 🔹 Barres pour le portefeuille optimisé (df6)\n",
    "fig.add_trace(go.Bar(\n",
    "    x=[x for x in scores],\n",
    "    y=df6_values,\n",
    "    name=\"Fonds article 9\",\n",
    "    marker_color='blue'\n",
    "))\n",
    "\n",
    "# 🔹 Barres pour MSCI World (df)\n",
    "fig.add_trace(go.Bar(\n",
    "    x=[x for x in scores],\n",
    "    y=df_values,\n",
    "    name=\"MSCI World\",\n",
    "    marker_color='orange'\n",
    "))\n",
    "\n",
    "# 📌 Personnalisation du graphique\n",
    "fig.update_layout(\n",
    "    title=\"Comparaison entre notre fonds article 9 et et MSCI World pour les scores Scopes 1 à 3\",\n",
    "    xaxis_title=\"Pilier\",\n",
    "    yaxis_title=\"Score moyen\",\n",
    "    barmode='group',\n",
    "    template='plotly_white',\n",
    "    font=dict(\n",
    "        family=\"Arial, sans-serif\",\n",
    "        size=12,\n",
    "        color=\"black\"\n",
    "    ),\n",
    "    legend=dict(\n",
    "        title=\"Légende\",\n",
    "        x=0.02, y=0.98,\n",
    "        bgcolor='rgba(255,255,255,0.7)',\n",
    "        bordercolor='black',\n",
    "        borderwidth=1\n",
    "    )\n",
    ")\n",
    "\n",
    "# 📌 Affichage\n",
    "fig.show()"
   ]
  }
 ],
 "metadata": {
  "kernelspec": {
   "display_name": "Python 3",
   "language": "python",
   "name": "python3"
  },
  "language_info": {
   "codemirror_mode": {
    "name": "ipython",
    "version": 3
   },
   "file_extension": ".py",
   "mimetype": "text/x-python",
   "name": "python",
   "nbconvert_exporter": "python",
   "pygments_lexer": "ipython3",
   "version": "3.12.3"
  }
 },
 "nbformat": 4,
 "nbformat_minor": 2
}
