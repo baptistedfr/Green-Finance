{
 "cells": [
  {
   "cell_type": "code",
   "execution_count": 3,
   "metadata": {},
   "outputs": [],
   "source": [
    "import pandas as pd\n",
    "import numpy as np\n",
    "from scipy.optimize import minimize"
   ]
  },
  {
   "cell_type": "markdown",
   "metadata": {},
   "source": [
    "## Lecture des datas"
   ]
  },
  {
   "cell_type": "code",
   "execution_count": 4,
   "metadata": {},
   "outputs": [
    {
     "name": "stdout",
     "output_type": "stream",
     "text": [
      "1247 tickers\n"
     ]
    }
   ],
   "source": [
    "df = pd.read_csv(\"all_data.csv\", sep=\";\")\n",
    "print(f\"{len(df)} tickers\")"
   ]
  },
  {
   "cell_type": "markdown",
   "metadata": {},
   "source": [
    "## Exclusions"
   ]
  },
  {
   "cell_type": "markdown",
   "metadata": {},
   "source": [
    "### Tabac / Armes controversées"
   ]
  },
  {
   "cell_type": "code",
   "execution_count": 5,
   "metadata": {},
   "outputs": [
    {
     "name": "stdout",
     "output_type": "stream",
     "text": [
      "1237 tickers\n"
     ]
    }
   ],
   "source": [
    "df2 = df.loc[(df['CWEAP_TIE']!=1) & (df['TOB_PRODUCER']!=1),:]\n",
    "print(f\"{len(df2)} tickers\")"
   ]
  },
  {
   "cell_type": "markdown",
   "metadata": {},
   "source": [
    "Elimination de 10 entreprises"
   ]
  },
  {
   "cell_type": "markdown",
   "metadata": {},
   "source": [
    "### Controverses 0/1"
   ]
  },
  {
   "cell_type": "code",
   "execution_count": 6,
   "metadata": {},
   "outputs": [],
   "source": [
    "columns_controverse = [\"E_CONTROVERSY\", \"S_CONTROVERSY\", 'G_CONTROVERSY']"
   ]
  },
  {
   "cell_type": "code",
   "execution_count": 7,
   "metadata": {},
   "outputs": [
    {
     "name": "stdout",
     "output_type": "stream",
     "text": [
      "NB E_CONTROVERSY : 28\n",
      "NB S_CONTROVERSY : 149\n",
      "NB G_CONTROVERSY : 35\n"
     ]
    }
   ],
   "source": [
    "# Controverse E\n",
    "for col in columns_controverse:\n",
    "    print(f\"NB {col} : {len(df.loc[df[col]<2,:])}\")"
   ]
  },
  {
   "cell_type": "code",
   "execution_count": 8,
   "metadata": {},
   "outputs": [
    {
     "name": "stdout",
     "output_type": "stream",
     "text": [
      "Elimination 175\n",
      "Reste 1062\n"
     ]
    }
   ],
   "source": [
    "df3 = df2.loc[~df[columns_controverse].lt(2).any(axis=1), :]\n",
    "print(f\"Elimination {len(df2)-len(df3)}\")\n",
    "print(f\"Reste {len(df3)}\")"
   ]
  },
  {
   "cell_type": "markdown",
   "metadata": {},
   "source": [
    "### Note ESG < BB"
   ]
  },
  {
   "cell_type": "code",
   "execution_count": 9,
   "metadata": {},
   "outputs": [
    {
     "name": "stdout",
     "output_type": "stream",
     "text": [
      "NB : 17\n",
      "Elimination 11\n",
      "Reste 1051\n"
     ]
    }
   ],
   "source": [
    "print(f\"NB : {len(df.loc[df[\"IVA_COMPANY_RATING\"].isin(['B','CCC']),:])}\")\n",
    "df4 = df3.loc[~df[\"IVA_COMPANY_RATING\"].isin(['B','CCC']),:]\n",
    "print(f\"Elimination {len(df3)-len(df4)}\")\n",
    "print(f\"Reste {len(df4)}\")"
   ]
  },
  {
   "cell_type": "markdown",
   "metadata": {},
   "source": [
    "### Restrictions ODD"
   ]
  },
  {
   "cell_type": "code",
   "execution_count": 10,
   "metadata": {},
   "outputs": [
    {
     "name": "stdout",
     "output_type": "stream",
     "text": [
      "NB SDG_01_NET_ALIGNMENT_SCORE : 28\n",
      "NB SDG_02_NET_ALIGNMENT_SCORE : 7\n",
      "NB SDG_03_NET_ALIGNMENT_SCORE : 48\n",
      "NB SDG_04_NET_ALIGNMENT_SCORE : 16\n",
      "NB SDG_05_NET_ALIGNMENT_SCORE : 1\n",
      "NB SDG_06_NET_ALIGNMENT_SCORE : 14\n",
      "NB SDG_07_NET_ALIGNMENT_SCORE : 83\n",
      "NB SDG_08_NET_ALIGNMENT_SCORE : 6\n",
      "NB SDG_09_NET_ALIGNMENT_SCORE : 37\n",
      "NB SDG_10_NET_ALIGNMENT_SCORE : 9\n",
      "NB SDG_11_NET_ALIGNMENT_SCORE : 51\n",
      "NB SDG_12_NET_ALIGNMENT_SCORE : 106\n",
      "NB SDG_13_NET_ALIGNMENT_SCORE : 83\n",
      "NB SDG_14_NET_ALIGNMENT_SCORE : 64\n",
      "NB SDG_15_NET_ALIGNMENT_SCORE : 66\n",
      "NB SDG_16_NET_ALIGNMENT_SCORE : 28\n",
      "NB SDG_17_NET_ALIGNMENT_SCORE : 70\n",
      "Elimination 106\n",
      "Reste 945\n"
     ]
    }
   ],
   "source": [
    "# odds = [\"07\",\"12\",\"13\"]\n",
    "odds = [x for x in df.columns if x.startswith(\"SDG\")]\n",
    "for odd in odds:\n",
    "    print(f\"NB {odd} : {len(df.loc[df[odd]<=-2,:])}\")\n",
    "\n",
    "df5 = df4.loc[~df4[odds].le(-2).any(axis=1), :]\n",
    "print(f\"Elimination {len(df4)-len(df5)}\")\n",
    "print(f\"Reste {len(df5)}\")"
   ]
  },
  {
   "cell_type": "code",
   "execution_count": 11,
   "metadata": {},
   "outputs": [
    {
     "name": "stderr",
     "output_type": "stream",
     "text": [
      "C:\\Users\\thibc\\AppData\\Local\\Temp\\ipykernel_12120\\3610090802.py:1: SettingWithCopyWarning: \n",
      "A value is trying to be set on a copy of a slice from a DataFrame.\n",
      "Try using .loc[row_indexer,col_indexer] = value instead\n",
      "\n",
      "See the caveats in the documentation: https://pandas.pydata.org/pandas-docs/stable/user_guide/indexing.html#returning-a-view-versus-a-copy\n",
      "  df5['EST_EU_TAXONOMY_MAX_REV'] = df5['EST_EU_TAXONOMY_MAX_REV'].fillna(0)\n",
      "C:\\Users\\thibc\\AppData\\Local\\Temp\\ipykernel_12120\\3610090802.py:2: SettingWithCopyWarning: \n",
      "A value is trying to be set on a copy of a slice from a DataFrame.\n",
      "Try using .loc[row_indexer,col_indexer] = value instead\n",
      "\n",
      "See the caveats in the documentation: https://pandas.pydata.org/pandas-docs/stable/user_guide/indexing.html#returning-a-view-versus-a-copy\n",
      "  df5['Annualized return 10Y'] = df5['Annualized return 10Y'].fillna(0)\n",
      "C:\\Users\\thibc\\AppData\\Local\\Temp\\ipykernel_12120\\3610090802.py:3: SettingWithCopyWarning: \n",
      "A value is trying to be set on a copy of a slice from a DataFrame.\n",
      "Try using .loc[row_indexer,col_indexer] = value instead\n",
      "\n",
      "See the caveats in the documentation: https://pandas.pydata.org/pandas-docs/stable/user_guide/indexing.html#returning-a-view-versus-a-copy\n",
      "  df5['Annualized return 10Y'] = df5['Annualized return 10Y'].fillna(0)\n",
      "C:\\Users\\thibc\\AppData\\Local\\Temp\\ipykernel_12120\\3610090802.py:4: SettingWithCopyWarning: \n",
      "A value is trying to be set on a copy of a slice from a DataFrame.\n",
      "Try using .loc[row_indexer,col_indexer] = value instead\n",
      "\n",
      "See the caveats in the documentation: https://pandas.pydata.org/pandas-docs/stable/user_guide/indexing.html#returning-a-view-versus-a-copy\n",
      "  df5['INVEST_DURABLE'] = df5[['SDG_07_NET_ALIGNMENT_SCORE', 'SDG_12_NET_ALIGNMENT_SCORE', 'SDG_13_NET_ALIGNMENT_SCORE']].max(axis=1)\n"
     ]
    }
   ],
   "source": [
    "df5['EST_EU_TAXONOMY_MAX_REV'] = df5['EST_EU_TAXONOMY_MAX_REV'].fillna(0)\n",
    "df5['Annualized return 10Y'] = df5['Annualized return 10Y'].fillna(0)\n",
    "df5['Annualized return 10Y'] = df5['Annualized return 10Y'].fillna(0)\n",
    "df5['INVEST_DURABLE'] = df5[['SDG_07_NET_ALIGNMENT_SCORE', 'SDG_12_NET_ALIGNMENT_SCORE', 'SDG_13_NET_ALIGNMENT_SCORE']].max(axis=1)"
   ]
  },
  {
   "cell_type": "code",
   "execution_count": 12,
   "metadata": {},
   "outputs": [
    {
     "name": "stdout",
     "output_type": "stream",
     "text": [
      "892\n"
     ]
    },
    {
     "name": "stderr",
     "output_type": "stream",
     "text": [
      "C:\\Users\\thibc\\AppData\\Local\\Temp\\ipykernel_12120\\2311704661.py:73: SettingWithCopyWarning: \n",
      "A value is trying to be set on a copy of a slice from a DataFrame.\n",
      "Try using .loc[row_indexer,col_indexer] = value instead\n",
      "\n",
      "See the caveats in the documentation: https://pandas.pydata.org/pandas-docs/stable/user_guide/indexing.html#returning-a-view-versus-a-copy\n",
      "  df6['Poids'] = w_opt\n"
     ]
    }
   ],
   "source": [
    "import numpy as np\n",
    "import pandas as pd\n",
    "from scipy.optimize import minimize\n",
    "\n",
    "# df6 = df5.loc[(df5['EST_EU_TAXONOMY_MAX_REV']>0) & (df5['ITR']>0),:] #Si Pas Taxo >0 trop de lignes => trop long a faire tourner\n",
    "\n",
    "df6 = df5.loc[(df5['ITR']>0) & (df5['E_SCORE']>=3),:]\n",
    "# Nombre de tickers\n",
    "n = len(df6)\n",
    "print(n)\n",
    "perf_moy = df6['Annualized return 20Y'].values\n",
    "taxonomie = df6['EST_EU_TAXONOMY_MAX_REV'].values\n",
    "itr = df6['ITR'].values\n",
    "durable = df6['INVEST_DURABLE']\n",
    "\n",
    "secteurs_uniques = df6['gics_sector_name'].unique()  # Liste des secteurs uniques\n",
    "m = len(secteurs_uniques)  # Nombre de secteurs\n",
    "\n",
    "# Matrice binaire (1 si l'actif appartient au secteur, 0 sinon)\n",
    "matrice_secteurs = np.array([[1 if df6.iloc[i]['gics_sector_name'] == secteur else 0 for secteur in secteurs_uniques] for i in range(n)])\n",
    "\n",
    "# Fonction objectif (on minimise donc on prend -Perf_moy)\n",
    "def objectif(w):\n",
    "    return -np.dot(w, perf_moy)  # On minimise la valeur négative pour maximiser\n",
    "\n",
    "# Contrainte : Taxonomie pondérée ≥ 10\n",
    "def contrainte_taxonomie(w):\n",
    "    return np.dot(w, taxonomie)-10.5\n",
    "\n",
    "# Contrainte : ITR < 2\n",
    "def contrainte_itr(w):\n",
    "    return 1.95-np.dot(w, itr)\n",
    "\n",
    "# Contrainte : Alignement environnemental pondéré ≥ 90%\n",
    "def contrainte_alignement(w):\n",
    "    filtres_durables = (durable >= 2).astype(int)  # 1 si durable > 2, sinon 0\n",
    "\n",
    "    # Calcul de la somme des poids des entreprises ayant un score durable > 2\n",
    "    return np.dot(w, filtres_durables) - 0.915  # Doit être ≥ 0\n",
    "\n",
    "def contrainte_secteur(w):\n",
    "    return 0.30 - np.dot(matrice_secteurs.T, w)  # Doit être ≥ 0 pour chaque secteur\n",
    "\n",
    "# Contrainte : Somme des poids = 1\n",
    "def contrainte_somme(w):\n",
    "    return np.sum(w) - 1\n",
    "\n",
    "\n",
    "# Définition des contraintes sous forme de dictionnaires\n",
    "contraintes = [\n",
    "    {'type': 'eq', 'fun': contrainte_somme},  # Somme des poids = 1\n",
    "    {'type': 'ineq', 'fun': contrainte_taxonomie},  # Taxonomie pondérée ≥ 10\n",
    "    {'type': 'ineq', 'fun': contrainte_itr},  # ITR < 2\n",
    "    {'type': 'ineq', 'fun': contrainte_alignement}  # Investissement durable ≥ 90%\n",
    "]\n",
    "\n",
    "contraintes_secteurs = [{'type': 'ineq', 'fun': lambda w, j=j: contrainte_secteur(w)[j]} for j in range(m)]\n",
    "\n",
    "contraintes = contraintes + contraintes_secteurs\n",
    "\n",
    "# Bornes (chaque poids doit être positif et max 0.1)\n",
    "bornes = [(0, 0.075) for _ in range(n)]\n",
    "\n",
    "# Initialisation des poids (égalité répartie)\n",
    "w0 = np.ones(n) / n\n",
    "\n",
    "# Résolution avec SLSQP\n",
    "resultat = minimize(objectif, w0, method='SLSQP', bounds=bornes, constraints=contraintes)\n",
    "\n",
    "# Vérification des résultats\n",
    "if resultat.success:\n",
    "    w_opt = resultat.x\n",
    "    df6['Poids'] = w_opt\n",
    "else:\n",
    "    print(\"L'optimisation a échoué :\", resultat.message)"
   ]
  },
  {
   "cell_type": "code",
   "execution_count": 13,
   "metadata": {},
   "outputs": [
    {
     "name": "stdout",
     "output_type": "stream",
     "text": [
      "Return PTF : 0.2952406322152831\n",
      "TAXO : 10.499999999797872\n",
      "ITR : 1.9500000000353634\n",
      "Poids : 1.000000000000219\n",
      "Investissement durable : 0.9150000000001192\n",
      "E_SCORE : 7.152072174232554\n",
      "S_SCORE : 6.0178757585207485\n",
      "G_SCORE : 6.344478413943968\n",
      "INTENSITY_SCOPE_1 : 4.598635080079926\n",
      "INTENSITY_SCOPE_2 : 4.990116696028779\n",
      "INTENSITY_SCOPE_3 : 244.8608789764395\n",
      "FOOTPRINT_SCOPE_1 : 3.977009157335956\n",
      "FOOTPRINT_SCOPE_2 : 3.0957208307484265\n",
      "FOOTPRINT_SCOPE_3 : 169.42812374331345\n",
      "SDG_01_NET_ALIGNMENT_SCORE : 0.8240090114326927\n",
      "SDG_02_NET_ALIGNMENT_SCORE : -0.0749999999999396\n",
      "SDG_03_NET_ALIGNMENT_SCORE : 0.46431495099851927\n",
      "SDG_04_NET_ALIGNMENT_SCORE : 0.30274390244325866\n",
      "SDG_05_NET_ALIGNMENT_SCORE : 2.312500000000453\n",
      "SDG_06_NET_ALIGNMENT_SCORE : 0.5924359150090425\n",
      "SDG_07_NET_ALIGNMENT_SCORE : 1.313944479739114\n",
      "SDG_08_NET_ALIGNMENT_SCORE : 1.7129142524354193\n",
      "SDG_09_NET_ALIGNMENT_SCORE : 0.949733299170507\n",
      "SDG_10_NET_ALIGNMENT_SCORE : 1.8759889406996382\n",
      "SDG_11_NET_ALIGNMENT_SCORE : 0.11250000000011386\n",
      "SDG_12_NET_ALIGNMENT_SCORE : 2.004544460960634\n",
      "SDG_13_NET_ALIGNMENT_SCORE : 1.7677439024434904\n",
      "SDG_14_NET_ALIGNMENT_SCORE : -0.07499999999999313\n",
      "SDG_15_NET_ALIGNMENT_SCORE : -3.260206361951678e-14\n",
      "SDG_16_NET_ALIGNMENT_SCORE : 0.9324036491622445\n",
      "SDG_17_NET_ALIGNMENT_SCORE : 2.0057450382564253\n"
     ]
    }
   ],
   "source": [
    "print(f\"Return PTF : {(df6['Poids']*df6['Annualized return 20Y']).sum()}\")\n",
    "print(f\"TAXO : {(df6['Poids']*df6['EST_EU_TAXONOMY_MAX_REV']).sum()}\") \n",
    "print(f\"ITR : {(df6['Poids']*df6['ITR']).sum()}\") \n",
    "print(f\"Poids : {(df6['Poids']).sum()}\") \n",
    "filtres_durables = (df6['INVEST_DURABLE'] >= 2).astype(int)  # 1 si durable > 2, sinon 0.astype(int)  # 1 si durable > 2, sinon 0\n",
    "print(f\"Investissement durable : {(filtres_durables*df6['Poids']).sum()}\") \n",
    "\n",
    "col_scores = ['E_SCORE', 'S_SCORE', 'G_SCORE']\n",
    "for col in col_scores:\n",
    "    print(f\"{col} : {(df6[col]*df6['Poids']).sum()}\") \n",
    "\n",
    "col_inten = ['INTENSITY_SCOPE_1', 'INTENSITY_SCOPE_2', 'INTENSITY_SCOPE_3']\n",
    "for col in col_inten:\n",
    "    print(f\"{col} : {(df6[col]*df6['Poids']).sum()}\") \n",
    "\n",
    "    \n",
    "col_foot = ['FOOTPRINT_SCOPE_1', 'FOOTPRINT_SCOPE_2', 'FOOTPRINT_SCOPE_3']\n",
    "for col in col_foot:\n",
    "    print(f\"{col} : {(df6[col]*df6['Poids']).sum()}\")\n",
    "\n",
    "for col in odds:\n",
    "    print(f\"{col} : {(df6[col]*df6['Poids']).sum()}\")"
   ]
  },
  {
   "cell_type": "code",
   "execution_count": 14,
   "metadata": {},
   "outputs": [
    {
     "name": "stdout",
     "output_type": "stream",
     "text": [
      "Return PTF : 0.1589968660964774\n",
      "TAXO : 8.88141198983\n",
      "ITR : 2.3882738824\n",
      "Poids : 0.999999286\n",
      "Investissement durable : 0.556473561\n",
      "E_SCORE : 6.702299149800001\n",
      "S_SCORE : 5.1125413661\n",
      "G_SCORE : 5.6482565943\n",
      "INTENSITY_SCOPE_1 : 75.69229832018408\n",
      "INTENSITY_SCOPE_2 : 19.946423978449946\n",
      "INTENSITY_SCOPE_3 : 756.2246020384931\n",
      "FOOTPRINT_SCOPE_1 : 118.00648809367438\n",
      "FOOTPRINT_SCOPE_2 : 27.010985263301677\n",
      "FOOTPRINT_SCOPE_3 : 1373.604056364562\n",
      "SDG_01_NET_ALIGNMENT_SCORE : 0.0775825055\n",
      "SDG_02_NET_ALIGNMENT_SCORE : 0.019335309000000002\n",
      "SDG_03_NET_ALIGNMENT_SCORE : -0.111505415\n",
      "SDG_04_NET_ALIGNMENT_SCORE : -0.022077644\n",
      "SDG_05_NET_ALIGNMENT_SCORE : 1.9017966155000001\n",
      "SDG_06_NET_ALIGNMENT_SCORE : 0.9266744179999999\n",
      "SDG_07_NET_ALIGNMENT_SCORE : 0.6206072210000001\n",
      "SDG_08_NET_ALIGNMENT_SCORE : 1.0800233255\n",
      "SDG_09_NET_ALIGNMENT_SCORE : 0.100041403\n",
      "SDG_10_NET_ALIGNMENT_SCORE : 1.0660665655\n",
      "SDG_11_NET_ALIGNMENT_SCORE : -0.03663600200000001\n",
      "SDG_12_NET_ALIGNMENT_SCORE : 1.034473784\n",
      "SDG_13_NET_ALIGNMENT_SCORE : 0.8416237785000001\n",
      "SDG_14_NET_ALIGNMENT_SCORE : -0.257901699\n",
      "SDG_15_NET_ALIGNMENT_SCORE : -0.3408436385\n",
      "SDG_16_NET_ALIGNMENT_SCORE : 0.057018434999999965\n",
      "SDG_17_NET_ALIGNMENT_SCORE : 0.07954162000000001\n"
     ]
    }
   ],
   "source": [
    "print(f\"Return PTF : {(df['Weight in MSCI World']*df['Annualized return 20Y']).sum()}\")\n",
    "print(f\"TAXO : {(df['Weight in MSCI World']*df['EST_EU_TAXONOMY_MAX_REV']).sum()}\") \n",
    "print(f\"ITR : {(df['Weight in MSCI World']*df['ITR']).sum()}\") \n",
    "print(f\"Poids : {(df['Weight in MSCI World']).sum()}\") \n",
    "df['INVEST_DURABLE'] = df[['SDG_07_NET_ALIGNMENT_SCORE', 'SDG_12_NET_ALIGNMENT_SCORE', 'SDG_13_NET_ALIGNMENT_SCORE']].max(axis=1)\n",
    "filtres_durables = (df['INVEST_DURABLE'] >= 2).astype(int)  # 1 si durable > 2, sinon 0.astype(int)  # 1 si durable > 2, sinon 0\n",
    "print(f\"Investissement durable : {(filtres_durables*df['Weight in MSCI World']).sum()}\") \n",
    "\n",
    "col_scores = ['E_SCORE', 'S_SCORE', 'G_SCORE']\n",
    "for col in col_scores:\n",
    "    print(f\"{col} : {(df[col]*df['Weight in MSCI World']).sum()}\") \n",
    "\n",
    "col_inten = ['INTENSITY_SCOPE_1', 'INTENSITY_SCOPE_2', 'INTENSITY_SCOPE_3']\n",
    "for col in col_inten:\n",
    "    print(f\"{col} : {(df[col]*df['Weight in MSCI World']).sum()}\") \n",
    "\n",
    "col_foot = ['FOOTPRINT_SCOPE_1', 'FOOTPRINT_SCOPE_2', 'FOOTPRINT_SCOPE_3']\n",
    "for col in col_foot:\n",
    "    print(f\"{col} : {(df[col]*df['Weight in MSCI World']).sum()}\")\n",
    "\n",
    "for col in odds:\n",
    "    print(f\"{col} : {(df[col]*df['Weight in MSCI World']).sum()}\")"
   ]
  },
  {
   "cell_type": "code",
   "execution_count": 15,
   "metadata": {},
   "outputs": [
    {
     "data": {
      "text/plain": [
       "gics_sector_name\n",
       "Communication Services     8.50\n",
       "Consumer Discretionary    15.97\n",
       "Consumer Staples           0.00\n",
       "Energy                     0.00\n",
       "Financials                 7.50\n",
       "Health Care               23.03\n",
       "Industrials                7.50\n",
       "Information Technology    30.00\n",
       "Materials                  0.00\n",
       "Real Estate                7.50\n",
       "Utilities                  0.00\n",
       "Name: Poids, dtype: float64"
      ]
     },
     "execution_count": 15,
     "metadata": {},
     "output_type": "execute_result"
    }
   ],
   "source": [
    "# Repartition sectorielle\n",
    "round((df6.groupby('gics_sector_name')['Poids'].sum())*100,2)"
   ]
  },
  {
   "cell_type": "code",
   "execution_count": 16,
   "metadata": {},
   "outputs": [
    {
     "data": {
      "text/plain": [
       "industry_group\n",
       "Apparel                    7.50\n",
       "Biotechnology              7.50\n",
       "Commercial Services        7.50\n",
       "Computers                  7.50\n",
       "Diversified Finan Serv     7.50\n",
       "Electronics                7.50\n",
       "Healthcare-Products        4.40\n",
       "Internet                   1.97\n",
       "Media                      7.50\n",
       "Pharmaceuticals            3.62\n",
       "Real Estate                7.50\n",
       "Retail                     7.50\n",
       "Semiconductors             7.50\n",
       "Software                  15.00\n",
       "Name: Poids, dtype: float64"
      ]
     },
     "execution_count": 16,
     "metadata": {},
     "output_type": "execute_result"
    }
   ],
   "source": [
    "# Sous secteur\n",
    "df_sect = df6.groupby('industry_group')['Poids'].sum()\n",
    "round(df_sect[df_sect>0.01]*100,2)"
   ]
  },
  {
   "cell_type": "code",
   "execution_count": 17,
   "metadata": {},
   "outputs": [
    {
     "data": {
      "text/plain": [
       "country\n",
       "BRITAIN           7.50\n",
       "DENMARK           3.62\n",
       "FRANCE           11.90\n",
       "GERMANY           7.50\n",
       "SWEDEN            7.50\n",
       "UNITED STATES    61.97\n",
       "Name: Poids, dtype: float64"
      ]
     },
     "execution_count": 17,
     "metadata": {},
     "output_type": "execute_result"
    }
   ],
   "source": [
    "# Repartition geo\n",
    "df_geo = df6.groupby('country')['Poids'].sum()\n",
    "round(df_geo[df_geo>0.01]*100,2)"
   ]
  },
  {
   "cell_type": "code",
   "execution_count": 18,
   "metadata": {},
   "outputs": [
    {
     "data": {
      "text/plain": [
       "IVA_COMPANY_RATING\n",
       "A       9.02\n",
       "AA     37.50\n",
       "AAA    25.57\n",
       "BB      1.00\n",
       "BBB    26.90\n",
       "Name: Poids, dtype: float64"
      ]
     },
     "execution_count": 18,
     "metadata": {},
     "output_type": "execute_result"
    }
   ],
   "source": [
    "# Repartition geo\n",
    "df_esg = df6.groupby('IVA_COMPANY_RATING')['Poids'].sum()\n",
    "round(df_esg[df_esg>0.01]*100,2)"
   ]
  },
  {
   "cell_type": "code",
   "execution_count": 19,
   "metadata": {},
   "outputs": [
    {
     "data": {
      "text/html": [
       "<div>\n",
       "<style scoped>\n",
       "    .dataframe tbody tr th:only-of-type {\n",
       "        vertical-align: middle;\n",
       "    }\n",
       "\n",
       "    .dataframe tbody tr th {\n",
       "        vertical-align: top;\n",
       "    }\n",
       "\n",
       "    .dataframe thead th {\n",
       "        text-align: right;\n",
       "    }\n",
       "</style>\n",
       "<table border=\"1\" class=\"dataframe\">\n",
       "  <thead>\n",
       "    <tr style=\"text-align: right;\">\n",
       "      <th></th>\n",
       "      <th>ticker</th>\n",
       "      <th>name</th>\n",
       "      <th>isin</th>\n",
       "      <th>country</th>\n",
       "      <th>currency</th>\n",
       "      <th>gics_sector_name</th>\n",
       "      <th>industry_group</th>\n",
       "      <th>region_en</th>\n",
       "      <th>Weight in MSCI World</th>\n",
       "      <th>Annualized return 20Y</th>\n",
       "      <th>...</th>\n",
       "      <th>FOOTPRINT_SCOPE_1</th>\n",
       "      <th>FOOTPRINT_SCOPE_2</th>\n",
       "      <th>FOOTPRINT_SCOPE_3</th>\n",
       "      <th>INTENSITY_SCOPE_1</th>\n",
       "      <th>INTENSITY_SCOPE_2</th>\n",
       "      <th>INTENSITY_SCOPE_3</th>\n",
       "      <th>EV</th>\n",
       "      <th>SALES</th>\n",
       "      <th>INVEST_DURABLE</th>\n",
       "      <th>Poids</th>\n",
       "    </tr>\n",
       "  </thead>\n",
       "  <tbody>\n",
       "    <tr>\n",
       "      <th>1</th>\n",
       "      <td>NVDA US Equity</td>\n",
       "      <td>NVIDIA Corp</td>\n",
       "      <td>US67066G1040</td>\n",
       "      <td>UNITED STATES</td>\n",
       "      <td>USD</td>\n",
       "      <td>Information Technology</td>\n",
       "      <td>Semiconductors</td>\n",
       "      <td>North America</td>\n",
       "      <td>0.046132</td>\n",
       "      <td>0.396705</td>\n",
       "      <td>...</td>\n",
       "      <td>0.018164</td>\n",
       "      <td>0.224788</td>\n",
       "      <td>34.721009</td>\n",
       "      <td>0.131528</td>\n",
       "      <td>1.627755</td>\n",
       "      <td>251.425343</td>\n",
       "      <td>3.359642e+06</td>\n",
       "      <td>109406.527100</td>\n",
       "      <td>6.5</td>\n",
       "      <td>0.075000</td>\n",
       "    </tr>\n",
       "    <tr>\n",
       "      <th>14</th>\n",
       "      <td>MA US Equity</td>\n",
       "      <td>Mastercard Inc</td>\n",
       "      <td>US57636Q1040</td>\n",
       "      <td>UNITED STATES</td>\n",
       "      <td>USD</td>\n",
       "      <td>Financials</td>\n",
       "      <td>Diversified Finan Serv</td>\n",
       "      <td>North America</td>\n",
       "      <td>0.006298</td>\n",
       "      <td>0.289978</td>\n",
       "      <td>...</td>\n",
       "      <td>0.033665</td>\n",
       "      <td>0.459141</td>\n",
       "      <td>24.730839</td>\n",
       "      <td>0.135197</td>\n",
       "      <td>1.843861</td>\n",
       "      <td>99.316304</td>\n",
       "      <td>4.479303e+05</td>\n",
       "      <td>26302.422900</td>\n",
       "      <td>2.0</td>\n",
       "      <td>0.075000</td>\n",
       "    </tr>\n",
       "    <tr>\n",
       "      <th>19</th>\n",
       "      <td>NFLX US Equity</td>\n",
       "      <td>Netflix Inc</td>\n",
       "      <td>US64110L1061</td>\n",
       "      <td>UNITED STATES</td>\n",
       "      <td>USD</td>\n",
       "      <td>Communication Services</td>\n",
       "      <td>Internet</td>\n",
       "      <td>North America</td>\n",
       "      <td>0.005515</td>\n",
       "      <td>0.376162</td>\n",
       "      <td>...</td>\n",
       "      <td>0.353979</td>\n",
       "      <td>0.415922</td>\n",
       "      <td>115.939906</td>\n",
       "      <td>0.711690</td>\n",
       "      <td>0.836228</td>\n",
       "      <td>233.102162</td>\n",
       "      <td>3.089634e+05</td>\n",
       "      <td>36237.703140</td>\n",
       "      <td>1.0</td>\n",
       "      <td>0.010000</td>\n",
       "    </tr>\n",
       "    <tr>\n",
       "      <th>22</th>\n",
       "      <td>CRM US Equity</td>\n",
       "      <td>Salesforce Inc</td>\n",
       "      <td>US79466L3024</td>\n",
       "      <td>UNITED STATES</td>\n",
       "      <td>USD</td>\n",
       "      <td>Information Technology</td>\n",
       "      <td>Software</td>\n",
       "      <td>North America</td>\n",
       "      <td>0.004466</td>\n",
       "      <td>0.256363</td>\n",
       "      <td>...</td>\n",
       "      <td>0.062587</td>\n",
       "      <td>4.381089</td>\n",
       "      <td>59.867483</td>\n",
       "      <td>0.111356</td>\n",
       "      <td>7.794915</td>\n",
       "      <td>106.517341</td>\n",
       "      <td>2.710248e+05</td>\n",
       "      <td>35920.855100</td>\n",
       "      <td>3.5</td>\n",
       "      <td>0.075000</td>\n",
       "    </tr>\n",
       "    <tr>\n",
       "      <th>24</th>\n",
       "      <td>NOVOB DC Equity</td>\n",
       "      <td>Novo Nordisk A/S</td>\n",
       "      <td>DK0062498333</td>\n",
       "      <td>DENMARK</td>\n",
       "      <td>DKK</td>\n",
       "      <td>Health Care</td>\n",
       "      <td>Pharmaceuticals</td>\n",
       "      <td>Europe</td>\n",
       "      <td>0.004264</td>\n",
       "      <td>0.218411</td>\n",
       "      <td>...</td>\n",
       "      <td>0.706436</td>\n",
       "      <td>0.135853</td>\n",
       "      <td>67.557619</td>\n",
       "      <td>2.149638</td>\n",
       "      <td>0.413392</td>\n",
       "      <td>205.573224</td>\n",
       "      <td>4.682249e+05</td>\n",
       "      <td>36285.180300</td>\n",
       "      <td>2.0</td>\n",
       "      <td>0.036233</td>\n",
       "    </tr>\n",
       "    <tr>\n",
       "      <th>33</th>\n",
       "      <td>NOW US Equity</td>\n",
       "      <td>ServiceNow Inc</td>\n",
       "      <td>US81762P1021</td>\n",
       "      <td>UNITED STATES</td>\n",
       "      <td>USD</td>\n",
       "      <td>Information Technology</td>\n",
       "      <td>Software</td>\n",
       "      <td>North America</td>\n",
       "      <td>0.003177</td>\n",
       "      <td>0.232904</td>\n",
       "      <td>...</td>\n",
       "      <td>0.058149</td>\n",
       "      <td>1.315634</td>\n",
       "      <td>23.429482</td>\n",
       "      <td>0.240423</td>\n",
       "      <td>5.439600</td>\n",
       "      <td>96.871189</td>\n",
       "      <td>1.772127e+05</td>\n",
       "      <td>10107.177600</td>\n",
       "      <td>3.0</td>\n",
       "      <td>0.069512</td>\n",
       "    </tr>\n",
       "    <tr>\n",
       "      <th>60</th>\n",
       "      <td>BKNG US Equity</td>\n",
       "      <td>Booking Holdings Inc</td>\n",
       "      <td>US09857L1089</td>\n",
       "      <td>UNITED STATES</td>\n",
       "      <td>USD</td>\n",
       "      <td>Consumer Discretionary</td>\n",
       "      <td>Internet</td>\n",
       "      <td>North America</td>\n",
       "      <td>0.002389</td>\n",
       "      <td>0.318621</td>\n",
       "      <td>...</td>\n",
       "      <td>0.115734</td>\n",
       "      <td>0.004953</td>\n",
       "      <td>653.075464</td>\n",
       "      <td>0.169991</td>\n",
       "      <td>0.007276</td>\n",
       "      <td>959.241130</td>\n",
       "      <td>1.386878e+05</td>\n",
       "      <td>22265.926800</td>\n",
       "      <td>2.0</td>\n",
       "      <td>0.009724</td>\n",
       "    </tr>\n",
       "    <tr>\n",
       "      <th>155</th>\n",
       "      <td>CMG US Equity</td>\n",
       "      <td>Chipotle Mexican Grill Inc</td>\n",
       "      <td>US1696561059</td>\n",
       "      <td>UNITED STATES</td>\n",
       "      <td>USD</td>\n",
       "      <td>Consumer Discretionary</td>\n",
       "      <td>Retail</td>\n",
       "      <td>North America</td>\n",
       "      <td>0.001189</td>\n",
       "      <td>0.284092</td>\n",
       "      <td>...</td>\n",
       "      <td>7.758674</td>\n",
       "      <td>8.242878</td>\n",
       "      <td>109.326461</td>\n",
       "      <td>13.711046</td>\n",
       "      <td>14.566726</td>\n",
       "      <td>193.200545</td>\n",
       "      <td>7.951385e+04</td>\n",
       "      <td>10610.277240</td>\n",
       "      <td>2.0</td>\n",
       "      <td>0.075000</td>\n",
       "    </tr>\n",
       "    <tr>\n",
       "      <th>173</th>\n",
       "      <td>REGN US Equity</td>\n",
       "      <td>Regeneron Pharmaceuticals Inc</td>\n",
       "      <td>US75886F1075</td>\n",
       "      <td>UNITED STATES</td>\n",
       "      <td>USD</td>\n",
       "      <td>Health Care</td>\n",
       "      <td>Biotechnology</td>\n",
       "      <td>North America</td>\n",
       "      <td>0.001099</td>\n",
       "      <td>0.254785</td>\n",
       "      <td>...</td>\n",
       "      <td>2.655695</td>\n",
       "      <td>2.026112</td>\n",
       "      <td>96.964499</td>\n",
       "      <td>5.203772</td>\n",
       "      <td>3.970119</td>\n",
       "      <td>189.999664</td>\n",
       "      <td>1.111384e+05</td>\n",
       "      <td>13374.913890</td>\n",
       "      <td>2.0</td>\n",
       "      <td>0.075000</td>\n",
       "    </tr>\n",
       "    <tr>\n",
       "      <th>232</th>\n",
       "      <td>FTNT US Equity</td>\n",
       "      <td>Fortinet Inc</td>\n",
       "      <td>US34959E1091</td>\n",
       "      <td>UNITED STATES</td>\n",
       "      <td>USD</td>\n",
       "      <td>Information Technology</td>\n",
       "      <td>Computers</td>\n",
       "      <td>North America</td>\n",
       "      <td>0.000869</td>\n",
       "      <td>0.259116</td>\n",
       "      <td>...</td>\n",
       "      <td>0.102035</td>\n",
       "      <td>0.416515</td>\n",
       "      <td>44.521282</td>\n",
       "      <td>0.240806</td>\n",
       "      <td>0.982984</td>\n",
       "      <td>105.071170</td>\n",
       "      <td>5.520495e+04</td>\n",
       "      <td>5516.061720</td>\n",
       "      <td>2.0</td>\n",
       "      <td>0.075000</td>\n",
       "    </tr>\n",
       "    <tr>\n",
       "      <th>448</th>\n",
       "      <td>DECK US Equity</td>\n",
       "      <td>Deckers Outdoor Corp</td>\n",
       "      <td>US2435371073</td>\n",
       "      <td>UNITED STATES</td>\n",
       "      <td>USD</td>\n",
       "      <td>Consumer Discretionary</td>\n",
       "      <td>Apparel</td>\n",
       "      <td>North America</td>\n",
       "      <td>0.000447</td>\n",
       "      <td>0.255144</td>\n",
       "      <td>...</td>\n",
       "      <td>0.086331</td>\n",
       "      <td>0.053488</td>\n",
       "      <td>511.354258</td>\n",
       "      <td>0.102178</td>\n",
       "      <td>0.063306</td>\n",
       "      <td>605.218692</td>\n",
       "      <td>2.259569e+04</td>\n",
       "      <td>4501.964276</td>\n",
       "      <td>2.0</td>\n",
       "      <td>0.075000</td>\n",
       "    </tr>\n",
       "    <tr>\n",
       "      <th>496</th>\n",
       "      <td>AHT LN Equity</td>\n",
       "      <td>Ashtead Group PLC</td>\n",
       "      <td>GB0000536739</td>\n",
       "      <td>BRITAIN</td>\n",
       "      <td>GBp</td>\n",
       "      <td>Industrials</td>\n",
       "      <td>Commercial Services</td>\n",
       "      <td>Europe</td>\n",
       "      <td>0.000396</td>\n",
       "      <td>0.243019</td>\n",
       "      <td>...</td>\n",
       "      <td>35.323359</td>\n",
       "      <td>3.817674</td>\n",
       "      <td>225.446657</td>\n",
       "      <td>32.763286</td>\n",
       "      <td>3.540987</td>\n",
       "      <td>209.107333</td>\n",
       "      <td>4.091171e+04</td>\n",
       "      <td>10401.337510</td>\n",
       "      <td>2.5</td>\n",
       "      <td>0.075000</td>\n",
       "    </tr>\n",
       "    <tr>\n",
       "      <th>530</th>\n",
       "      <td>TYL US Equity</td>\n",
       "      <td>Tyler Technologies Inc</td>\n",
       "      <td>US9022521051</td>\n",
       "      <td>UNITED STATES</td>\n",
       "      <td>USD</td>\n",
       "      <td>Information Technology</td>\n",
       "      <td>Software</td>\n",
       "      <td>North America</td>\n",
       "      <td>0.000358</td>\n",
       "      <td>0.247743</td>\n",
       "      <td>...</td>\n",
       "      <td>0.358396</td>\n",
       "      <td>1.239810</td>\n",
       "      <td>38.338351</td>\n",
       "      <td>1.041479</td>\n",
       "      <td>3.602821</td>\n",
       "      <td>111.409208</td>\n",
       "      <td>2.472955e+04</td>\n",
       "      <td>2006.760601</td>\n",
       "      <td>2.0</td>\n",
       "      <td>0.005488</td>\n",
       "    </tr>\n",
       "    <tr>\n",
       "      <th>1140</th>\n",
       "      <td>SRT3 GY Equity</td>\n",
       "      <td>Sartorius AG</td>\n",
       "      <td>DE0007165631</td>\n",
       "      <td>GERMANY</td>\n",
       "      <td>EUR</td>\n",
       "      <td>Health Care</td>\n",
       "      <td>Electronics</td>\n",
       "      <td>Europe</td>\n",
       "      <td>0.000087</td>\n",
       "      <td>0.231105</td>\n",
       "      <td>...</td>\n",
       "      <td>2.473340</td>\n",
       "      <td>9.133784</td>\n",
       "      <td>279.008893</td>\n",
       "      <td>3.942293</td>\n",
       "      <td>14.558474</td>\n",
       "      <td>444.716428</td>\n",
       "      <td>2.246570e+04</td>\n",
       "      <td>3323.700000</td>\n",
       "      <td>2.0</td>\n",
       "      <td>0.075000</td>\n",
       "    </tr>\n",
       "    <tr>\n",
       "      <th>1153</th>\n",
       "      <td>DIM FP Equity</td>\n",
       "      <td>Sartorius Stedim Biotech</td>\n",
       "      <td>FR0013154002</td>\n",
       "      <td>FRANCE</td>\n",
       "      <td>EUR</td>\n",
       "      <td>Health Care</td>\n",
       "      <td>Healthcare-Products</td>\n",
       "      <td>Europe</td>\n",
       "      <td>0.000083</td>\n",
       "      <td>0.233739</td>\n",
       "      <td>...</td>\n",
       "      <td>2.689915</td>\n",
       "      <td>9.933574</td>\n",
       "      <td>252.673816</td>\n",
       "      <td>4.789984</td>\n",
       "      <td>17.688905</td>\n",
       "      <td>449.941089</td>\n",
       "      <td>2.065690e+04</td>\n",
       "      <td>2735.500000</td>\n",
       "      <td>2.0</td>\n",
       "      <td>0.044043</td>\n",
       "    </tr>\n",
       "    <tr>\n",
       "      <th>1203</th>\n",
       "      <td>SAGAA SS Equity</td>\n",
       "      <td>Sagax AB</td>\n",
       "      <td>SE0004635878</td>\n",
       "      <td>SWEDEN</td>\n",
       "      <td>SEK</td>\n",
       "      <td>Real Estate</td>\n",
       "      <td>Real Estate</td>\n",
       "      <td>Europe</td>\n",
       "      <td>0.000056</td>\n",
       "      <td>0.290261</td>\n",
       "      <td>...</td>\n",
       "      <td>0.001775</td>\n",
       "      <td>0.012423</td>\n",
       "      <td>37.269387</td>\n",
       "      <td>0.013970</td>\n",
       "      <td>0.097790</td>\n",
       "      <td>293.373230</td>\n",
       "      <td>1.433699e+04</td>\n",
       "      <td>429.493720</td>\n",
       "      <td>2.5</td>\n",
       "      <td>0.075000</td>\n",
       "    </tr>\n",
       "    <tr>\n",
       "      <th>1236</th>\n",
       "      <td>VIV FP Equity</td>\n",
       "      <td>Vivendi SE</td>\n",
       "      <td>FR0000127771</td>\n",
       "      <td>FRANCE</td>\n",
       "      <td>EUR</td>\n",
       "      <td>Communication Services</td>\n",
       "      <td>Media</td>\n",
       "      <td>Europe</td>\n",
       "      <td>0.000025</td>\n",
       "      <td>0.607743</td>\n",
       "      <td>...</td>\n",
       "      <td>2.447923</td>\n",
       "      <td>5.243136</td>\n",
       "      <td>530.161246</td>\n",
       "      <td>0.692344</td>\n",
       "      <td>1.482912</td>\n",
       "      <td>149.945056</td>\n",
       "      <td>1.782760e+04</td>\n",
       "      <td>14864.000000</td>\n",
       "      <td>1.0</td>\n",
       "      <td>0.075000</td>\n",
       "    </tr>\n",
       "  </tbody>\n",
       "</table>\n",
       "<p>17 rows × 101 columns</p>\n",
       "</div>"
      ],
      "text/plain": [
       "               ticker                           name          isin  \\\n",
       "1      NVDA US Equity                    NVIDIA Corp  US67066G1040   \n",
       "14       MA US Equity                 Mastercard Inc  US57636Q1040   \n",
       "19     NFLX US Equity                    Netflix Inc  US64110L1061   \n",
       "22      CRM US Equity                 Salesforce Inc  US79466L3024   \n",
       "24    NOVOB DC Equity               Novo Nordisk A/S  DK0062498333   \n",
       "33      NOW US Equity                 ServiceNow Inc  US81762P1021   \n",
       "60     BKNG US Equity           Booking Holdings Inc  US09857L1089   \n",
       "155     CMG US Equity     Chipotle Mexican Grill Inc  US1696561059   \n",
       "173    REGN US Equity  Regeneron Pharmaceuticals Inc  US75886F1075   \n",
       "232    FTNT US Equity                   Fortinet Inc  US34959E1091   \n",
       "448    DECK US Equity           Deckers Outdoor Corp  US2435371073   \n",
       "496     AHT LN Equity              Ashtead Group PLC  GB0000536739   \n",
       "530     TYL US Equity         Tyler Technologies Inc  US9022521051   \n",
       "1140   SRT3 GY Equity                   Sartorius AG  DE0007165631   \n",
       "1153    DIM FP Equity       Sartorius Stedim Biotech  FR0013154002   \n",
       "1203  SAGAA SS Equity                       Sagax AB  SE0004635878   \n",
       "1236    VIV FP Equity                     Vivendi SE  FR0000127771   \n",
       "\n",
       "            country currency        gics_sector_name          industry_group  \\\n",
       "1     UNITED STATES      USD  Information Technology          Semiconductors   \n",
       "14    UNITED STATES      USD              Financials  Diversified Finan Serv   \n",
       "19    UNITED STATES      USD  Communication Services                Internet   \n",
       "22    UNITED STATES      USD  Information Technology                Software   \n",
       "24          DENMARK      DKK             Health Care         Pharmaceuticals   \n",
       "33    UNITED STATES      USD  Information Technology                Software   \n",
       "60    UNITED STATES      USD  Consumer Discretionary                Internet   \n",
       "155   UNITED STATES      USD  Consumer Discretionary                  Retail   \n",
       "173   UNITED STATES      USD             Health Care           Biotechnology   \n",
       "232   UNITED STATES      USD  Information Technology               Computers   \n",
       "448   UNITED STATES      USD  Consumer Discretionary                 Apparel   \n",
       "496         BRITAIN      GBp             Industrials     Commercial Services   \n",
       "530   UNITED STATES      USD  Information Technology                Software   \n",
       "1140        GERMANY      EUR             Health Care             Electronics   \n",
       "1153         FRANCE      EUR             Health Care     Healthcare-Products   \n",
       "1203         SWEDEN      SEK             Real Estate             Real Estate   \n",
       "1236         FRANCE      EUR  Communication Services                   Media   \n",
       "\n",
       "          region_en  Weight in MSCI World  Annualized return 20Y  ...  \\\n",
       "1     North America              0.046132               0.396705  ...   \n",
       "14    North America              0.006298               0.289978  ...   \n",
       "19    North America              0.005515               0.376162  ...   \n",
       "22    North America              0.004466               0.256363  ...   \n",
       "24           Europe              0.004264               0.218411  ...   \n",
       "33    North America              0.003177               0.232904  ...   \n",
       "60    North America              0.002389               0.318621  ...   \n",
       "155   North America              0.001189               0.284092  ...   \n",
       "173   North America              0.001099               0.254785  ...   \n",
       "232   North America              0.000869               0.259116  ...   \n",
       "448   North America              0.000447               0.255144  ...   \n",
       "496          Europe              0.000396               0.243019  ...   \n",
       "530   North America              0.000358               0.247743  ...   \n",
       "1140         Europe              0.000087               0.231105  ...   \n",
       "1153         Europe              0.000083               0.233739  ...   \n",
       "1203         Europe              0.000056               0.290261  ...   \n",
       "1236         Europe              0.000025               0.607743  ...   \n",
       "\n",
       "      FOOTPRINT_SCOPE_1  FOOTPRINT_SCOPE_2  FOOTPRINT_SCOPE_3  \\\n",
       "1              0.018164           0.224788          34.721009   \n",
       "14             0.033665           0.459141          24.730839   \n",
       "19             0.353979           0.415922         115.939906   \n",
       "22             0.062587           4.381089          59.867483   \n",
       "24             0.706436           0.135853          67.557619   \n",
       "33             0.058149           1.315634          23.429482   \n",
       "60             0.115734           0.004953         653.075464   \n",
       "155            7.758674           8.242878         109.326461   \n",
       "173            2.655695           2.026112          96.964499   \n",
       "232            0.102035           0.416515          44.521282   \n",
       "448            0.086331           0.053488         511.354258   \n",
       "496           35.323359           3.817674         225.446657   \n",
       "530            0.358396           1.239810          38.338351   \n",
       "1140           2.473340           9.133784         279.008893   \n",
       "1153           2.689915           9.933574         252.673816   \n",
       "1203           0.001775           0.012423          37.269387   \n",
       "1236           2.447923           5.243136         530.161246   \n",
       "\n",
       "      INTENSITY_SCOPE_1  INTENSITY_SCOPE_2  INTENSITY_SCOPE_3            EV  \\\n",
       "1              0.131528           1.627755         251.425343  3.359642e+06   \n",
       "14             0.135197           1.843861          99.316304  4.479303e+05   \n",
       "19             0.711690           0.836228         233.102162  3.089634e+05   \n",
       "22             0.111356           7.794915         106.517341  2.710248e+05   \n",
       "24             2.149638           0.413392         205.573224  4.682249e+05   \n",
       "33             0.240423           5.439600          96.871189  1.772127e+05   \n",
       "60             0.169991           0.007276         959.241130  1.386878e+05   \n",
       "155           13.711046          14.566726         193.200545  7.951385e+04   \n",
       "173            5.203772           3.970119         189.999664  1.111384e+05   \n",
       "232            0.240806           0.982984         105.071170  5.520495e+04   \n",
       "448            0.102178           0.063306         605.218692  2.259569e+04   \n",
       "496           32.763286           3.540987         209.107333  4.091171e+04   \n",
       "530            1.041479           3.602821         111.409208  2.472955e+04   \n",
       "1140           3.942293          14.558474         444.716428  2.246570e+04   \n",
       "1153           4.789984          17.688905         449.941089  2.065690e+04   \n",
       "1203           0.013970           0.097790         293.373230  1.433699e+04   \n",
       "1236           0.692344           1.482912         149.945056  1.782760e+04   \n",
       "\n",
       "              SALES  INVEST_DURABLE     Poids  \n",
       "1     109406.527100             6.5  0.075000  \n",
       "14     26302.422900             2.0  0.075000  \n",
       "19     36237.703140             1.0  0.010000  \n",
       "22     35920.855100             3.5  0.075000  \n",
       "24     36285.180300             2.0  0.036233  \n",
       "33     10107.177600             3.0  0.069512  \n",
       "60     22265.926800             2.0  0.009724  \n",
       "155    10610.277240             2.0  0.075000  \n",
       "173    13374.913890             2.0  0.075000  \n",
       "232     5516.061720             2.0  0.075000  \n",
       "448     4501.964276             2.0  0.075000  \n",
       "496    10401.337510             2.5  0.075000  \n",
       "530     2006.760601             2.0  0.005488  \n",
       "1140    3323.700000             2.0  0.075000  \n",
       "1153    2735.500000             2.0  0.044043  \n",
       "1203     429.493720             2.5  0.075000  \n",
       "1236   14864.000000             1.0  0.075000  \n",
       "\n",
       "[17 rows x 101 columns]"
      ]
     },
     "execution_count": 19,
     "metadata": {},
     "output_type": "execute_result"
    }
   ],
   "source": [
    "df6[df6['Poids']>0.001]"
   ]
  },
  {
   "cell_type": "code",
   "execution_count": 29,
   "metadata": {},
   "outputs": [
    {
     "name": "stdout",
     "output_type": "stream",
     "text": [
      "['ticker', 'name', 'isin', 'country', 'currency', 'gics_sector_name', 'industry_group', 'region_en', 'Weight in MSCI World', 'Annualized return 20Y', 'Annualized return 10Y', 'Annualized return 5Y', 'Annualized return 1Y', 'Volatility 20Y', 'Volatility 10Y', 'Volatility 5Y', 'Volatility 1Y', 'Sharpe 20Y', 'Sharpe 10Y', 'Sharpe 5Y', 'Sharpe 1Y', 'VaR 99% 20Y', 'VaR 99% 10Y', 'VaR 99% 5Y', 'VaR 99% 1Y', 'VaR 95% 20Y', 'VaR 95% 10Y', 'VaR 95% 5Y', 'VaR 95% 1Y', 'CVaR 95% 20Y', 'CVaR 95% 10Y', 'CVaR 95% 5Y', 'CVaR 95% 1Y', 'Max drawdown 20Y', 'Max drawdown 10Y', 'Max drawdown 5Y', 'Max drawdown 1Y', 'ROA', 'ROE', 'ROIC', 'Net margin', 'Gross margin', 'Dividend payout ratio', 'Dividend yield', 'FCF yield', 'Debt assets', 'Quick ratio', 'Current ratio', 'PE ratio', 'PB ratio', 'PS ratio', 'PCF ratio', 'ITR', 'S1_ITR', 'S2_ITR', 'S3_ITR', 'CBN_LCT_SCORE', 'IVA_COMPANY_RATING', 'E_SCORE', 'S_SCORE', 'G_SCORE', 'E_CONTROVERSY', 'S_CONTROVERSY', 'G_CONTROVERSY', 'SDG_01_NET_ALIGNMENT_SCORE', 'SDG_02_NET_ALIGNMENT_SCORE', 'SDG_03_NET_ALIGNMENT_SCORE', 'SDG_04_NET_ALIGNMENT_SCORE', 'SDG_05_NET_ALIGNMENT_SCORE', 'SDG_06_NET_ALIGNMENT_SCORE', 'SDG_07_NET_ALIGNMENT_SCORE', 'SDG_08_NET_ALIGNMENT_SCORE', 'SDG_09_NET_ALIGNMENT_SCORE', 'SDG_10_NET_ALIGNMENT_SCORE', 'SDG_11_NET_ALIGNMENT_SCORE', 'SDG_12_NET_ALIGNMENT_SCORE', 'SDG_13_NET_ALIGNMENT_SCORE', 'SDG_14_NET_ALIGNMENT_SCORE', 'SDG_15_NET_ALIGNMENT_SCORE', 'SDG_16_NET_ALIGNMENT_SCORE', 'SDG_17_NET_ALIGNMENT_SCORE', 'EST_EU_TAXONOMY_MAX_REV', 'EU_TAXONOMY_ELIGIBLE_MAX_REV', 'CWEAP_TIE', 'TOB_PRODUCER', 'REP_EU_TAXONOMY_CAPEX_ELIGIBLE', 'REP_EU_TAXONOMY_OPEX_ELIGIBLE', 'CT_TOTAL_MAX_REV', 'SCOPE_1', 'SCOPE_2', 'SCOPE_3', 'FOOTPRINT_SCOPE_1', 'FOOTPRINT_SCOPE_2', 'FOOTPRINT_SCOPE_3', 'INTENSITY_SCOPE_1', 'INTENSITY_SCOPE_2', 'INTENSITY_SCOPE_3', 'EV', 'SALES', 'INVEST_DURABLE', 'Poids']\n"
     ]
    }
   ],
   "source": [
    "print(df6.columns.tolist())"
   ]
  },
  {
   "cell_type": "code",
   "execution_count": 20,
   "metadata": {},
   "outputs": [
    {
     "name": "stderr",
     "output_type": "stream",
     "text": [
      "C:\\Users\\thibc\\AppData\\Local\\Temp\\ipykernel_12120\\2030503218.py:43: UserWarning: Glyph 128202 (\\N{BAR CHART}) missing from font(s) DejaVu Sans.\n",
      "  plt.tight_layout()\n",
      "C:\\Users\\thibc\\AppData\\Roaming\\Python\\Python312\\site-packages\\IPython\\core\\pylabtools.py:170: UserWarning: Glyph 128202 (\\N{BAR CHART}) missing from font(s) DejaVu Sans.\n",
      "  fig.canvas.print_figure(bytes_io, **kw)\n"
     ]
    },
    {
     "data": {
      "image/png": "[encoded data removed]",
      "text/plain": [
       "<Figure size 1200x600 with 1 Axes>"
      ]
     },
     "metadata": {},
     "output_type": "display_data"
    }
   ],
   "source": [
    "import matplotlib.pyplot as plt\n",
    "import numpy as np\n",
    "import pandas as pd\n",
    "\n",
    "\n",
    "# 📌 Calcul des valeurs pour df6 (portefeuille optimisé)\n",
    "df6_values = [\n",
    "    (df6['Poids'] * df6[metric]).sum() if metric in df6.columns else None for metric in odds\n",
    "]\n",
    "\n",
    "# 📌 Calcul des valeurs pour df (MSCI World)\n",
    "df_values = [\n",
    "    (df['Weight in MSCI World'] * df[metric]).sum() if metric in df.columns else None for metric in odds\n",
    "]\n",
    "\n",
    "# 📌 Création du graphique\n",
    "x = np.arange(len(odds))  # Indices des barres\n",
    "width = 0.4  # Largeur des barres\n",
    "\n",
    "fig, ax = plt.subplots(figsize=(12, 6))\n",
    "\n",
    "# 🔹 Barres pour le portefeuille optimisé (df6)\n",
    "bars1 = ax.bar(x - width/2, df6_values, width, label=\"Portefeuille Optimisé\", color='blue')\n",
    "\n",
    "# 🔹 Barres pour MSCI World (df)\n",
    "bars2 = ax.bar(x + width/2, df_values, width, label=\"MSCI World\", color='orange')\n",
    "\n",
    "# 📌 Personnalisation du graphique\n",
    "ax.set_xlabel(\"Métriques\")\n",
    "ax.set_ylabel(\"Valeurs Pondérées\")\n",
    "ax.set_title(\"📊 Comparaison entre le Portefeuille Optimisé et MSCI World pour les ODD\")\n",
    "ax.set_xticks(x)\n",
    "ax.set_xticklabels([\"ODD_\"+x.split(\"_\")[1] for x in odds], rotation=45, ha=\"right\")\n",
    "ax.legend()\n",
    "\n",
    "# 📌 Ajouter les valeurs sur les barres\n",
    "for bars in [bars1, bars2]:\n",
    "    for bar in bars:\n",
    "        yval = bar.get_height()\n",
    "        ax.text(bar.get_x() + bar.get_width()/2, yval, f\"{yval:.2f}\", ha=\"center\", va=\"bottom\", fontsize=9)\n",
    "\n",
    "# 📌 Affichage\n",
    "plt.tight_layout()\n",
    "plt.show()\n"
   ]
  },
  {
   "cell_type": "code",
   "execution_count": 27,
   "metadata": {},
   "outputs": [
    {
     "data": {
      "application/vnd.plotly.v1+json": {
       "config": {
        "plotlyServerURL": "https://plot.ly"
       },
       "data": [
        {
         "marker": {
          "color": "blue"
         },
         "name": "Fonds article 9",
         "type": "bar",
         "x": [
          "ODD_01",
          "ODD_02",
          "ODD_03",
          "ODD_04",
          "ODD_05",
          "ODD_06",
          "ODD_07",
          "ODD_08",
          "ODD_09",
          "ODD_10",
          "ODD_11",
          "ODD_12",
          "ODD_13",
          "ODD_14",
          "ODD_15",
          "ODD_16",
          "ODD_17"
         ],
         "y": [
          0.8240090114326927,
          -0.0749999999999396,
          0.46431495099851927,
          0.30274390244325866,
          2.312500000000453,
          0.5924359150090425,
          1.313944479739114,
          1.7129142524354193,
          0.949733299170507,
          1.8759889406996382,
          0.11250000000011386,
          2.004544460960634,
          1.7677439024434904,
          -0.07499999999999313,
          -3.260206361951678e-14,
          0.9324036491622445,
          2.0057450382564253
         ]
        },
        {
         "marker": {
          "color": "orange"
         },
         "name": "MSCI World",
         "type": "bar",
         "x": [
          "ODD_01",
          "ODD_02",
          "ODD_03",
          "ODD_04",
          "ODD_05",
          "ODD_06",
          "ODD_07",
          "ODD_08",
          "ODD_09",
          "ODD_10",
          "ODD_11",
          "ODD_12",
          "ODD_13",
          "ODD_14",
          "ODD_15",
          "ODD_16",
          "ODD_17"
         ],
         "y": [
          0.0775825055,
          0.019335309000000002,
          -0.111505415,
          -0.022077644,
          1.9017966155000001,
          0.9266744179999999,
          0.6206072210000001,
          1.0800233255,
          0.100041403,
          1.0660665655,
          -0.03663600200000001,
          1.034473784,
          0.8416237785000001,
          -0.257901699,
          -0.3408436385,
          0.057018434999999965,
          0.07954162000000001
         ]
        }
       ],
       "layout": {
        "barmode": "group",
        "font": {
         "color": "black",
         "family": "Arial, sans-serif",
         "size": 12
        },
        "legend": {
         "bgcolor": "rgba(255,255,255,0.7)",
         "bordercolor": "black",
         "borderwidth": 1,
         "title": {
          "text": "Légende"
         },
         "x": 0.02,
         "y": 0.98
        },
        "template": {
         "data": {
          "bar": [
           {
            "error_x": {
             "color": "#2a3f5f"
            },
            "error_y": {
             "color": "#2a3f5f"
            },
            "marker": {
             "line": {
              "color": "white",
              "width": 0.5
             },
             "pattern": {
              "fillmode": "overlay",
              "size": 10,
              "solidity": 0.2
             }
            },
            "type": "bar"
           }
          ],
          "barpolar": [
           {
            "marker": {
             "line": {
              "color": "white",
              "width": 0.5
             },
             "pattern": {
              "fillmode": "overlay",
              "size": 10,
              "solidity": 0.2
             }
            },
            "type": "barpolar"
           }
          ],
          "carpet": [
           {
            "aaxis": {
             "endlinecolor": "#2a3f5f",
             "gridcolor": "#C8D4E3",
             "linecolor": "#C8D4E3",
             "minorgridcolor": "#C8D4E3",
             "startlinecolor": "#2a3f5f"
            },
            "baxis": {
             "endlinecolor": "#2a3f5f",
             "gridcolor": "#C8D4E3",
             "linecolor": "#C8D4E3",
             "minorgridcolor": "#C8D4E3",
             "startlinecolor": "#2a3f5f"
            },
            "type": "carpet"
           }
          ],
          "choropleth": [
           {
            "colorbar": {
             "outlinewidth": 0,
             "ticks": ""
            },
            "type": "choropleth"
           }
          ],
          "contour": [
           {
            "colorbar": {
             "outlinewidth": 0,
             "ticks": ""
            },
            "colorscale": [
             [
              0,
              "#0d0887"
             ],
             [
              0.1111111111111111,
              "#46039f"
             ],
             [
              0.2222222222222222,
              "#7201a8"
             ],
             [
              0.3333333333333333,
              "#9c179e"
             ],
             [
              0.4444444444444444,
              "#bd3786"
             ],
             [
              0.5555555555555556,
              "#d8576b"
             ],
             [
              0.6666666666666666,
              "#ed7953"
             ],
             [
              0.7777777777777778,
              "#fb9f3a"
             ],
             [
              0.8888888888888888,
              "#fdca26"
             ],
             [
              1,
              "#f0f921"
             ]
            ],
            "type": "contour"
           }
          ],
          "contourcarpet": [
           {
            "colorbar": {
             "outlinewidth": 0,
             "ticks": ""
            },
            "type": "contourcarpet"
           }
          ],
          "heatmap": [
           {
            "colorbar": {
             "outlinewidth": 0,
             "ticks": ""
            },
            "colorscale": [
             [
              0,
              "#0d0887"
             ],
             [
              0.1111111111111111,
              "#46039f"
             ],
             [
              0.2222222222222222,
              "#7201a8"
             ],
             [
              0.3333333333333333,
              "#9c179e"
             ],
             [
              0.4444444444444444,
              "#bd3786"
             ],
             [
              0.5555555555555556,
              "#d8576b"
             ],
             [
              0.6666666666666666,
              "#ed7953"
             ],
             [
              0.7777777777777778,
              "#fb9f3a"
             ],
             [
              0.8888888888888888,
              "#fdca26"
             ],
             [
              1,
              "#f0f921"
             ]
            ],
            "type": "heatmap"
           }
          ],
          "heatmapgl": [
           {
            "colorbar": {
             "outlinewidth": 0,
             "ticks": ""
            },
            "colorscale": [
             [
              0,
              "#0d0887"
             ],
             [
              0.1111111111111111,
              "#46039f"
             ],
             [
              0.2222222222222222,
              "#7201a8"
             ],
             [
              0.3333333333333333,
              "#9c179e"
             ],
             [
              0.4444444444444444,
              "#bd3786"
             ],
             [
              0.5555555555555556,
              "#d8576b"
             ],
             [
              0.6666666666666666,
              "#ed7953"
             ],
             [
              0.7777777777777778,
              "#fb9f3a"
             ],
             [
              0.8888888888888888,
              "#fdca26"
             ],
             [
              1,
              "#f0f921"
             ]
            ],
            "type": "heatmapgl"
           }
          ],
          "histogram": [
           {
            "marker": {
             "pattern": {
              "fillmode": "overlay",
              "size": 10,
              "solidity": 0.2
             }
            },
            "type": "histogram"
           }
          ],
          "histogram2d": [
           {
            "colorbar": {
             "outlinewidth": 0,
             "ticks": ""
            },
            "colorscale": [
             [
              0,
              "#0d0887"
             ],
             [
              0.1111111111111111,
              "#46039f"
             ],
             [
              0.2222222222222222,
              "#7201a8"
             ],
             [
              0.3333333333333333,
              "#9c179e"
             ],
             [
              0.4444444444444444,
              "#bd3786"
             ],
             [
              0.5555555555555556,
              "#d8576b"
             ],
             [
              0.6666666666666666,
              "#ed7953"
             ],
             [
              0.7777777777777778,
              "#fb9f3a"
             ],
             [
              0.8888888888888888,
              "#fdca26"
             ],
             [
              1,
              "#f0f921"
             ]
            ],
            "type": "histogram2d"
           }
          ],
          "histogram2dcontour": [
           {
            "colorbar": {
             "outlinewidth": 0,
             "ticks": ""
            },
            "colorscale": [
             [
              0,
              "#0d0887"
             ],
             [
              0.1111111111111111,
              "#46039f"
             ],
             [
              0.2222222222222222,
              "#7201a8"
             ],
             [
              0.3333333333333333,
              "#9c179e"
             ],
             [
              0.4444444444444444,
              "#bd3786"
             ],
             [
              0.5555555555555556,
              "#d8576b"
             ],
             [
              0.6666666666666666,
              "#ed7953"
             ],
             [
              0.7777777777777778,
              "#fb9f3a"
             ],
             [
              0.8888888888888888,
              "#fdca26"
             ],
             [
              1,
              "#f0f921"
             ]
            ],
            "type": "histogram2dcontour"
           }
          ],
          "mesh3d": [
           {
            "colorbar": {
             "outlinewidth": 0,
             "ticks": ""
            },
            "type": "mesh3d"
           }
          ],
          "parcoords": [
           {
            "line": {
             "colorbar": {
              "outlinewidth": 0,
              "ticks": ""
             }
            },
            "type": "parcoords"
           }
          ],
          "pie": [
           {
            "automargin": true,
            "type": "pie"
           }
          ],
          "scatter": [
           {
            "fillpattern": {
             "fillmode": "overlay",
             "size": 10,
             "solidity": 0.2
            },
            "type": "scatter"
           }
          ],
          "scatter3d": [
           {
            "line": {
             "colorbar": {
              "outlinewidth": 0,
              "ticks": ""
             }
            },
            "marker": {
             "colorbar": {
              "outlinewidth": 0,
              "ticks": ""
             }
            },
            "type": "scatter3d"
           }
          ],
          "scattercarpet": [
           {
            "marker": {
             "colorbar": {
              "outlinewidth": 0,
              "ticks": ""
             }
            },
            "type": "scattercarpet"
           }
          ],
          "scattergeo": [
           {
            "marker": {
             "colorbar": {
              "outlinewidth": 0,
              "ticks": ""
             }
            },
            "type": "scattergeo"
           }
          ],
          "scattergl": [
           {
            "marker": {
             "colorbar": {
              "outlinewidth": 0,
              "ticks": ""
             }
            },
            "type": "scattergl"
           }
          ],
          "scattermapbox": [
           {
            "marker": {
             "colorbar": {
              "outlinewidth": 0,
              "ticks": ""
             }
            },
            "type": "scattermapbox"
           }
          ],
          "scatterpolar": [
           {
            "marker": {
             "colorbar": {
              "outlinewidth": 0,
              "ticks": ""
             }
            },
            "type": "scatterpolar"
           }
          ],
          "scatterpolargl": [
           {
            "marker": {
             "colorbar": {
              "outlinewidth": 0,
              "ticks": ""
             }
            },
            "type": "scatterpolargl"
           }
          ],
          "scatterternary": [
           {
            "marker": {
             "colorbar": {
              "outlinewidth": 0,
              "ticks": ""
             }
            },
            "type": "scatterternary"
           }
          ],
          "surface": [
           {
            "colorbar": {
             "outlinewidth": 0,
             "ticks": ""
            },
            "colorscale": [
             [
              0,
              "#0d0887"
             ],
             [
              0.1111111111111111,
              "#46039f"
             ],
             [
              0.2222222222222222,
              "#7201a8"
             ],
             [
              0.3333333333333333,
              "#9c179e"
             ],
             [
              0.4444444444444444,
              "#bd3786"
             ],
             [
              0.5555555555555556,
              "#d8576b"
             ],
             [
              0.6666666666666666,
              "#ed7953"
             ],
             [
              0.7777777777777778,
              "#fb9f3a"
             ],
             [
              0.8888888888888888,
              "#fdca26"
             ],
             [
              1,
              "#f0f921"
             ]
            ],
            "type": "surface"
           }
          ],
          "table": [
           {
            "cells": {
             "fill": {
              "color": "#EBF0F8"
             },
             "line": {
              "color": "white"
             }
            },
            "header": {
             "fill": {
              "color": "#C8D4E3"
             },
             "line": {
              "color": "white"
             }
            },
            "type": "table"
           }
          ]
         },
         "layout": {
          "annotationdefaults": {
           "arrowcolor": "#2a3f5f",
           "arrowhead": 0,
           "arrowwidth": 1
          },
          "autotypenumbers": "strict",
          "coloraxis": {
           "colorbar": {
            "outlinewidth": 0,
            "ticks": ""
           }
          },
          "colorscale": {
           "diverging": [
            [
             0,
             "#8e0152"
            ],
            [
             0.1,
             "#c51b7d"
            ],
            [
             0.2,
             "#de77ae"
            ],
            [
             0.3,
             "#f1b6da"
            ],
            [
             0.4,
             "#fde0ef"
            ],
            [
             0.5,
             "#f7f7f7"
            ],
            [
             0.6,
             "#e6f5d0"
            ],
            [
             0.7,
             "#b8e186"
            ],
            [
             0.8,
             "#7fbc41"
            ],
            [
             0.9,
             "#4d9221"
            ],
            [
             1,
             "#276419"
            ]
           ],
           "sequential": [
            [
             0,
             "#0d0887"
            ],
            [
             0.1111111111111111,
             "#46039f"
            ],
            [
             0.2222222222222222,
             "#7201a8"
            ],
            [
             0.3333333333333333,
             "#9c179e"
            ],
            [
             0.4444444444444444,
             "#bd3786"
            ],
            [
             0.5555555555555556,
             "#d8576b"
            ],
            [
             0.6666666666666666,
             "#ed7953"
            ],
            [
             0.7777777777777778,
             "#fb9f3a"
            ],
            [
             0.8888888888888888,
             "#fdca26"
            ],
            [
             1,
             "#f0f921"
            ]
           ],
           "sequentialminus": [
            [
             0,
             "#0d0887"
            ],
            [
             0.1111111111111111,
             "#46039f"
            ],
            [
             0.2222222222222222,
             "#7201a8"
            ],
            [
             0.3333333333333333,
             "#9c179e"
            ],
            [
             0.4444444444444444,
             "#bd3786"
            ],
            [
             0.5555555555555556,
             "#d8576b"
            ],
            [
             0.6666666666666666,
             "#ed7953"
            ],
            [
             0.7777777777777778,
             "#fb9f3a"
            ],
            [
             0.8888888888888888,
             "#fdca26"
            ],
            [
             1,
             "#f0f921"
            ]
           ]
          },
          "colorway": [
           "#636efa",
           "#EF553B",
           "#00cc96",
           "#ab63fa",
           "#FFA15A",
           "#19d3f3",
           "#FF6692",
           "#B6E880",
           "#FF97FF",
           "#FECB52"
          ],
          "font": {
           "color": "#2a3f5f"
          },
          "geo": {
           "bgcolor": "white",
           "lakecolor": "white",
           "landcolor": "white",
           "showlakes": true,
           "showland": true,
           "subunitcolor": "#C8D4E3"
          },
          "hoverlabel": {
           "align": "left"
          },
          "hovermode": "closest",
          "mapbox": {
           "style": "light"
          },
          "paper_bgcolor": "white",
          "plot_bgcolor": "white",
          "polar": {
           "angularaxis": {
            "gridcolor": "#EBF0F8",
            "linecolor": "#EBF0F8",
            "ticks": ""
           },
           "bgcolor": "white",
           "radialaxis": {
            "gridcolor": "#EBF0F8",
            "linecolor": "#EBF0F8",
            "ticks": ""
           }
          },
          "scene": {
           "xaxis": {
            "backgroundcolor": "white",
            "gridcolor": "#DFE8F3",
            "gridwidth": 2,
            "linecolor": "#EBF0F8",
            "showbackground": true,
            "ticks": "",
            "zerolinecolor": "#EBF0F8"
           },
           "yaxis": {
            "backgroundcolor": "white",
            "gridcolor": "#DFE8F3",
            "gridwidth": 2,
            "linecolor": "#EBF0F8",
            "showbackground": true,
            "ticks": "",
            "zerolinecolor": "#EBF0F8"
           },
           "zaxis": {
            "backgroundcolor": "white",
            "gridcolor": "#DFE8F3",
            "gridwidth": 2,
            "linecolor": "#EBF0F8",
            "showbackground": true,
            "ticks": "",
            "zerolinecolor": "#EBF0F8"
           }
          },
          "shapedefaults": {
           "line": {
            "color": "#2a3f5f"
           }
          },
          "ternary": {
           "aaxis": {
            "gridcolor": "#DFE8F3",
            "linecolor": "#A2B1C6",
            "ticks": ""
           },
           "baxis": {
            "gridcolor": "#DFE8F3",
            "linecolor": "#A2B1C6",
            "ticks": ""
           },
           "bgcolor": "white",
           "caxis": {
            "gridcolor": "#DFE8F3",
            "linecolor": "#A2B1C6",
            "ticks": ""
           }
          },
          "title": {
           "x": 0.05
          },
          "xaxis": {
           "automargin": true,
           "gridcolor": "#EBF0F8",
           "linecolor": "#EBF0F8",
           "ticks": "",
           "title": {
            "standoff": 15
           },
           "zerolinecolor": "#EBF0F8",
           "zerolinewidth": 2
          },
          "yaxis": {
           "automargin": true,
           "gridcolor": "#EBF0F8",
           "linecolor": "#EBF0F8",
           "ticks": "",
           "title": {
            "standoff": 15
           },
           "zerolinecolor": "#EBF0F8",
           "zerolinewidth": 2
          }
         }
        },
        "title": {
         "text": "Comparaison entre notre fonds article 9 et et MSCI World pour les ODD"
        },
        "xaxis": {
         "title": {
          "text": "ODD"
         }
        },
        "yaxis": {
         "title": {
          "text": "Score moyen"
         }
        }
       }
      }
     },
     "metadata": {},
     "output_type": "display_data"
    }
   ],
   "source": [
    "import plotly.graph_objects as go\n",
    "import numpy as np\n",
    "\n",
    "# 📌 Calcul des valeurs pour df6 (portefeuille optimisé)\n",
    "df6_values = [\n",
    "    (df6['Poids'] * df6[metric]).sum() if metric in df6.columns else None for metric in odds\n",
    "]\n",
    "\n",
    "# 📌 Calcul des valeurs pour df (MSCI World)\n",
    "df_values = [\n",
    "    (df['Weight in MSCI World'] * df[metric]).sum() if metric in df.columns else None for metric in odds\n",
    "]\n",
    "\n",
    "# 📌 Création du graphique\n",
    "x = np.arange(len(odds))  # Indices des barres\n",
    "\n",
    "fig = go.Figure()\n",
    "\n",
    "# 🔹 Barres pour le portefeuille optimisé (df6)\n",
    "fig.add_trace(go.Bar(\n",
    "    x=[\"ODD_\" + x.split(\"_\")[1] for x in odds],\n",
    "    y=df6_values,\n",
    "    name=\"Fonds article 9\",\n",
    "    marker_color='blue'\n",
    "))\n",
    "\n",
    "# 🔹 Barres pour MSCI World (df)\n",
    "fig.add_trace(go.Bar(\n",
    "    x=[\"ODD_\" + x.split(\"_\")[1] for x in odds],\n",
    "    y=df_values,\n",
    "    name=\"MSCI World\",\n",
    "    marker_color='orange'\n",
    "))\n",
    "\n",
    "# 📌 Personnalisation du graphique\n",
    "fig.update_layout(\n",
    "    title=\"Comparaison entre notre fonds article 9 et et MSCI World pour les ODD\",\n",
    "    xaxis_title=\"ODD\",\n",
    "    yaxis_title=\"Score moyen\",\n",
    "    barmode='group',\n",
    "    template='plotly_white',  # Thème professionnel\n",
    "    font=dict(\n",
    "        family=\"Arial, sans-serif\",\n",
    "        size=12,\n",
    "        color=\"black\"\n",
    "    ),\n",
    "    legend=dict(\n",
    "        title=\"Légende\",\n",
    "        x=0.02, y=0.98,\n",
    "        bgcolor='rgba(255,255,255,0.7)',\n",
    "        bordercolor='black',\n",
    "        borderwidth=1\n",
    "    )\n",
    ")\n",
    "\n",
    "# 📌 Affichage\n",
    "fig.show()"
   ]
  },
  {
   "cell_type": "code",
   "execution_count": 33,
   "metadata": {},
   "outputs": [
    {
     "data": {
      "application/vnd.plotly.v1+json": {
       "config": {
        "plotlyServerURL": "https://plot.ly"
       },
       "data": [
        {
         "marker": {
          "color": "blue"
         },
         "name": "Fonds article 9",
         "type": "bar",
         "x": [
          "E_SCORE",
          "S_SCORE",
          "G_SCORE",
          "E_CONTROVERSY",
          "S_CONTROVERSY",
          "G_CONTROVERSY"
         ],
         "y": [
          7.152072174232554,
          6.0178757585207485,
          6.344478413943968,
          9.700000000002104,
          6.518495977710746,
          8.671657009742034
         ]
        },
        {
         "marker": {
          "color": "orange"
         },
         "name": "MSCI World",
         "type": "bar",
         "x": [
          "E_SCORE",
          "S_SCORE",
          "G_SCORE",
          "E_CONTROVERSY",
          "S_CONTROVERSY",
          "G_CONTROVERSY"
         ],
         "y": [
          6.702299149800001,
          5.1125413661,
          5.6482565943,
          9.144694848,
          4.036944304,
          7.1026828889999996
         ]
        }
       ],
       "layout": {
        "barmode": "group",
        "font": {
         "color": "black",
         "family": "Arial, sans-serif",
         "size": 12
        },
        "legend": {
         "bgcolor": "rgba(255,255,255,0.7)",
         "bordercolor": "black",
         "borderwidth": 1,
         "title": {
          "text": "Légende"
         },
         "x": 0.02,
         "y": 0.98
        },
        "template": {
         "data": {
          "bar": [
           {
            "error_x": {
             "color": "#2a3f5f"
            },
            "error_y": {
             "color": "#2a3f5f"
            },
            "marker": {
             "line": {
              "color": "white",
              "width": 0.5
             },
             "pattern": {
              "fillmode": "overlay",
              "size": 10,
              "solidity": 0.2
             }
            },
            "type": "bar"
           }
          ],
          "barpolar": [
           {
            "marker": {
             "line": {
              "color": "white",
              "width": 0.5
             },
             "pattern": {
              "fillmode": "overlay",
              "size": 10,
              "solidity": 0.2
             }
            },
            "type": "barpolar"
           }
          ],
          "carpet": [
           {
            "aaxis": {
             "endlinecolor": "#2a3f5f",
             "gridcolor": "#C8D4E3",
             "linecolor": "#C8D4E3",
             "minorgridcolor": "#C8D4E3",
             "startlinecolor": "#2a3f5f"
            },
            "baxis": {
             "endlinecolor": "#2a3f5f",
             "gridcolor": "#C8D4E3",
             "linecolor": "#C8D4E3",
             "minorgridcolor": "#C8D4E3",
             "startlinecolor": "#2a3f5f"
            },
            "type": "carpet"
           }
          ],
          "choropleth": [
           {
            "colorbar": {
             "outlinewidth": 0,
             "ticks": ""
            },
            "type": "choropleth"
           }
          ],
          "contour": [
           {
            "colorbar": {
             "outlinewidth": 0,
             "ticks": ""
            },
            "colorscale": [
             [
              0,
              "#0d0887"
             ],
             [
              0.1111111111111111,
              "#46039f"
             ],
             [
              0.2222222222222222,
              "#7201a8"
             ],
             [
              0.3333333333333333,
              "#9c179e"
             ],
             [
              0.4444444444444444,
              "#bd3786"
             ],
             [
              0.5555555555555556,
              "#d8576b"
             ],
             [
              0.6666666666666666,
              "#ed7953"
             ],
             [
              0.7777777777777778,
              "#fb9f3a"
             ],
             [
              0.8888888888888888,
              "#fdca26"
             ],
             [
              1,
              "#f0f921"
             ]
            ],
            "type": "contour"
           }
          ],
          "contourcarpet": [
           {
            "colorbar": {
             "outlinewidth": 0,
             "ticks": ""
            },
            "type": "contourcarpet"
           }
          ],
          "heatmap": [
           {
            "colorbar": {
             "outlinewidth": 0,
             "ticks": ""
            },
            "colorscale": [
             [
              0,
              "#0d0887"
             ],
             [
              0.1111111111111111,
              "#46039f"
             ],
             [
              0.2222222222222222,
              "#7201a8"
             ],
             [
              0.3333333333333333,
              "#9c179e"
             ],
             [
              0.4444444444444444,
              "#bd3786"
             ],
             [
              0.5555555555555556,
              "#d8576b"
             ],
             [
              0.6666666666666666,
              "#ed7953"
             ],
             [
              0.7777777777777778,
              "#fb9f3a"
             ],
             [
              0.8888888888888888,
              "#fdca26"
             ],
             [
              1,
              "#f0f921"
             ]
            ],
            "type": "heatmap"
           }
          ],
          "heatmapgl": [
           {
            "colorbar": {
             "outlinewidth": 0,
             "ticks": ""
            },
            "colorscale": [
             [
              0,
              "#0d0887"
             ],
             [
              0.1111111111111111,
              "#46039f"
             ],
             [
              0.2222222222222222,
              "#7201a8"
             ],
             [
              0.3333333333333333,
              "#9c179e"
             ],
             [
              0.4444444444444444,
              "#bd3786"
             ],
             [
              0.5555555555555556,
              "#d8576b"
             ],
             [
              0.6666666666666666,
              "#ed7953"
             ],
             [
              0.7777777777777778,
              "#fb9f3a"
             ],
             [
              0.8888888888888888,
              "#fdca26"
             ],
             [
              1,
              "#f0f921"
             ]
            ],
            "type": "heatmapgl"
           }
          ],
          "histogram": [
           {
            "marker": {
             "pattern": {
              "fillmode": "overlay",
              "size": 10,
              "solidity": 0.2
             }
            },
            "type": "histogram"
           }
          ],
          "histogram2d": [
           {
            "colorbar": {
             "outlinewidth": 0,
             "ticks": ""
            },
            "colorscale": [
             [
              0,
              "#0d0887"
             ],
             [
              0.1111111111111111,
              "#46039f"
             ],
             [
              0.2222222222222222,
              "#7201a8"
             ],
             [
              0.3333333333333333,
              "#9c179e"
             ],
             [
              0.4444444444444444,
              "#bd3786"
             ],
             [
              0.5555555555555556,
              "#d8576b"
             ],
             [
              0.6666666666666666,
              "#ed7953"
             ],
             [
              0.7777777777777778,
              "#fb9f3a"
             ],
             [
              0.8888888888888888,
              "#fdca26"
             ],
             [
              1,
              "#f0f921"
             ]
            ],
            "type": "histogram2d"
           }
          ],
          "histogram2dcontour": [
           {
            "colorbar": {
             "outlinewidth": 0,
             "ticks": ""
            },
            "colorscale": [
             [
              0,
              "#0d0887"
             ],
             [
              0.1111111111111111,
              "#46039f"
             ],
             [
              0.2222222222222222,
              "#7201a8"
             ],
             [
              0.3333333333333333,
              "#9c179e"
             ],
             [
              0.4444444444444444,
              "#bd3786"
             ],
             [
              0.5555555555555556,
              "#d8576b"
             ],
             [
              0.6666666666666666,
              "#ed7953"
             ],
             [
              0.7777777777777778,
              "#fb9f3a"
             ],
             [
              0.8888888888888888,
              "#fdca26"
             ],
             [
              1,
              "#f0f921"
             ]
            ],
            "type": "histogram2dcontour"
           }
          ],
          "mesh3d": [
           {
            "colorbar": {
             "outlinewidth": 0,
             "ticks": ""
            },
            "type": "mesh3d"
           }
          ],
          "parcoords": [
           {
            "line": {
             "colorbar": {
              "outlinewidth": 0,
              "ticks": ""
             }
            },
            "type": "parcoords"
           }
          ],
          "pie": [
           {
            "automargin": true,
            "type": "pie"
           }
          ],
          "scatter": [
           {
            "fillpattern": {
             "fillmode": "overlay",
             "size": 10,
             "solidity": 0.2
            },
            "type": "scatter"
           }
          ],
          "scatter3d": [
           {
            "line": {
             "colorbar": {
              "outlinewidth": 0,
              "ticks": ""
             }
            },
            "marker": {
             "colorbar": {
              "outlinewidth": 0,
              "ticks": ""
             }
            },
            "type": "scatter3d"
           }
          ],
          "scattercarpet": [
           {
            "marker": {
             "colorbar": {
              "outlinewidth": 0,
              "ticks": ""
             }
            },
            "type": "scattercarpet"
           }
          ],
          "scattergeo": [
           {
            "marker": {
             "colorbar": {
              "outlinewidth": 0,
              "ticks": ""
             }
            },
            "type": "scattergeo"
           }
          ],
          "scattergl": [
           {
            "marker": {
             "colorbar": {
              "outlinewidth": 0,
              "ticks": ""
             }
            },
            "type": "scattergl"
           }
          ],
          "scattermapbox": [
           {
            "marker": {
             "colorbar": {
              "outlinewidth": 0,
              "ticks": ""
             }
            },
            "type": "scattermapbox"
           }
          ],
          "scatterpolar": [
           {
            "marker": {
             "colorbar": {
              "outlinewidth": 0,
              "ticks": ""
             }
            },
            "type": "scatterpolar"
           }
          ],
          "scatterpolargl": [
           {
            "marker": {
             "colorbar": {
              "outlinewidth": 0,
              "ticks": ""
             }
            },
            "type": "scatterpolargl"
           }
          ],
          "scatterternary": [
           {
            "marker": {
             "colorbar": {
              "outlinewidth": 0,
              "ticks": ""
             }
            },
            "type": "scatterternary"
           }
          ],
          "surface": [
           {
            "colorbar": {
             "outlinewidth": 0,
             "ticks": ""
            },
            "colorscale": [
             [
              0,
              "#0d0887"
             ],
             [
              0.1111111111111111,
              "#46039f"
             ],
             [
              0.2222222222222222,
              "#7201a8"
             ],
             [
              0.3333333333333333,
              "#9c179e"
             ],
             [
              0.4444444444444444,
              "#bd3786"
             ],
             [
              0.5555555555555556,
              "#d8576b"
             ],
             [
              0.6666666666666666,
              "#ed7953"
             ],
             [
              0.7777777777777778,
              "#fb9f3a"
             ],
             [
              0.8888888888888888,
              "#fdca26"
             ],
             [
              1,
              "#f0f921"
             ]
            ],
            "type": "surface"
           }
          ],
          "table": [
           {
            "cells": {
             "fill": {
              "color": "#EBF0F8"
             },
             "line": {
              "color": "white"
             }
            },
            "header": {
             "fill": {
              "color": "#C8D4E3"
             },
             "line": {
              "color": "white"
             }
            },
            "type": "table"
           }
          ]
         },
         "layout": {
          "annotationdefaults": {
           "arrowcolor": "#2a3f5f",
           "arrowhead": 0,
           "arrowwidth": 1
          },
          "autotypenumbers": "strict",
          "coloraxis": {
           "colorbar": {
            "outlinewidth": 0,
            "ticks": ""
           }
          },
          "colorscale": {
           "diverging": [
            [
             0,
             "#8e0152"
            ],
            [
             0.1,
             "#c51b7d"
            ],
            [
             0.2,
             "#de77ae"
            ],
            [
             0.3,
             "#f1b6da"
            ],
            [
             0.4,
             "#fde0ef"
            ],
            [
             0.5,
             "#f7f7f7"
            ],
            [
             0.6,
             "#e6f5d0"
            ],
            [
             0.7,
             "#b8e186"
            ],
            [
             0.8,
             "#7fbc41"
            ],
            [
             0.9,
             "#4d9221"
            ],
            [
             1,
             "#276419"
            ]
           ],
           "sequential": [
            [
             0,
             "#0d0887"
            ],
            [
             0.1111111111111111,
             "#46039f"
            ],
            [
             0.2222222222222222,
             "#7201a8"
            ],
            [
             0.3333333333333333,
             "#9c179e"
            ],
            [
             0.4444444444444444,
             "#bd3786"
            ],
            [
             0.5555555555555556,
             "#d8576b"
            ],
            [
             0.6666666666666666,
             "#ed7953"
            ],
            [
             0.7777777777777778,
             "#fb9f3a"
            ],
            [
             0.8888888888888888,
             "#fdca26"
            ],
            [
             1,
             "#f0f921"
            ]
           ],
           "sequentialminus": [
            [
             0,
             "#0d0887"
            ],
            [
             0.1111111111111111,
             "#46039f"
            ],
            [
             0.2222222222222222,
             "#7201a8"
            ],
            [
             0.3333333333333333,
             "#9c179e"
            ],
            [
             0.4444444444444444,
             "#bd3786"
            ],
            [
             0.5555555555555556,
             "#d8576b"
            ],
            [
             0.6666666666666666,
             "#ed7953"
            ],
            [
             0.7777777777777778,
             "#fb9f3a"
            ],
            [
             0.8888888888888888,
             "#fdca26"
            ],
            [
             1,
             "#f0f921"
            ]
           ]
          },
          "colorway": [
           "#636efa",
           "#EF553B",
           "#00cc96",
           "#ab63fa",
           "#FFA15A",
           "#19d3f3",
           "#FF6692",
           "#B6E880",
           "#FF97FF",
           "#FECB52"
          ],
          "font": {
           "color": "#2a3f5f"
          },
          "geo": {
           "bgcolor": "white",
           "lakecolor": "white",
           "landcolor": "white",
           "showlakes": true,
           "showland": true,
           "subunitcolor": "#C8D4E3"
          },
          "hoverlabel": {
           "align": "left"
          },
          "hovermode": "closest",
          "mapbox": {
           "style": "light"
          },
          "paper_bgcolor": "white",
          "plot_bgcolor": "white",
          "polar": {
           "angularaxis": {
            "gridcolor": "#EBF0F8",
            "linecolor": "#EBF0F8",
            "ticks": ""
           },
           "bgcolor": "white",
           "radialaxis": {
            "gridcolor": "#EBF0F8",
            "linecolor": "#EBF0F8",
            "ticks": ""
           }
          },
          "scene": {
           "xaxis": {
            "backgroundcolor": "white",
            "gridcolor": "#DFE8F3",
            "gridwidth": 2,
            "linecolor": "#EBF0F8",
            "showbackground": true,
            "ticks": "",
            "zerolinecolor": "#EBF0F8"
           },
           "yaxis": {
            "backgroundcolor": "white",
            "gridcolor": "#DFE8F3",
            "gridwidth": 2,
            "linecolor": "#EBF0F8",
            "showbackground": true,
            "ticks": "",
            "zerolinecolor": "#EBF0F8"
           },
           "zaxis": {
            "backgroundcolor": "white",
            "gridcolor": "#DFE8F3",
            "gridwidth": 2,
            "linecolor": "#EBF0F8",
            "showbackground": true,
            "ticks": "",
            "zerolinecolor": "#EBF0F8"
           }
          },
          "shapedefaults": {
           "line": {
            "color": "#2a3f5f"
           }
          },
          "ternary": {
           "aaxis": {
            "gridcolor": "#DFE8F3",
            "linecolor": "#A2B1C6",
            "ticks": ""
           },
           "baxis": {
            "gridcolor": "#DFE8F3",
            "linecolor": "#A2B1C6",
            "ticks": ""
           },
           "bgcolor": "white",
           "caxis": {
            "gridcolor": "#DFE8F3",
            "linecolor": "#A2B1C6",
            "ticks": ""
           }
          },
          "title": {
           "x": 0.05
          },
          "xaxis": {
           "automargin": true,
           "gridcolor": "#EBF0F8",
           "linecolor": "#EBF0F8",
           "ticks": "",
           "title": {
            "standoff": 15
           },
           "zerolinecolor": "#EBF0F8",
           "zerolinewidth": 2
          },
          "yaxis": {
           "automargin": true,
           "gridcolor": "#EBF0F8",
           "linecolor": "#EBF0F8",
           "ticks": "",
           "title": {
            "standoff": 15
           },
           "zerolinecolor": "#EBF0F8",
           "zerolinewidth": 2
          }
         }
        },
        "title": {
         "text": "Comparaison entre notre fonds article 9 et et MSCI World pour les scores E,S & G et les scores de controverses"
        },
        "xaxis": {
         "title": {
          "text": "Pilier"
         }
        },
        "yaxis": {
         "title": {
          "text": "Score moyen"
         }
        }
       }
      }
     },
     "metadata": {},
     "output_type": "display_data"
    }
   ],
   "source": [
    "scores = ['SCOPE_1', 'SCOPE_2', 'SCOPE_3', 'FOOTPRINT_SCOPE_1', 'FOOTPRINT_SCOPE_2', 'FOOTPRINT_SCOPE_3']\n",
    "\n",
    "# 📌 Calcul des valeurs pour df6 (portefeuille optimisé)\n",
    "df6_values = [\n",
    "    (df6['Poids'] * df6[metric]).sum() if metric in df6.columns else None for metric in scores\n",
    "]\n",
    "\n",
    "# 📌 Calcul des valeurs pour df (MSCI World)\n",
    "df_values = [\n",
    "    (df['Weight in MSCI World'] * df[metric]).sum() if metric in df.columns else None for metric in scores\n",
    "]\n",
    "\n",
    "# 📌 Création du graphique\n",
    "x = np.arange(len(scores))  # Indices des barres\n",
    "\n",
    "fig = go.Figure()\n",
    "\n",
    "# 🔹 Barres pour le portefeuille optimisé (df6)\n",
    "fig.add_trace(go.Bar(\n",
    "    x=[x for x in scores],\n",
    "    y=df6_values,\n",
    "    name=\"Fonds article 9\",\n",
    "    marker_color='blue'\n",
    "))\n",
    "\n",
    "# 🔹 Barres pour MSCI World (df)\n",
    "fig.add_trace(go.Bar(\n",
    "    x=[x for x in scores],\n",
    "    y=df_values,\n",
    "    name=\"MSCI World\",\n",
    "    marker_color='orange'\n",
    "))\n",
    "\n",
    "# 📌 Personnalisation du graphique\n",
    "fig.update_layout(\n",
    "    title=\"Comparaison entre notre fonds article 9 et et MSCI World pour les scores E,S & G et les scores de controverses\",\n",
    "    xaxis_title=\"Pilier\",\n",
    "    yaxis_title=\"Score moyen\",\n",
    "    barmode='group',\n",
    "    template='plotly_white',\n",
    "    font=dict(\n",
    "        family=\"Arial, sans-serif\",\n",
    "        size=12,\n",
    "        color=\"black\"\n",
    "    ),\n",
    "    legend=dict(\n",
    "        title=\"Légende\",\n",
    "        x=0.02, y=0.98,\n",
    "        bgcolor='rgba(255,255,255,0.7)',\n",
    "        bordercolor='black',\n",
    "        borderwidth=1\n",
    "    )\n",
    ")\n",
    "\n",
    "# 📌 Affichage\n",
    "fig.show()"
   ]
  },
  {
   "cell_type": "code",
   "execution_count": null,
   "metadata": {},
   "outputs": [],
   "source": [
    "scores = ['SCOPE_1', 'SCOPE_2', 'SCOPE_3', 'FOOTPRINT_SCOPE_1', 'FOOTPRINT_SCOPE_2', 'FOOTPRINT_SCOPE_3']\n",
    "\n",
    "# 📌 Calcul des valeurs pour df6 (portefeuille optimisé)\n",
    "df6_values = [\n",
    "    (df6['Poids'] * df6[metric]).sum() if metric in df6.columns else None for metric in scores\n",
    "]\n",
    "\n",
    "# 📌 Calcul des valeurs pour df (MSCI World)\n",
    "df_values = [\n",
    "    (df['Weight in MSCI World'] * df[metric]).sum() if metric in df.columns else None for metric in scores\n",
    "]\n",
    "\n",
    "# 📌 Création du graphique\n",
    "x = np.arange(len(scores))  # Indices des barres\n",
    "\n",
    "fig = go.Figure()\n",
    "\n",
    "# 🔹 Barres pour le portefeuille optimisé (df6)\n",
    "fig.add_trace(go.Bar(\n",
    "    x=[x for x in scores],\n",
    "    y=df6_values,\n",
    "    name=\"Fonds article 9\",\n",
    "    marker_color='blue'\n",
    "))\n",
    "\n",
    "# 🔹 Barres pour MSCI World (df)\n",
    "fig.add_trace(go.Bar(\n",
    "    x=[x for x in scores],\n",
    "    y=df_values,\n",
    "    name=\"MSCI World\",\n",
    "    marker_color='orange'\n",
    "))\n",
    "\n",
    "# 📌 Personnalisation du graphique\n",
    "fig.update_layout(\n",
    "    title=\"Comparaison entre notre fonds article 9 et et MSCI World pour les scores Scopes 1 à 3\",\n",
    "    xaxis_title=\"Pilier\",\n",
    "    yaxis_title=\"Score moyen\",\n",
    "    barmode='group',\n",
    "    template='plotly_white',\n",
    "    font=dict(\n",
    "        family=\"Arial, sans-serif\",\n",
    "        size=12,\n",
    "        color=\"black\"\n",
    "    ),\n",
    "    legend=dict(\n",
    "        title=\"Légende\",\n",
    "        x=0.02, y=0.98,\n",
    "        bgcolor='rgba(255,255,255,0.7)',\n",
    "        bordercolor='black',\n",
    "        borderwidth=1\n",
    "    )\n",
    ")\n",
    "\n",
    "# 📌 Affichage\n",
    "fig.show()"
   ]
  }
 ],
 "metadata": {
  "kernelspec": {
   "display_name": "Python 3",
   "language": "python",
   "name": "python3"
  },
  "language_info": {
   "codemirror_mode": {
    "name": "ipython",
    "version": 3
   },
   "file_extension": ".py",
   "mimetype": "text/x-python",
   "name": "python",
   "nbconvert_exporter": "python",
   "pygments_lexer": "ipython3",
   "version": "3.12.3"
  }
 },
 "nbformat": 4,
 "nbformat_minor": 2
}
