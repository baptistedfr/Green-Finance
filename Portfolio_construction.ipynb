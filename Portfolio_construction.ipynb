{
 "cells": [
  {
   "cell_type": "code",
   "execution_count": 2,
   "metadata": {},
   "outputs": [],
   "source": [
    "import pandas as pd\n",
    "import numpy as np\n",
    "from scipy.optimize import minimize\n",
    "import plotly.graph_objects as go"
   ]
  },
  {
   "cell_type": "markdown",
   "metadata": {},
   "source": [
    "## Lecture des datas"
   ]
  },
  {
   "cell_type": "code",
   "execution_count": 3,
   "metadata": {},
   "outputs": [
    {
     "name": "stdout",
     "output_type": "stream",
     "text": [
      "1247 tickers\n"
     ]
    }
   ],
   "source": [
    "df = pd.read_csv(\"Data/all_data.csv\", sep=\";\")\n",
    "print(f\"{len(df)} tickers\")"
   ]
  },
  {
   "cell_type": "markdown",
   "metadata": {},
   "source": [
    "## Exclusions"
   ]
  },
  {
   "cell_type": "markdown",
   "metadata": {},
   "source": [
    "### Tabac / Armes controversées"
   ]
  },
  {
   "cell_type": "code",
   "execution_count": 4,
   "metadata": {},
   "outputs": [
    {
     "name": "stdout",
     "output_type": "stream",
     "text": [
      "1237 tickers\n"
     ]
    }
   ],
   "source": [
    "df2 = df.loc[(df['CWEAP_TIE']!=1) & (df['TOB_PRODUCER']!=1),:]\n",
    "print(f\"{len(df2)} tickers\")"
   ]
  },
  {
   "cell_type": "markdown",
   "metadata": {},
   "source": [
    "Elimination de 10 entreprises"
   ]
  },
  {
   "cell_type": "markdown",
   "metadata": {},
   "source": [
    "### Controverses 0/1"
   ]
  },
  {
   "cell_type": "code",
   "execution_count": 5,
   "metadata": {},
   "outputs": [],
   "source": [
    "columns_controverse = [\"E_CONTROVERSY\", \"S_CONTROVERSY\", 'G_CONTROVERSY']"
   ]
  },
  {
   "cell_type": "code",
   "execution_count": 6,
   "metadata": {},
   "outputs": [
    {
     "name": "stdout",
     "output_type": "stream",
     "text": [
      "NB E_CONTROVERSY : 28\n",
      "NB S_CONTROVERSY : 149\n",
      "NB G_CONTROVERSY : 35\n"
     ]
    }
   ],
   "source": [
    "# Controverse E\n",
    "for col in columns_controverse:\n",
    "    print(f\"NB {col} : {len(df.loc[df[col]<2,:])}\")"
   ]
  },
  {
   "cell_type": "code",
   "execution_count": 7,
   "metadata": {},
   "outputs": [
    {
     "name": "stdout",
     "output_type": "stream",
     "text": [
      "Elimination 175\n",
      "Reste 1062\n"
     ]
    }
   ],
   "source": [
    "df3 = df2.loc[~df2[columns_controverse].lt(2).any(axis=1), :]\n",
    "print(f\"Elimination {len(df2)-len(df3)}\")\n",
    "print(f\"Reste {len(df3)}\")"
   ]
  },
  {
   "cell_type": "markdown",
   "metadata": {},
   "source": [
    "### Note ESG < BB eet E > 3"
   ]
  },
  {
   "cell_type": "code",
   "execution_count": 8,
   "metadata": {},
   "outputs": [
    {
     "name": "stdout",
     "output_type": "stream",
     "text": [
      "NB : 17\n",
      "Elimination 11\n",
      "Reste 1051\n"
     ]
    }
   ],
   "source": [
    "print(f\"NB : {len(df.loc[df[\"IVA_COMPANY_RATING\"].isin(['B','CCC']),:])}\")\n",
    "df4 = df3.loc[~df3[\"IVA_COMPANY_RATING\"].isin(['B','CCC']),:]\n",
    "print(f\"Elimination {len(df3)-len(df4)}\")\n",
    "print(f\"Reste {len(df4)}\")"
   ]
  },
  {
   "cell_type": "code",
   "execution_count": 9,
   "metadata": {},
   "outputs": [
    {
     "name": "stdout",
     "output_type": "stream",
     "text": [
      "NB : 64\n",
      "Elimination 58\n",
      "Reste 993\n"
     ]
    }
   ],
   "source": [
    "print(f\"NB : {len(df.loc[df[\"E_SCORE\"]<=3,:])}\")\n",
    "df5 = df4.loc[df4[\"E_SCORE\"]>3,:]\n",
    "print(f\"Elimination {len(df4)-len(df5)}\")\n",
    "print(f\"Reste {len(df5)}\")"
   ]
  },
  {
   "cell_type": "markdown",
   "metadata": {},
   "source": [
    "### Restrictions ODD"
   ]
  },
  {
   "cell_type": "code",
   "execution_count": 10,
   "metadata": {},
   "outputs": [
    {
     "name": "stdout",
     "output_type": "stream",
     "text": [
      "NB SDG_01_NET_ALIGNMENT_SCORE : 28\n",
      "NB SDG_02_NET_ALIGNMENT_SCORE : 7\n",
      "NB SDG_03_NET_ALIGNMENT_SCORE : 48\n",
      "NB SDG_04_NET_ALIGNMENT_SCORE : 16\n",
      "NB SDG_05_NET_ALIGNMENT_SCORE : 1\n",
      "NB SDG_06_NET_ALIGNMENT_SCORE : 14\n",
      "NB SDG_07_NET_ALIGNMENT_SCORE : 83\n",
      "NB SDG_08_NET_ALIGNMENT_SCORE : 6\n",
      "NB SDG_09_NET_ALIGNMENT_SCORE : 37\n",
      "NB SDG_10_NET_ALIGNMENT_SCORE : 9\n",
      "NB SDG_11_NET_ALIGNMENT_SCORE : 51\n",
      "NB SDG_12_NET_ALIGNMENT_SCORE : 106\n",
      "NB SDG_13_NET_ALIGNMENT_SCORE : 83\n",
      "NB SDG_14_NET_ALIGNMENT_SCORE : 64\n",
      "NB SDG_15_NET_ALIGNMENT_SCORE : 66\n",
      "NB SDG_16_NET_ALIGNMENT_SCORE : 28\n",
      "NB SDG_17_NET_ALIGNMENT_SCORE : 70\n",
      "Elimination 103\n",
      "Reste 890\n",
      "Elimination 157\n",
      "Reste 733\n"
     ]
    }
   ],
   "source": [
    "# odds = [\"07\",\"12\",\"13\"]\n",
    "odds = [x for x in df.columns if x.startswith(\"SDG\")]\n",
    "for odd in odds:\n",
    "    print(f\"NB {odd} : {len(df.loc[df[odd]<=-2,:])}\")\n",
    "\n",
    "df6 = df5.loc[~df5[odds].le(-2).any(axis=1), :]\n",
    "print(f\"Elimination {len(df5)-len(df6)}\")\n",
    "print(f\"Reste {len(df6)}\")\n",
    "\n",
    "df7 = df6.loc[~df6[odds].le(2).all(axis=1), :]\n",
    "print(f\"Elimination {len(df6)-len(df7)}\")\n",
    "print(f\"Reste {len(df7)}\")"
   ]
  },
  {
   "cell_type": "markdown",
   "metadata": {},
   "source": [
    "## Optimisation sous contrainte du portefeuille"
   ]
  },
  {
   "cell_type": "code",
   "execution_count": 11,
   "metadata": {},
   "outputs": [
    {
     "name": "stderr",
     "output_type": "stream",
     "text": [
      "C:\\Users\\bapdu\\AppData\\Local\\Temp\\ipykernel_26056\\2025602295.py:4: SettingWithCopyWarning: \n",
      "A value is trying to be set on a copy of a slice from a DataFrame.\n",
      "Try using .loc[row_indexer,col_indexer] = value instead\n",
      "\n",
      "See the caveats in the documentation: https://pandas.pydata.org/pandas-docs/stable/user_guide/indexing.html#returning-a-view-versus-a-copy\n",
      "  df7['DURABLE_SOCIAL'] = df7[[f'SDG_{col}_NET_ALIGNMENT_SCORE' for col in odds_sociaux]].max(axis=1)\n",
      "C:\\Users\\bapdu\\AppData\\Local\\Temp\\ipykernel_26056\\2025602295.py:5: SettingWithCopyWarning: \n",
      "A value is trying to be set on a copy of a slice from a DataFrame.\n",
      "Try using .loc[row_indexer,col_indexer] = value instead\n",
      "\n",
      "See the caveats in the documentation: https://pandas.pydata.org/pandas-docs/stable/user_guide/indexing.html#returning-a-view-versus-a-copy\n",
      "  df7['DURABLE_ENVIRONNEMENTAL'] = df7[[f'SDG_{col}_NET_ALIGNMENT_SCORE' for col in odds_env]].max(axis=1)\n"
     ]
    }
   ],
   "source": [
    "odds_sociaux = [\"01\",\"02\",\"03\",\"04\",\"05\",\"06\",\"08\",\"10\",\"16\"]\n",
    "odds_env = [\"07\",\"11\",\"12\",\"13\",\"14\",\"15\"]\n",
    "\n",
    "df7['DURABLE_SOCIAL'] = df7[[f'SDG_{col}_NET_ALIGNMENT_SCORE' for col in odds_sociaux]].max(axis=1)\n",
    "df7['DURABLE_ENVIRONNEMENTAL'] = df7[[f'SDG_{col}_NET_ALIGNMENT_SCORE' for col in odds_env]].max(axis=1)"
   ]
  },
  {
   "cell_type": "code",
   "execution_count": 27,
   "metadata": {},
   "outputs": [
    {
     "name": "stdout",
     "output_type": "stream",
     "text": [
      "731\n"
     ]
    }
   ],
   "source": [
    "df_fin = df7.copy()\n",
    "df_fin['EST_EU_TAXONOMY_MAX_REV'] = df_fin['EST_EU_TAXONOMY_MAX_REV'].fillna(0)\n",
    "df_fin['Annualized return 10Y'] = df_fin['Annualized return 10Y'].fillna(0)\n",
    "# df6 = df5.loc[(df5['EST_EU_TAXONOMY_MAX_REV']>0) & (df5['ITR']>0),:] #Si Pas Taxo >0 trop de lignes => trop long a faire tourner\n",
    "\n",
    "df_fin = df_fin.loc[(df_fin['ITR']>0),:]\n",
    "# Nombre de tickers\n",
    "n = len(df_fin)\n",
    "print(n)\n",
    "perf_moy = df_fin['Annualized return 20Y'].values\n",
    "taxonomie = df_fin['EST_EU_TAXONOMY_MAX_REV'].values\n",
    "itr = df_fin['ITR'].values\n",
    "durable_social = df_fin['DURABLE_SOCIAL'].values\n",
    "durable_env = df_fin['DURABLE_ENVIRONNEMENTAL'].values\n",
    "\n",
    "secteurs_uniques = df_fin['gics_sector_name'].unique()  # Liste des secteurs uniques\n",
    "m = len(secteurs_uniques)  # Nombre de secteurs\n",
    "\n",
    "# Matrice binaire (1 si l'actif appartient au secteur, 0 sinon)\n",
    "matrice_secteurs = np.array([[1 if df_fin.iloc[i]['gics_sector_name'] == secteur else 0 for secteur in secteurs_uniques] for i in range(n)])\n",
    "\n",
    "# Fonction objectif (on minimise donc on prend -Perf_moy)\n",
    "def objectif(w):\n",
    "    return -np.dot(w, perf_moy)  # On minimise la valeur négative pour maximiser\n",
    "\n",
    "# Contrainte : Taxonomie pondérée ≥ 10\n",
    "def contrainte_taxonomie(w):\n",
    "    return np.dot(w, taxonomie)-12\n",
    "\n",
    "# Contrainte : ITR < 2\n",
    "def contrainte_itr(w):\n",
    "    return 1.95-np.dot(w, itr)\n",
    "\n",
    "# Contrainte : Alignement environnemental pondéré ≥ 90%\n",
    "def contrainte_alignement_social(w):\n",
    "    filtres_env = (durable_env >= 2).astype(int)  # 1 si durable > 2, sinon 0\n",
    "\n",
    "    # Calcul de la somme des poids des entreprises ayant un score durable > 2\n",
    "    return np.dot(w, filtres_env) - 0.33  # Doit être ≥ 0\n",
    "\n",
    "def contrainte_alignement_env(w):\n",
    "    filtres_social = (durable_social >= 2).astype(int)  # 1 si durable > 2, sinon 0\n",
    "\n",
    "    # Calcul de la somme des poids des entreprises ayant un score durable > 2\n",
    "    return np.dot(w, filtres_social) - 0.33  # Doit être ≥ 0\n",
    "\n",
    "def contrainte_secteur(w):\n",
    "    return 0.30 - np.dot(matrice_secteurs.T, w)  # Doit être ≥ 0 pour chaque secteur\n",
    "\n",
    "# Contrainte : Somme des poids = 1\n",
    "def contrainte_somme(w):\n",
    "    return np.sum(w) - 1\n",
    "\n",
    "\n",
    "# Définition des contraintes sous forme de dictionnaires\n",
    "contraintes = [\n",
    "    {'type': 'eq', 'fun': contrainte_somme},  # Somme des poids = 1\n",
    "    {'type': 'ineq', 'fun': contrainte_taxonomie},  # Taxonomie pondérée ≥ 10\n",
    "    {'type': 'ineq', 'fun': contrainte_itr},  # ITR < 2\n",
    "    {'type': 'ineq', 'fun': contrainte_alignement_social},  # Investissement durable Social ≥ 30%\n",
    "    {'type': 'ineq', 'fun': contrainte_alignement_env}  # Investissement durable env≥ 30%\n",
    "]\n",
    "\n",
    "contraintes_secteurs = [{'type': 'ineq', 'fun': lambda w, j=j: contrainte_secteur(w)[j]} for j in range(m)]\n",
    "\n",
    "contraintes = contraintes + contraintes_secteurs\n",
    "\n",
    "# Bornes (chaque poids doit être positif et max 0.1)\n",
    "bornes = [(0, 0.05) for _ in range(n)]\n",
    "\n",
    "# Initialisation des poids (égalité répartie)\n",
    "# w0 = np.ones(n) / n\n",
    "w0 = df_fin['Weight in MSCI World'].values/df_fin['Weight in MSCI World'].values.sum()\n",
    "# Résolution avec SLSQP\n",
    "resultat = minimize(objectif, w0, method='SLSQP', bounds=bornes, constraints=contraintes)\n",
    "\n",
    "# Vérification des résultats\n",
    "if resultat.success:\n",
    "    w_opt = resultat.x\n",
    "    df_fin['Poids'] = w_opt\n",
    "else:\n",
    "    print(\"L'optimisation a échoué :\", resultat.message)"
   ]
  },
  {
   "cell_type": "markdown",
   "metadata": {},
   "source": [
    "## Résultats"
   ]
  },
  {
   "cell_type": "markdown",
   "metadata": {},
   "source": [
    "### Resultats Portefeuille Article 9"
   ]
  },
  {
   "cell_type": "code",
   "execution_count": 29,
   "metadata": {},
   "outputs": [
    {
     "name": "stdout",
     "output_type": "stream",
     "text": [
      "Return PTF : 0.28987002516315086\n",
      "TAXO : 12.00000000000097\n",
      "ITR : 1.9500000001109505\n",
      "Poids : 1.0000000000001157\n",
      "Investissement durable Social: 0.8500000000001147\n",
      "Investissement durable Environnemental: 0.6698652253264854\n",
      "E_SCORE : 7.268062690905014\n",
      "S_SCORE : 5.597863604926251\n",
      "G_SCORE : 6.407510844872837\n",
      "INTENSITY_SCOPE_1 : 11.29835516455257\n",
      "INTENSITY_SCOPE_2 : 11.148004355390022\n",
      "INTENSITY_SCOPE_3 : 265.6895142491933\n",
      "FOOTPRINT_SCOPE_1 : 8.363491448048961\n",
      "FOOTPRINT_SCOPE_2 : 5.168962650713841\n",
      "FOOTPRINT_SCOPE_3 : 169.51439749457904\n",
      "SDG_01_NET_ALIGNMENT_SCORE : 0.7919310389543441\n",
      "SDG_02_NET_ALIGNMENT_SCORE : 0.2000000000000104\n",
      "SDG_03_NET_ALIGNMENT_SCORE : 0.4121551738847957\n",
      "SDG_04_NET_ALIGNMENT_SCORE : 0.2583547703981499\n",
      "SDG_05_NET_ALIGNMENT_SCORE : 2.289865664696557\n",
      "SDG_06_NET_ALIGNMENT_SCORE : 0.7498625885539615\n",
      "SDG_07_NET_ALIGNMENT_SCORE : 1.1765025446108008\n",
      "SDG_08_NET_ALIGNMENT_SCORE : 1.6682142828097524\n",
      "SDG_09_NET_ALIGNMENT_SCORE : 0.7232204350945537\n",
      "SDG_10_NET_ALIGNMENT_SCORE : 1.8734221577351229\n",
      "SDG_11_NET_ALIGNMENT_SCORE : 0.1450026367725815\n",
      "SDG_12_NET_ALIGNMENT_SCORE : 1.9309013321247803\n",
      "SDG_13_NET_ALIGNMENT_SCORE : 1.556648305744495\n",
      "SDG_14_NET_ALIGNMENT_SCORE : -0.07999736322745157\n",
      "SDG_15_NET_ALIGNMENT_SCORE : -0.05499736322745906\n",
      "SDG_16_NET_ALIGNMENT_SCORE : 0.8967069040238278\n",
      "SDG_17_NET_ALIGNMENT_SCORE : 2.0236947832247427\n"
     ]
    }
   ],
   "source": [
    "print(f\"Return PTF : {(df_fin['Poids']*df_fin['Annualized return 20Y']).sum()}\")\n",
    "print(f\"TAXO : {(df_fin['Poids']*df_fin['EST_EU_TAXONOMY_MAX_REV']).sum()}\") \n",
    "print(f\"ITR : {(df_fin['Poids']*df_fin['ITR']).sum()}\") \n",
    "print(f\"Poids : {(df_fin['Poids']).sum()}\") \n",
    "filtres_durables_social = (df_fin['DURABLE_SOCIAL'] >= 2).astype(int)  # 1 si durable > 2, sinon 0.astype(int)  # 1 si durable > 2, sinon 0\n",
    "print(f\"Investissement durable Social: {(filtres_durables_social*df_fin['Poids']).sum()}\") \n",
    "\n",
    "filtres_durables_env = (df_fin['DURABLE_ENVIRONNEMENTAL'] >= 2).astype(int)  # 1 si durable > 2, sinon 0.astype(int)  # 1 si durable > 2, sinon 0\n",
    "print(f\"Investissement durable Environnemental: {(filtres_durables_env*df_fin['Poids']).sum()}\") \n",
    "\n",
    "col_scores = ['E_SCORE', 'S_SCORE', 'G_SCORE']\n",
    "for col in col_scores:\n",
    "    print(f\"{col} : {(df_fin[col]*df_fin['Poids']).sum()}\") \n",
    "\n",
    "col_inten = ['INTENSITY_SCOPE_1', 'INTENSITY_SCOPE_2', 'INTENSITY_SCOPE_3']\n",
    "for col in col_inten:\n",
    "    print(f\"{col} : {(df_fin[col]*df_fin['Poids']).sum()}\") \n",
    "\n",
    "    \n",
    "col_foot = ['FOOTPRINT_SCOPE_1', 'FOOTPRINT_SCOPE_2', 'FOOTPRINT_SCOPE_3']\n",
    "for col in col_foot:\n",
    "    print(f\"{col} : {(df_fin[col]*df_fin['Poids']).sum()}\")\n",
    "\n",
    "for col in odds:\n",
    "    print(f\"{col} : {(df_fin[col]*df_fin['Poids']).sum()}\")"
   ]
  },
  {
   "cell_type": "markdown",
   "metadata": {},
   "source": [
    "### Resultats MSCI World"
   ]
  },
  {
   "cell_type": "code",
   "execution_count": 14,
   "metadata": {},
   "outputs": [
    {
     "name": "stdout",
     "output_type": "stream",
     "text": [
      "Return PTF : 0.1589968660964774\n",
      "TAXO : 8.88141198983\n",
      "ITR : 2.3882738824\n",
      "Poids : 0.999999286\n",
      "E_SCORE : 6.702299149800001\n",
      "S_SCORE : 5.1125413661\n",
      "G_SCORE : 5.6482565943\n",
      "INTENSITY_SCOPE_1 : 75.69229832018408\n",
      "INTENSITY_SCOPE_2 : 19.946423978449946\n",
      "INTENSITY_SCOPE_3 : 756.2246020384931\n",
      "FOOTPRINT_SCOPE_1 : 118.00648809367438\n",
      "FOOTPRINT_SCOPE_2 : 27.010985263301677\n",
      "FOOTPRINT_SCOPE_3 : 1373.604056364562\n",
      "SDG_01_NET_ALIGNMENT_SCORE : 0.0775825055\n",
      "SDG_02_NET_ALIGNMENT_SCORE : 0.019335309000000002\n",
      "SDG_03_NET_ALIGNMENT_SCORE : -0.111505415\n",
      "SDG_04_NET_ALIGNMENT_SCORE : -0.022077644\n",
      "SDG_05_NET_ALIGNMENT_SCORE : 1.9017966155000001\n",
      "SDG_06_NET_ALIGNMENT_SCORE : 0.9266744179999999\n",
      "SDG_07_NET_ALIGNMENT_SCORE : 0.6206072210000001\n",
      "SDG_08_NET_ALIGNMENT_SCORE : 1.0800233255\n",
      "SDG_09_NET_ALIGNMENT_SCORE : 0.100041403\n",
      "SDG_10_NET_ALIGNMENT_SCORE : 1.0660665655\n",
      "SDG_11_NET_ALIGNMENT_SCORE : -0.03663600200000001\n",
      "SDG_12_NET_ALIGNMENT_SCORE : 1.034473784\n",
      "SDG_13_NET_ALIGNMENT_SCORE : 0.8416237785000001\n",
      "SDG_14_NET_ALIGNMENT_SCORE : -0.257901699\n",
      "SDG_15_NET_ALIGNMENT_SCORE : -0.3408436385\n",
      "SDG_16_NET_ALIGNMENT_SCORE : 0.057018434999999965\n",
      "SDG_17_NET_ALIGNMENT_SCORE : 0.07954162000000001\n"
     ]
    }
   ],
   "source": [
    "print(f\"Return PTF : {(df['Weight in MSCI World']*df['Annualized return 20Y']).sum()}\")\n",
    "print(f\"TAXO : {(df['Weight in MSCI World']*df['EST_EU_TAXONOMY_MAX_REV']).sum()}\") \n",
    "print(f\"ITR : {(df['Weight in MSCI World']*df['ITR']).sum()}\") \n",
    "print(f\"Poids : {(df['Weight in MSCI World']).sum()}\") \n",
    "\n",
    "\n",
    "col_scores = ['E_SCORE', 'S_SCORE', 'G_SCORE']\n",
    "for col in col_scores:\n",
    "    print(f\"{col} : {(df[col]*df['Weight in MSCI World']).sum()}\") \n",
    "\n",
    "col_inten = ['INTENSITY_SCOPE_1', 'INTENSITY_SCOPE_2', 'INTENSITY_SCOPE_3']\n",
    "for col in col_inten:\n",
    "    print(f\"{col} : {(df[col]*df['Weight in MSCI World']).sum()}\") \n",
    "\n",
    "col_foot = ['FOOTPRINT_SCOPE_1', 'FOOTPRINT_SCOPE_2', 'FOOTPRINT_SCOPE_3']\n",
    "for col in col_foot:\n",
    "    print(f\"{col} : {(df[col]*df['Weight in MSCI World']).sum()}\")\n",
    "\n",
    "for col in odds:\n",
    "    print(f\"{col} : {(df[col]*df['Weight in MSCI World']).sum()}\")"
   ]
  },
  {
   "cell_type": "markdown",
   "metadata": {},
   "source": [
    "### Analyse des résultats"
   ]
  },
  {
   "cell_type": "code",
   "execution_count": 31,
   "metadata": {},
   "outputs": [
    {
     "data": {
      "text/plain": [
       "gics_sector_name\n",
       "Communication Services    15.00\n",
       "Consumer Discretionary    12.67\n",
       "Consumer Staples           0.00\n",
       "Energy                     0.00\n",
       "Financials                 5.00\n",
       "Health Care               20.34\n",
       "Industrials                5.00\n",
       "Information Technology    30.00\n",
       "Materials                  5.00\n",
       "Real Estate                6.99\n",
       "Utilities                  0.00\n",
       "Name: Poids, dtype: float64"
      ]
     },
     "execution_count": 31,
     "metadata": {},
     "output_type": "execute_result"
    }
   ],
   "source": [
    "# Repartition sectorielle\n",
    "round((df_fin.groupby('gics_sector_name')['Poids'].sum())*100,2)"
   ]
  },
  {
   "cell_type": "code",
   "execution_count": 32,
   "metadata": {},
   "outputs": [
    {
     "data": {
      "text/plain": [
       "industry_group\n",
       "Apparel                    5.00\n",
       "Biotechnology              5.34\n",
       "Commercial Services        5.00\n",
       "Computers                  5.00\n",
       "Diversified Finan Serv     5.00\n",
       "Electronics                5.00\n",
       "Forest Products&Paper      5.00\n",
       "Healthcare-Products        5.00\n",
       "Internet                   6.67\n",
       "Media                      5.00\n",
       "Pharmaceuticals            5.00\n",
       "REITS                      1.99\n",
       "Real Estate               10.00\n",
       "Retail                     6.00\n",
       "Semiconductors            10.00\n",
       "Software                  15.00\n",
       "Name: Poids, dtype: float64"
      ]
     },
     "execution_count": 32,
     "metadata": {},
     "output_type": "execute_result"
    }
   ],
   "source": [
    "# Sous secteur\n",
    "df_sect = df_fin.groupby('industry_group')['Poids'].sum()\n",
    "round(df_sect[df_sect>0.01]*100,2)"
   ]
  },
  {
   "cell_type": "code",
   "execution_count": 33,
   "metadata": {},
   "outputs": [
    {
     "data": {
      "text/plain": [
       "region_en\n",
       "Asia-Pacific      5.00\n",
       "Europe           30.34\n",
       "Latin America     1.67\n",
       "North America    62.99\n",
       "Name: Poids, dtype: float64"
      ]
     },
     "execution_count": 33,
     "metadata": {},
     "output_type": "execute_result"
    }
   ],
   "source": [
    "# Repartition geo\n",
    "df_geo = df_fin.groupby('region_en')['Poids'].sum()\n",
    "round(df_geo[df_geo>0.01]*100,2)"
   ]
  },
  {
   "cell_type": "code",
   "execution_count": 34,
   "metadata": {},
   "outputs": [
    {
     "data": {
      "text/plain": [
       "IVA_COMPANY_RATING\n",
       "A      11.67\n",
       "AA     36.34\n",
       "AAA    26.99\n",
       "BB      5.00\n",
       "BBB    20.00\n",
       "Name: Poids, dtype: float64"
      ]
     },
     "execution_count": 34,
     "metadata": {},
     "output_type": "execute_result"
    }
   ],
   "source": [
    "# Repartition Note\n",
    "df_esg = df_fin.groupby('IVA_COMPANY_RATING')['Poids'].sum()\n",
    "round(df_esg[df_esg>0.01]*100,2)"
   ]
  },
  {
   "cell_type": "markdown",
   "metadata": {},
   "source": [
    "### Visualisations des résultats"
   ]
  },
  {
   "cell_type": "code",
   "execution_count": 19,
   "metadata": {},
   "outputs": [
    {
     "data": {
      "application/vnd.plotly.v1+json": {
       "config": {
        "plotlyServerURL": "https://plot.ly"
       },
       "data": [
        {
         "marker": {
          "color": "blue"
         },
         "name": "Fonds article 9",
         "type": "bar",
         "x": [
          "ODD_01",
          "ODD_02",
          "ODD_03",
          "ODD_04",
          "ODD_05",
          "ODD_06",
          "ODD_07",
          "ODD_08",
          "ODD_09",
          "ODD_10",
          "ODD_11",
          "ODD_12",
          "ODD_13",
          "ODD_14",
          "ODD_15",
          "ODD_16",
          "ODD_17"
         ],
         "y": [
          0.7927094741799993,
          0.20000000000000775,
          0.4139231454584734,
          0.2583085920005045,
          2.2898854555623394,
          0.7497438442269186,
          1.1761924900272835,
          1.6679108248921226,
          0.7231940475627407,
          1.873375979337433,
          0.1451213810996028,
          1.9308287661953059,
          1.5568330193349533,
          -0.07987861890041945,
          -0.054878618900430956,
          0.8964958029014862,
          2.0237871400199468
         ]
        },
        {
         "marker": {
          "color": "orange"
         },
         "name": "MSCI World",
         "type": "bar",
         "x": [
          "ODD_01",
          "ODD_02",
          "ODD_03",
          "ODD_04",
          "ODD_05",
          "ODD_06",
          "ODD_07",
          "ODD_08",
          "ODD_09",
          "ODD_10",
          "ODD_11",
          "ODD_12",
          "ODD_13",
          "ODD_14",
          "ODD_15",
          "ODD_16",
          "ODD_17"
         ],
         "y": [
          0.0775825055,
          0.019335309000000002,
          -0.111505415,
          -0.022077644,
          1.9017966155000001,
          0.9266744179999999,
          0.6206072210000001,
          1.0800233255,
          0.100041403,
          1.0660665655,
          -0.03663600200000001,
          1.034473784,
          0.8416237785000001,
          -0.257901699,
          -0.3408436385,
          0.057018434999999965,
          0.07954162000000001
         ]
        }
       ],
       "layout": {
        "barmode": "group",
        "font": {
         "color": "black",
         "family": "Arial, sans-serif",
         "size": 12
        },
        "legend": {
         "bgcolor": "rgba(255,255,255,0.7)",
         "bordercolor": "black",
         "borderwidth": 1,
         "x": 0.02,
         "y": 0.98
        },
        "template": {
         "data": {
          "bar": [
           {
            "error_x": {
             "color": "#2a3f5f"
            },
            "error_y": {
             "color": "#2a3f5f"
            },
            "marker": {
             "line": {
              "color": "white",
              "width": 0.5
             },
             "pattern": {
              "fillmode": "overlay",
              "size": 10,
              "solidity": 0.2
             }
            },
            "type": "bar"
           }
          ],
          "barpolar": [
           {
            "marker": {
             "line": {
              "color": "white",
              "width": 0.5
             },
             "pattern": {
              "fillmode": "overlay",
              "size": 10,
              "solidity": 0.2
             }
            },
            "type": "barpolar"
           }
          ],
          "carpet": [
           {
            "aaxis": {
             "endlinecolor": "#2a3f5f",
             "gridcolor": "#C8D4E3",
             "linecolor": "#C8D4E3",
             "minorgridcolor": "#C8D4E3",
             "startlinecolor": "#2a3f5f"
            },
            "baxis": {
             "endlinecolor": "#2a3f5f",
             "gridcolor": "#C8D4E3",
             "linecolor": "#C8D4E3",
             "minorgridcolor": "#C8D4E3",
             "startlinecolor": "#2a3f5f"
            },
            "type": "carpet"
           }
          ],
          "choropleth": [
           {
            "colorbar": {
             "outlinewidth": 0,
             "ticks": ""
            },
            "type": "choropleth"
           }
          ],
          "contour": [
           {
            "colorbar": {
             "outlinewidth": 0,
             "ticks": ""
            },
            "colorscale": [
             [
              0,
              "#0d0887"
             ],
             [
              0.1111111111111111,
              "#46039f"
             ],
             [
              0.2222222222222222,
              "#7201a8"
             ],
             [
              0.3333333333333333,
              "#9c179e"
             ],
             [
              0.4444444444444444,
              "#bd3786"
             ],
             [
              0.5555555555555556,
              "#d8576b"
             ],
             [
              0.6666666666666666,
              "#ed7953"
             ],
             [
              0.7777777777777778,
              "#fb9f3a"
             ],
             [
              0.8888888888888888,
              "#fdca26"
             ],
             [
              1,
              "#f0f921"
             ]
            ],
            "type": "contour"
           }
          ],
          "contourcarpet": [
           {
            "colorbar": {
             "outlinewidth": 0,
             "ticks": ""
            },
            "type": "contourcarpet"
           }
          ],
          "heatmap": [
           {
            "colorbar": {
             "outlinewidth": 0,
             "ticks": ""
            },
            "colorscale": [
             [
              0,
              "#0d0887"
             ],
             [
              0.1111111111111111,
              "#46039f"
             ],
             [
              0.2222222222222222,
              "#7201a8"
             ],
             [
              0.3333333333333333,
              "#9c179e"
             ],
             [
              0.4444444444444444,
              "#bd3786"
             ],
             [
              0.5555555555555556,
              "#d8576b"
             ],
             [
              0.6666666666666666,
              "#ed7953"
             ],
             [
              0.7777777777777778,
              "#fb9f3a"
             ],
             [
              0.8888888888888888,
              "#fdca26"
             ],
             [
              1,
              "#f0f921"
             ]
            ],
            "type": "heatmap"
           }
          ],
          "heatmapgl": [
           {
            "colorbar": {
             "outlinewidth": 0,
             "ticks": ""
            },
            "colorscale": [
             [
              0,
              "#0d0887"
             ],
             [
              0.1111111111111111,
              "#46039f"
             ],
             [
              0.2222222222222222,
              "#7201a8"
             ],
             [
              0.3333333333333333,
              "#9c179e"
             ],
             [
              0.4444444444444444,
              "#bd3786"
             ],
             [
              0.5555555555555556,
              "#d8576b"
             ],
             [
              0.6666666666666666,
              "#ed7953"
             ],
             [
              0.7777777777777778,
              "#fb9f3a"
             ],
             [
              0.8888888888888888,
              "#fdca26"
             ],
             [
              1,
              "#f0f921"
             ]
            ],
            "type": "heatmapgl"
           }
          ],
          "histogram": [
           {
            "marker": {
             "pattern": {
              "fillmode": "overlay",
              "size": 10,
              "solidity": 0.2
             }
            },
            "type": "histogram"
           }
          ],
          "histogram2d": [
           {
            "colorbar": {
             "outlinewidth": 0,
             "ticks": ""
            },
            "colorscale": [
             [
              0,
              "#0d0887"
             ],
             [
              0.1111111111111111,
              "#46039f"
             ],
             [
              0.2222222222222222,
              "#7201a8"
             ],
             [
              0.3333333333333333,
              "#9c179e"
             ],
             [
              0.4444444444444444,
              "#bd3786"
             ],
             [
              0.5555555555555556,
              "#d8576b"
             ],
             [
              0.6666666666666666,
              "#ed7953"
             ],
             [
              0.7777777777777778,
              "#fb9f3a"
             ],
             [
              0.8888888888888888,
              "#fdca26"
             ],
             [
              1,
              "#f0f921"
             ]
            ],
            "type": "histogram2d"
           }
          ],
          "histogram2dcontour": [
           {
            "colorbar": {
             "outlinewidth": 0,
             "ticks": ""
            },
            "colorscale": [
             [
              0,
              "#0d0887"
             ],
             [
              0.1111111111111111,
              "#46039f"
             ],
             [
              0.2222222222222222,
              "#7201a8"
             ],
             [
              0.3333333333333333,
              "#9c179e"
             ],
             [
              0.4444444444444444,
              "#bd3786"
             ],
             [
              0.5555555555555556,
              "#d8576b"
             ],
             [
              0.6666666666666666,
              "#ed7953"
             ],
             [
              0.7777777777777778,
              "#fb9f3a"
             ],
             [
              0.8888888888888888,
              "#fdca26"
             ],
             [
              1,
              "#f0f921"
             ]
            ],
            "type": "histogram2dcontour"
           }
          ],
          "mesh3d": [
           {
            "colorbar": {
             "outlinewidth": 0,
             "ticks": ""
            },
            "type": "mesh3d"
           }
          ],
          "parcoords": [
           {
            "line": {
             "colorbar": {
              "outlinewidth": 0,
              "ticks": ""
             }
            },
            "type": "parcoords"
           }
          ],
          "pie": [
           {
            "automargin": true,
            "type": "pie"
           }
          ],
          "scatter": [
           {
            "fillpattern": {
             "fillmode": "overlay",
             "size": 10,
             "solidity": 0.2
            },
            "type": "scatter"
           }
          ],
          "scatter3d": [
           {
            "line": {
             "colorbar": {
              "outlinewidth": 0,
              "ticks": ""
             }
            },
            "marker": {
             "colorbar": {
              "outlinewidth": 0,
              "ticks": ""
             }
            },
            "type": "scatter3d"
           }
          ],
          "scattercarpet": [
           {
            "marker": {
             "colorbar": {
              "outlinewidth": 0,
              "ticks": ""
             }
            },
            "type": "scattercarpet"
           }
          ],
          "scattergeo": [
           {
            "marker": {
             "colorbar": {
              "outlinewidth": 0,
              "ticks": ""
             }
            },
            "type": "scattergeo"
           }
          ],
          "scattergl": [
           {
            "marker": {
             "colorbar": {
              "outlinewidth": 0,
              "ticks": ""
             }
            },
            "type": "scattergl"
           }
          ],
          "scattermapbox": [
           {
            "marker": {
             "colorbar": {
              "outlinewidth": 0,
              "ticks": ""
             }
            },
            "type": "scattermapbox"
           }
          ],
          "scatterpolar": [
           {
            "marker": {
             "colorbar": {
              "outlinewidth": 0,
              "ticks": ""
             }
            },
            "type": "scatterpolar"
           }
          ],
          "scatterpolargl": [
           {
            "marker": {
             "colorbar": {
              "outlinewidth": 0,
              "ticks": ""
             }
            },
            "type": "scatterpolargl"
           }
          ],
          "scatterternary": [
           {
            "marker": {
             "colorbar": {
              "outlinewidth": 0,
              "ticks": ""
             }
            },
            "type": "scatterternary"
           }
          ],
          "surface": [
           {
            "colorbar": {
             "outlinewidth": 0,
             "ticks": ""
            },
            "colorscale": [
             [
              0,
              "#0d0887"
             ],
             [
              0.1111111111111111,
              "#46039f"
             ],
             [
              0.2222222222222222,
              "#7201a8"
             ],
             [
              0.3333333333333333,
              "#9c179e"
             ],
             [
              0.4444444444444444,
              "#bd3786"
             ],
             [
              0.5555555555555556,
              "#d8576b"
             ],
             [
              0.6666666666666666,
              "#ed7953"
             ],
             [
              0.7777777777777778,
              "#fb9f3a"
             ],
             [
              0.8888888888888888,
              "#fdca26"
             ],
             [
              1,
              "#f0f921"
             ]
            ],
            "type": "surface"
           }
          ],
          "table": [
           {
            "cells": {
             "fill": {
              "color": "#EBF0F8"
             },
             "line": {
              "color": "white"
             }
            },
            "header": {
             "fill": {
              "color": "#C8D4E3"
             },
             "line": {
              "color": "white"
             }
            },
            "type": "table"
           }
          ]
         },
         "layout": {
          "annotationdefaults": {
           "arrowcolor": "#2a3f5f",
           "arrowhead": 0,
           "arrowwidth": 1
          },
          "autotypenumbers": "strict",
          "coloraxis": {
           "colorbar": {
            "outlinewidth": 0,
            "ticks": ""
           }
          },
          "colorscale": {
           "diverging": [
            [
             0,
             "#8e0152"
            ],
            [
             0.1,
             "#c51b7d"
            ],
            [
             0.2,
             "#de77ae"
            ],
            [
             0.3,
             "#f1b6da"
            ],
            [
             0.4,
             "#fde0ef"
            ],
            [
             0.5,
             "#f7f7f7"
            ],
            [
             0.6,
             "#e6f5d0"
            ],
            [
             0.7,
             "#b8e186"
            ],
            [
             0.8,
             "#7fbc41"
            ],
            [
             0.9,
             "#4d9221"
            ],
            [
             1,
             "#276419"
            ]
           ],
           "sequential": [
            [
             0,
             "#0d0887"
            ],
            [
             0.1111111111111111,
             "#46039f"
            ],
            [
             0.2222222222222222,
             "#7201a8"
            ],
            [
             0.3333333333333333,
             "#9c179e"
            ],
            [
             0.4444444444444444,
             "#bd3786"
            ],
            [
             0.5555555555555556,
             "#d8576b"
            ],
            [
             0.6666666666666666,
             "#ed7953"
            ],
            [
             0.7777777777777778,
             "#fb9f3a"
            ],
            [
             0.8888888888888888,
             "#fdca26"
            ],
            [
             1,
             "#f0f921"
            ]
           ],
           "sequentialminus": [
            [
             0,
             "#0d0887"
            ],
            [
             0.1111111111111111,
             "#46039f"
            ],
            [
             0.2222222222222222,
             "#7201a8"
            ],
            [
             0.3333333333333333,
             "#9c179e"
            ],
            [
             0.4444444444444444,
             "#bd3786"
            ],
            [
             0.5555555555555556,
             "#d8576b"
            ],
            [
             0.6666666666666666,
             "#ed7953"
            ],
            [
             0.7777777777777778,
             "#fb9f3a"
            ],
            [
             0.8888888888888888,
             "#fdca26"
            ],
            [
             1,
             "#f0f921"
            ]
           ]
          },
          "colorway": [
           "#636efa",
           "#EF553B",
           "#00cc96",
           "#ab63fa",
           "#FFA15A",
           "#19d3f3",
           "#FF6692",
           "#B6E880",
           "#FF97FF",
           "#FECB52"
          ],
          "font": {
           "color": "#2a3f5f"
          },
          "geo": {
           "bgcolor": "white",
           "lakecolor": "white",
           "landcolor": "white",
           "showlakes": true,
           "showland": true,
           "subunitcolor": "#C8D4E3"
          },
          "hoverlabel": {
           "align": "left"
          },
          "hovermode": "closest",
          "mapbox": {
           "style": "light"
          },
          "paper_bgcolor": "white",
          "plot_bgcolor": "white",
          "polar": {
           "angularaxis": {
            "gridcolor": "#EBF0F8",
            "linecolor": "#EBF0F8",
            "ticks": ""
           },
           "bgcolor": "white",
           "radialaxis": {
            "gridcolor": "#EBF0F8",
            "linecolor": "#EBF0F8",
            "ticks": ""
           }
          },
          "scene": {
           "xaxis": {
            "backgroundcolor": "white",
            "gridcolor": "#DFE8F3",
            "gridwidth": 2,
            "linecolor": "#EBF0F8",
            "showbackground": true,
            "ticks": "",
            "zerolinecolor": "#EBF0F8"
           },
           "yaxis": {
            "backgroundcolor": "white",
            "gridcolor": "#DFE8F3",
            "gridwidth": 2,
            "linecolor": "#EBF0F8",
            "showbackground": true,
            "ticks": "",
            "zerolinecolor": "#EBF0F8"
           },
           "zaxis": {
            "backgroundcolor": "white",
            "gridcolor": "#DFE8F3",
            "gridwidth": 2,
            "linecolor": "#EBF0F8",
            "showbackground": true,
            "ticks": "",
            "zerolinecolor": "#EBF0F8"
           }
          },
          "shapedefaults": {
           "line": {
            "color": "#2a3f5f"
           }
          },
          "ternary": {
           "aaxis": {
            "gridcolor": "#DFE8F3",
            "linecolor": "#A2B1C6",
            "ticks": ""
           },
           "baxis": {
            "gridcolor": "#DFE8F3",
            "linecolor": "#A2B1C6",
            "ticks": ""
           },
           "bgcolor": "white",
           "caxis": {
            "gridcolor": "#DFE8F3",
            "linecolor": "#A2B1C6",
            "ticks": ""
           }
          },
          "title": {
           "x": 0.05
          },
          "xaxis": {
           "automargin": true,
           "gridcolor": "#EBF0F8",
           "linecolor": "#EBF0F8",
           "ticks": "",
           "title": {
            "standoff": 15
           },
           "zerolinecolor": "#EBF0F8",
           "zerolinewidth": 2
          },
          "yaxis": {
           "automargin": true,
           "gridcolor": "#EBF0F8",
           "linecolor": "#EBF0F8",
           "ticks": "",
           "title": {
            "standoff": 15
           },
           "zerolinecolor": "#EBF0F8",
           "zerolinewidth": 2
          }
         }
        },
        "title": {
         "text": "Comparaison entre notre fonds article 9 et et MSCI World pour les ODD"
        },
        "xaxis": {
         "title": {
          "text": "ODD"
         }
        },
        "yaxis": {
         "title": {
          "text": "Score moyen"
         }
        }
       }
      }
     },
     "metadata": {},
     "output_type": "display_data"
    }
   ],
   "source": [
    "# 📌 Calcul des valeurs pour df6 (portefeuille optimisé)\n",
    "df6_values = [\n",
    "    (df_fin['Poids'] * df_fin[metric]).sum() if metric in df_fin.columns else None for metric in odds\n",
    "]\n",
    "\n",
    "# 📌 Calcul des valeurs pour df (MSCI World)\n",
    "df_values = [\n",
    "    (df['Weight in MSCI World'] * df[metric]).sum() if metric in df.columns else None for metric in odds\n",
    "]\n",
    "\n",
    "# 📌 Création du graphique\n",
    "x = np.arange(len(odds))  # Indices des barres\n",
    "\n",
    "fig = go.Figure()\n",
    "\n",
    "# 🔹 Barres pour le portefeuille optimisé (df6)\n",
    "fig.add_trace(go.Bar(\n",
    "    x=[\"ODD_\" + x.split(\"_\")[1] for x in odds],\n",
    "    y=df6_values,\n",
    "    name=\"Fonds article 9\",\n",
    "    marker_color='blue'\n",
    "))\n",
    "\n",
    "# 🔹 Barres pour MSCI World (df)\n",
    "fig.add_trace(go.Bar(\n",
    "    x=[\"ODD_\" + x.split(\"_\")[1] for x in odds],\n",
    "    y=df_values,\n",
    "    name=\"MSCI World\",\n",
    "    marker_color='orange'\n",
    "))\n",
    "\n",
    "# 📌 Personnalisation du graphique\n",
    "fig.update_layout(\n",
    "    title=\"Comparaison entre notre fonds article 9 et et MSCI World pour les ODD\",\n",
    "    xaxis_title=\"ODD\",\n",
    "    yaxis_title=\"Score moyen\",\n",
    "    barmode='group',\n",
    "    template='plotly_white',  # Thème professionnel\n",
    "    font=dict(\n",
    "        family=\"Arial, sans-serif\",\n",
    "        size=12,\n",
    "        color=\"black\"\n",
    "    ),\n",
    "    legend=dict(\n",
    "        x=0.02, y=0.98,\n",
    "        bgcolor='rgba(255,255,255,0.7)',\n",
    "        bordercolor='black',\n",
    "        borderwidth=1\n",
    "    )\n",
    ")\n",
    "\n",
    "# 📌 Affichage\n",
    "fig.show()"
   ]
  },
  {
   "cell_type": "code",
   "execution_count": 20,
   "metadata": {},
   "outputs": [
    {
     "data": {
      "application/vnd.plotly.v1+json": {
       "config": {
        "plotlyServerURL": "https://plot.ly"
       },
       "data": [
        {
         "marker": {
          "color": "blue"
         },
         "name": "Fonds article 9",
         "type": "bar",
         "x": [
          "E_SCORE",
          "S_SCORE",
          "G_SCORE",
          "E_CONTROVERSY",
          "S_CONTROVERSY",
          "G_CONTROVERSY"
         ],
         "y": [
          7.267608823274788,
          5.5975482726626264,
          6.40781694145652,
          9.74145657319568,
          6.941456573195468,
          8.730808648042261
         ]
        },
        {
         "marker": {
          "color": "orange"
         },
         "name": "MSCI World",
         "type": "bar",
         "x": [
          "E_SCORE",
          "S_SCORE",
          "G_SCORE",
          "E_CONTROVERSY",
          "S_CONTROVERSY",
          "G_CONTROVERSY"
         ],
         "y": [
          6.702299149800001,
          5.1125413661,
          5.6482565943,
          9.144694848,
          4.036944304,
          7.1026828889999996
         ]
        }
       ],
       "layout": {
        "barmode": "group",
        "font": {
         "color": "black",
         "family": "Arial, sans-serif",
         "size": 12
        },
        "legend": {
         "bgcolor": "rgba(255,255,255,0.7)",
         "bordercolor": "black",
         "borderwidth": 1,
         "title": {
          "text": "Légende"
         },
         "x": 0.02,
         "y": 0.98
        },
        "template": {
         "data": {
          "bar": [
           {
            "error_x": {
             "color": "#2a3f5f"
            },
            "error_y": {
             "color": "#2a3f5f"
            },
            "marker": {
             "line": {
              "color": "white",
              "width": 0.5
             },
             "pattern": {
              "fillmode": "overlay",
              "size": 10,
              "solidity": 0.2
             }
            },
            "type": "bar"
           }
          ],
          "barpolar": [
           {
            "marker": {
             "line": {
              "color": "white",
              "width": 0.5
             },
             "pattern": {
              "fillmode": "overlay",
              "size": 10,
              "solidity": 0.2
             }
            },
            "type": "barpolar"
           }
          ],
          "carpet": [
           {
            "aaxis": {
             "endlinecolor": "#2a3f5f",
             "gridcolor": "#C8D4E3",
             "linecolor": "#C8D4E3",
             "minorgridcolor": "#C8D4E3",
             "startlinecolor": "#2a3f5f"
            },
            "baxis": {
             "endlinecolor": "#2a3f5f",
             "gridcolor": "#C8D4E3",
             "linecolor": "#C8D4E3",
             "minorgridcolor": "#C8D4E3",
             "startlinecolor": "#2a3f5f"
            },
            "type": "carpet"
           }
          ],
          "choropleth": [
           {
            "colorbar": {
             "outlinewidth": 0,
             "ticks": ""
            },
            "type": "choropleth"
           }
          ],
          "contour": [
           {
            "colorbar": {
             "outlinewidth": 0,
             "ticks": ""
            },
            "colorscale": [
             [
              0,
              "#0d0887"
             ],
             [
              0.1111111111111111,
              "#46039f"
             ],
             [
              0.2222222222222222,
              "#7201a8"
             ],
             [
              0.3333333333333333,
              "#9c179e"
             ],
             [
              0.4444444444444444,
              "#bd3786"
             ],
             [
              0.5555555555555556,
              "#d8576b"
             ],
             [
              0.6666666666666666,
              "#ed7953"
             ],
             [
              0.7777777777777778,
              "#fb9f3a"
             ],
             [
              0.8888888888888888,
              "#fdca26"
             ],
             [
              1,
              "#f0f921"
             ]
            ],
            "type": "contour"
           }
          ],
          "contourcarpet": [
           {
            "colorbar": {
             "outlinewidth": 0,
             "ticks": ""
            },
            "type": "contourcarpet"
           }
          ],
          "heatmap": [
           {
            "colorbar": {
             "outlinewidth": 0,
             "ticks": ""
            },
            "colorscale": [
             [
              0,
              "#0d0887"
             ],
             [
              0.1111111111111111,
              "#46039f"
             ],
             [
              0.2222222222222222,
              "#7201a8"
             ],
             [
              0.3333333333333333,
              "#9c179e"
             ],
             [
              0.4444444444444444,
              "#bd3786"
             ],
             [
              0.5555555555555556,
              "#d8576b"
             ],
             [
              0.6666666666666666,
              "#ed7953"
             ],
             [
              0.7777777777777778,
              "#fb9f3a"
             ],
             [
              0.8888888888888888,
              "#fdca26"
             ],
             [
              1,
              "#f0f921"
             ]
            ],
            "type": "heatmap"
           }
          ],
          "heatmapgl": [
           {
            "colorbar": {
             "outlinewidth": 0,
             "ticks": ""
            },
            "colorscale": [
             [
              0,
              "#0d0887"
             ],
             [
              0.1111111111111111,
              "#46039f"
             ],
             [
              0.2222222222222222,
              "#7201a8"
             ],
             [
              0.3333333333333333,
              "#9c179e"
             ],
             [
              0.4444444444444444,
              "#bd3786"
             ],
             [
              0.5555555555555556,
              "#d8576b"
             ],
             [
              0.6666666666666666,
              "#ed7953"
             ],
             [
              0.7777777777777778,
              "#fb9f3a"
             ],
             [
              0.8888888888888888,
              "#fdca26"
             ],
             [
              1,
              "#f0f921"
             ]
            ],
            "type": "heatmapgl"
           }
          ],
          "histogram": [
           {
            "marker": {
             "pattern": {
              "fillmode": "overlay",
              "size": 10,
              "solidity": 0.2
             }
            },
            "type": "histogram"
           }
          ],
          "histogram2d": [
           {
            "colorbar": {
             "outlinewidth": 0,
             "ticks": ""
            },
            "colorscale": [
             [
              0,
              "#0d0887"
             ],
             [
              0.1111111111111111,
              "#46039f"
             ],
             [
              0.2222222222222222,
              "#7201a8"
             ],
             [
              0.3333333333333333,
              "#9c179e"
             ],
             [
              0.4444444444444444,
              "#bd3786"
             ],
             [
              0.5555555555555556,
              "#d8576b"
             ],
             [
              0.6666666666666666,
              "#ed7953"
             ],
             [
              0.7777777777777778,
              "#fb9f3a"
             ],
             [
              0.8888888888888888,
              "#fdca26"
             ],
             [
              1,
              "#f0f921"
             ]
            ],
            "type": "histogram2d"
           }
          ],
          "histogram2dcontour": [
           {
            "colorbar": {
             "outlinewidth": 0,
             "ticks": ""
            },
            "colorscale": [
             [
              0,
              "#0d0887"
             ],
             [
              0.1111111111111111,
              "#46039f"
             ],
             [
              0.2222222222222222,
              "#7201a8"
             ],
             [
              0.3333333333333333,
              "#9c179e"
             ],
             [
              0.4444444444444444,
              "#bd3786"
             ],
             [
              0.5555555555555556,
              "#d8576b"
             ],
             [
              0.6666666666666666,
              "#ed7953"
             ],
             [
              0.7777777777777778,
              "#fb9f3a"
             ],
             [
              0.8888888888888888,
              "#fdca26"
             ],
             [
              1,
              "#f0f921"
             ]
            ],
            "type": "histogram2dcontour"
           }
          ],
          "mesh3d": [
           {
            "colorbar": {
             "outlinewidth": 0,
             "ticks": ""
            },
            "type": "mesh3d"
           }
          ],
          "parcoords": [
           {
            "line": {
             "colorbar": {
              "outlinewidth": 0,
              "ticks": ""
             }
            },
            "type": "parcoords"
           }
          ],
          "pie": [
           {
            "automargin": true,
            "type": "pie"
           }
          ],
          "scatter": [
           {
            "fillpattern": {
             "fillmode": "overlay",
             "size": 10,
             "solidity": 0.2
            },
            "type": "scatter"
           }
          ],
          "scatter3d": [
           {
            "line": {
             "colorbar": {
              "outlinewidth": 0,
              "ticks": ""
             }
            },
            "marker": {
             "colorbar": {
              "outlinewidth": 0,
              "ticks": ""
             }
            },
            "type": "scatter3d"
           }
          ],
          "scattercarpet": [
           {
            "marker": {
             "colorbar": {
              "outlinewidth": 0,
              "ticks": ""
             }
            },
            "type": "scattercarpet"
           }
          ],
          "scattergeo": [
           {
            "marker": {
             "colorbar": {
              "outlinewidth": 0,
              "ticks": ""
             }
            },
            "type": "scattergeo"
           }
          ],
          "scattergl": [
           {
            "marker": {
             "colorbar": {
              "outlinewidth": 0,
              "ticks": ""
             }
            },
            "type": "scattergl"
           }
          ],
          "scattermapbox": [
           {
            "marker": {
             "colorbar": {
              "outlinewidth": 0,
              "ticks": ""
             }
            },
            "type": "scattermapbox"
           }
          ],
          "scatterpolar": [
           {
            "marker": {
             "colorbar": {
              "outlinewidth": 0,
              "ticks": ""
             }
            },
            "type": "scatterpolar"
           }
          ],
          "scatterpolargl": [
           {
            "marker": {
             "colorbar": {
              "outlinewidth": 0,
              "ticks": ""
             }
            },
            "type": "scatterpolargl"
           }
          ],
          "scatterternary": [
           {
            "marker": {
             "colorbar": {
              "outlinewidth": 0,
              "ticks": ""
             }
            },
            "type": "scatterternary"
           }
          ],
          "surface": [
           {
            "colorbar": {
             "outlinewidth": 0,
             "ticks": ""
            },
            "colorscale": [
             [
              0,
              "#0d0887"
             ],
             [
              0.1111111111111111,
              "#46039f"
             ],
             [
              0.2222222222222222,
              "#7201a8"
             ],
             [
              0.3333333333333333,
              "#9c179e"
             ],
             [
              0.4444444444444444,
              "#bd3786"
             ],
             [
              0.5555555555555556,
              "#d8576b"
             ],
             [
              0.6666666666666666,
              "#ed7953"
             ],
             [
              0.7777777777777778,
              "#fb9f3a"
             ],
             [
              0.8888888888888888,
              "#fdca26"
             ],
             [
              1,
              "#f0f921"
             ]
            ],
            "type": "surface"
           }
          ],
          "table": [
           {
            "cells": {
             "fill": {
              "color": "#EBF0F8"
             },
             "line": {
              "color": "white"
             }
            },
            "header": {
             "fill": {
              "color": "#C8D4E3"
             },
             "line": {
              "color": "white"
             }
            },
            "type": "table"
           }
          ]
         },
         "layout": {
          "annotationdefaults": {
           "arrowcolor": "#2a3f5f",
           "arrowhead": 0,
           "arrowwidth": 1
          },
          "autotypenumbers": "strict",
          "coloraxis": {
           "colorbar": {
            "outlinewidth": 0,
            "ticks": ""
           }
          },
          "colorscale": {
           "diverging": [
            [
             0,
             "#8e0152"
            ],
            [
             0.1,
             "#c51b7d"
            ],
            [
             0.2,
             "#de77ae"
            ],
            [
             0.3,
             "#f1b6da"
            ],
            [
             0.4,
             "#fde0ef"
            ],
            [
             0.5,
             "#f7f7f7"
            ],
            [
             0.6,
             "#e6f5d0"
            ],
            [
             0.7,
             "#b8e186"
            ],
            [
             0.8,
             "#7fbc41"
            ],
            [
             0.9,
             "#4d9221"
            ],
            [
             1,
             "#276419"
            ]
           ],
           "sequential": [
            [
             0,
             "#0d0887"
            ],
            [
             0.1111111111111111,
             "#46039f"
            ],
            [
             0.2222222222222222,
             "#7201a8"
            ],
            [
             0.3333333333333333,
             "#9c179e"
            ],
            [
             0.4444444444444444,
             "#bd3786"
            ],
            [
             0.5555555555555556,
             "#d8576b"
            ],
            [
             0.6666666666666666,
             "#ed7953"
            ],
            [
             0.7777777777777778,
             "#fb9f3a"
            ],
            [
             0.8888888888888888,
             "#fdca26"
            ],
            [
             1,
             "#f0f921"
            ]
           ],
           "sequentialminus": [
            [
             0,
             "#0d0887"
            ],
            [
             0.1111111111111111,
             "#46039f"
            ],
            [
             0.2222222222222222,
             "#7201a8"
            ],
            [
             0.3333333333333333,
             "#9c179e"
            ],
            [
             0.4444444444444444,
             "#bd3786"
            ],
            [
             0.5555555555555556,
             "#d8576b"
            ],
            [
             0.6666666666666666,
             "#ed7953"
            ],
            [
             0.7777777777777778,
             "#fb9f3a"
            ],
            [
             0.8888888888888888,
             "#fdca26"
            ],
            [
             1,
             "#f0f921"
            ]
           ]
          },
          "colorway": [
           "#636efa",
           "#EF553B",
           "#00cc96",
           "#ab63fa",
           "#FFA15A",
           "#19d3f3",
           "#FF6692",
           "#B6E880",
           "#FF97FF",
           "#FECB52"
          ],
          "font": {
           "color": "#2a3f5f"
          },
          "geo": {
           "bgcolor": "white",
           "lakecolor": "white",
           "landcolor": "white",
           "showlakes": true,
           "showland": true,
           "subunitcolor": "#C8D4E3"
          },
          "hoverlabel": {
           "align": "left"
          },
          "hovermode": "closest",
          "mapbox": {
           "style": "light"
          },
          "paper_bgcolor": "white",
          "plot_bgcolor": "white",
          "polar": {
           "angularaxis": {
            "gridcolor": "#EBF0F8",
            "linecolor": "#EBF0F8",
            "ticks": ""
           },
           "bgcolor": "white",
           "radialaxis": {
            "gridcolor": "#EBF0F8",
            "linecolor": "#EBF0F8",
            "ticks": ""
           }
          },
          "scene": {
           "xaxis": {
            "backgroundcolor": "white",
            "gridcolor": "#DFE8F3",
            "gridwidth": 2,
            "linecolor": "#EBF0F8",
            "showbackground": true,
            "ticks": "",
            "zerolinecolor": "#EBF0F8"
           },
           "yaxis": {
            "backgroundcolor": "white",
            "gridcolor": "#DFE8F3",
            "gridwidth": 2,
            "linecolor": "#EBF0F8",
            "showbackground": true,
            "ticks": "",
            "zerolinecolor": "#EBF0F8"
           },
           "zaxis": {
            "backgroundcolor": "white",
            "gridcolor": "#DFE8F3",
            "gridwidth": 2,
            "linecolor": "#EBF0F8",
            "showbackground": true,
            "ticks": "",
            "zerolinecolor": "#EBF0F8"
           }
          },
          "shapedefaults": {
           "line": {
            "color": "#2a3f5f"
           }
          },
          "ternary": {
           "aaxis": {
            "gridcolor": "#DFE8F3",
            "linecolor": "#A2B1C6",
            "ticks": ""
           },
           "baxis": {
            "gridcolor": "#DFE8F3",
            "linecolor": "#A2B1C6",
            "ticks": ""
           },
           "bgcolor": "white",
           "caxis": {
            "gridcolor": "#DFE8F3",
            "linecolor": "#A2B1C6",
            "ticks": ""
           }
          },
          "title": {
           "x": 0.05
          },
          "xaxis": {
           "automargin": true,
           "gridcolor": "#EBF0F8",
           "linecolor": "#EBF0F8",
           "ticks": "",
           "title": {
            "standoff": 15
           },
           "zerolinecolor": "#EBF0F8",
           "zerolinewidth": 2
          },
          "yaxis": {
           "automargin": true,
           "gridcolor": "#EBF0F8",
           "linecolor": "#EBF0F8",
           "ticks": "",
           "title": {
            "standoff": 15
           },
           "zerolinecolor": "#EBF0F8",
           "zerolinewidth": 2
          }
         }
        },
        "title": {
         "text": "Comparaison entre notre fonds article 9 et et MSCI World pour les scores E,S & G et les scores de controverses"
        },
        "xaxis": {
         "title": {
          "text": "Pilier"
         }
        },
        "yaxis": {
         "title": {
          "text": "Score moyen"
         }
        }
       }
      }
     },
     "metadata": {},
     "output_type": "display_data"
    }
   ],
   "source": [
    "scores = ['E_SCORE', 'S_SCORE', 'G_SCORE', 'E_CONTROVERSY', 'S_CONTROVERSY', 'G_CONTROVERSY']\n",
    "\n",
    "# 📌 Calcul des valeurs pour df6 (portefeuille optimisé)\n",
    "df6_values = [\n",
    "    (df_fin['Poids'] * df_fin[metric]).sum() if metric in df_fin.columns else None for metric in scores\n",
    "]\n",
    "\n",
    "# 📌 Calcul des valeurs pour df (MSCI World)\n",
    "df_values = [\n",
    "    (df['Weight in MSCI World'] * df[metric]).sum() if metric in df.columns else None for metric in scores\n",
    "]\n",
    "\n",
    "# 📌 Création du graphique\n",
    "x = np.arange(len(scores))  # Indices des barres\n",
    "\n",
    "fig = go.Figure()\n",
    "\n",
    "# 🔹 Barres pour le portefeuille optimisé (df6)\n",
    "fig.add_trace(go.Bar(\n",
    "    x=[x for x in scores],\n",
    "    y=df6_values,\n",
    "    name=\"Fonds article 9\",\n",
    "    marker_color='blue'\n",
    "))\n",
    "\n",
    "# 🔹 Barres pour MSCI World (df)\n",
    "fig.add_trace(go.Bar(\n",
    "    x=[x for x in scores],\n",
    "    y=df_values,\n",
    "    name=\"MSCI World\",\n",
    "    marker_color='orange'\n",
    "))\n",
    "\n",
    "# 📌 Personnalisation du graphique\n",
    "fig.update_layout(\n",
    "    title=\"Comparaison entre notre fonds article 9 et et MSCI World pour les scores E,S & G et les scores de controverses\",\n",
    "    xaxis_title=\"Pilier\",\n",
    "    yaxis_title=\"Score moyen\",\n",
    "    barmode='group',\n",
    "    template='plotly_white',\n",
    "    font=dict(\n",
    "        family=\"Arial, sans-serif\",\n",
    "        size=12,\n",
    "        color=\"black\"\n",
    "    ),\n",
    "    legend=dict(\n",
    "        title=\"Légende\",\n",
    "        x=0.02, y=0.98,\n",
    "        bgcolor='rgba(255,255,255,0.7)',\n",
    "        bordercolor='black',\n",
    "        borderwidth=1\n",
    "    )\n",
    ")\n",
    "\n",
    "# 📌 Affichage\n",
    "fig.show()"
   ]
  },
  {
   "cell_type": "code",
   "execution_count": 21,
   "metadata": {},
   "outputs": [
    {
     "data": {
      "application/vnd.plotly.v1+json": {
       "config": {
        "plotlyServerURL": "https://plot.ly"
       },
       "data": [
        {
         "marker": {
          "color": "blue"
         },
         "name": "Fonds article 9",
         "type": "bar",
         "x": [
          "INTENSITY_SCOPE_1",
          "INTENSITY_SCOPE_2",
          "INTENSITY_SCOPE_3",
          "FOOTPRINT_SCOPE_1",
          "FOOTPRINT_SCOPE_2",
          "FOOTPRINT_SCOPE_3"
         ],
         "y": [
          11.295970805765277,
          11.147203168245957,
          265.57117864352495,
          8.361569731096866,
          5.1680436444741416,
          169.34123993661314
         ]
        },
        {
         "marker": {
          "color": "orange"
         },
         "name": "MSCI World",
         "type": "bar",
         "x": [
          "INTENSITY_SCOPE_1",
          "INTENSITY_SCOPE_2",
          "INTENSITY_SCOPE_3",
          "FOOTPRINT_SCOPE_1",
          "FOOTPRINT_SCOPE_2",
          "FOOTPRINT_SCOPE_3"
         ],
         "y": [
          75.69229832018408,
          19.946423978449946,
          756.2246020384931,
          118.00648809367438,
          27.010985263301677,
          1373.604056364562
         ]
        }
       ],
       "layout": {
        "barmode": "group",
        "font": {
         "color": "black",
         "family": "Arial, sans-serif",
         "size": 12
        },
        "legend": {
         "bgcolor": "rgba(255,255,255,0.7)",
         "bordercolor": "black",
         "borderwidth": 1,
         "title": {
          "text": "Légende"
         },
         "x": 0.02,
         "y": 0.98
        },
        "template": {
         "data": {
          "bar": [
           {
            "error_x": {
             "color": "#2a3f5f"
            },
            "error_y": {
             "color": "#2a3f5f"
            },
            "marker": {
             "line": {
              "color": "white",
              "width": 0.5
             },
             "pattern": {
              "fillmode": "overlay",
              "size": 10,
              "solidity": 0.2
             }
            },
            "type": "bar"
           }
          ],
          "barpolar": [
           {
            "marker": {
             "line": {
              "color": "white",
              "width": 0.5
             },
             "pattern": {
              "fillmode": "overlay",
              "size": 10,
              "solidity": 0.2
             }
            },
            "type": "barpolar"
           }
          ],
          "carpet": [
           {
            "aaxis": {
             "endlinecolor": "#2a3f5f",
             "gridcolor": "#C8D4E3",
             "linecolor": "#C8D4E3",
             "minorgridcolor": "#C8D4E3",
             "startlinecolor": "#2a3f5f"
            },
            "baxis": {
             "endlinecolor": "#2a3f5f",
             "gridcolor": "#C8D4E3",
             "linecolor": "#C8D4E3",
             "minorgridcolor": "#C8D4E3",
             "startlinecolor": "#2a3f5f"
            },
            "type": "carpet"
           }
          ],
          "choropleth": [
           {
            "colorbar": {
             "outlinewidth": 0,
             "ticks": ""
            },
            "type": "choropleth"
           }
          ],
          "contour": [
           {
            "colorbar": {
             "outlinewidth": 0,
             "ticks": ""
            },
            "colorscale": [
             [
              0,
              "#0d0887"
             ],
             [
              0.1111111111111111,
              "#46039f"
             ],
             [
              0.2222222222222222,
              "#7201a8"
             ],
             [
              0.3333333333333333,
              "#9c179e"
             ],
             [
              0.4444444444444444,
              "#bd3786"
             ],
             [
              0.5555555555555556,
              "#d8576b"
             ],
             [
              0.6666666666666666,
              "#ed7953"
             ],
             [
              0.7777777777777778,
              "#fb9f3a"
             ],
             [
              0.8888888888888888,
              "#fdca26"
             ],
             [
              1,
              "#f0f921"
             ]
            ],
            "type": "contour"
           }
          ],
          "contourcarpet": [
           {
            "colorbar": {
             "outlinewidth": 0,
             "ticks": ""
            },
            "type": "contourcarpet"
           }
          ],
          "heatmap": [
           {
            "colorbar": {
             "outlinewidth": 0,
             "ticks": ""
            },
            "colorscale": [
             [
              0,
              "#0d0887"
             ],
             [
              0.1111111111111111,
              "#46039f"
             ],
             [
              0.2222222222222222,
              "#7201a8"
             ],
             [
              0.3333333333333333,
              "#9c179e"
             ],
             [
              0.4444444444444444,
              "#bd3786"
             ],
             [
              0.5555555555555556,
              "#d8576b"
             ],
             [
              0.6666666666666666,
              "#ed7953"
             ],
             [
              0.7777777777777778,
              "#fb9f3a"
             ],
             [
              0.8888888888888888,
              "#fdca26"
             ],
             [
              1,
              "#f0f921"
             ]
            ],
            "type": "heatmap"
           }
          ],
          "heatmapgl": [
           {
            "colorbar": {
             "outlinewidth": 0,
             "ticks": ""
            },
            "colorscale": [
             [
              0,
              "#0d0887"
             ],
             [
              0.1111111111111111,
              "#46039f"
             ],
             [
              0.2222222222222222,
              "#7201a8"
             ],
             [
              0.3333333333333333,
              "#9c179e"
             ],
             [
              0.4444444444444444,
              "#bd3786"
             ],
             [
              0.5555555555555556,
              "#d8576b"
             ],
             [
              0.6666666666666666,
              "#ed7953"
             ],
             [
              0.7777777777777778,
              "#fb9f3a"
             ],
             [
              0.8888888888888888,
              "#fdca26"
             ],
             [
              1,
              "#f0f921"
             ]
            ],
            "type": "heatmapgl"
           }
          ],
          "histogram": [
           {
            "marker": {
             "pattern": {
              "fillmode": "overlay",
              "size": 10,
              "solidity": 0.2
             }
            },
            "type": "histogram"
           }
          ],
          "histogram2d": [
           {
            "colorbar": {
             "outlinewidth": 0,
             "ticks": ""
            },
            "colorscale": [
             [
              0,
              "#0d0887"
             ],
             [
              0.1111111111111111,
              "#46039f"
             ],
             [
              0.2222222222222222,
              "#7201a8"
             ],
             [
              0.3333333333333333,
              "#9c179e"
             ],
             [
              0.4444444444444444,
              "#bd3786"
             ],
             [
              0.5555555555555556,
              "#d8576b"
             ],
             [
              0.6666666666666666,
              "#ed7953"
             ],
             [
              0.7777777777777778,
              "#fb9f3a"
             ],
             [
              0.8888888888888888,
              "#fdca26"
             ],
             [
              1,
              "#f0f921"
             ]
            ],
            "type": "histogram2d"
           }
          ],
          "histogram2dcontour": [
           {
            "colorbar": {
             "outlinewidth": 0,
             "ticks": ""
            },
            "colorscale": [
             [
              0,
              "#0d0887"
             ],
             [
              0.1111111111111111,
              "#46039f"
             ],
             [
              0.2222222222222222,
              "#7201a8"
             ],
             [
              0.3333333333333333,
              "#9c179e"
             ],
             [
              0.4444444444444444,
              "#bd3786"
             ],
             [
              0.5555555555555556,
              "#d8576b"
             ],
             [
              0.6666666666666666,
              "#ed7953"
             ],
             [
              0.7777777777777778,
              "#fb9f3a"
             ],
             [
              0.8888888888888888,
              "#fdca26"
             ],
             [
              1,
              "#f0f921"
             ]
            ],
            "type": "histogram2dcontour"
           }
          ],
          "mesh3d": [
           {
            "colorbar": {
             "outlinewidth": 0,
             "ticks": ""
            },
            "type": "mesh3d"
           }
          ],
          "parcoords": [
           {
            "line": {
             "colorbar": {
              "outlinewidth": 0,
              "ticks": ""
             }
            },
            "type": "parcoords"
           }
          ],
          "pie": [
           {
            "automargin": true,
            "type": "pie"
           }
          ],
          "scatter": [
           {
            "fillpattern": {
             "fillmode": "overlay",
             "size": 10,
             "solidity": 0.2
            },
            "type": "scatter"
           }
          ],
          "scatter3d": [
           {
            "line": {
             "colorbar": {
              "outlinewidth": 0,
              "ticks": ""
             }
            },
            "marker": {
             "colorbar": {
              "outlinewidth": 0,
              "ticks": ""
             }
            },
            "type": "scatter3d"
           }
          ],
          "scattercarpet": [
           {
            "marker": {
             "colorbar": {
              "outlinewidth": 0,
              "ticks": ""
             }
            },
            "type": "scattercarpet"
           }
          ],
          "scattergeo": [
           {
            "marker": {
             "colorbar": {
              "outlinewidth": 0,
              "ticks": ""
             }
            },
            "type": "scattergeo"
           }
          ],
          "scattergl": [
           {
            "marker": {
             "colorbar": {
              "outlinewidth": 0,
              "ticks": ""
             }
            },
            "type": "scattergl"
           }
          ],
          "scattermapbox": [
           {
            "marker": {
             "colorbar": {
              "outlinewidth": 0,
              "ticks": ""
             }
            },
            "type": "scattermapbox"
           }
          ],
          "scatterpolar": [
           {
            "marker": {
             "colorbar": {
              "outlinewidth": 0,
              "ticks": ""
             }
            },
            "type": "scatterpolar"
           }
          ],
          "scatterpolargl": [
           {
            "marker": {
             "colorbar": {
              "outlinewidth": 0,
              "ticks": ""
             }
            },
            "type": "scatterpolargl"
           }
          ],
          "scatterternary": [
           {
            "marker": {
             "colorbar": {
              "outlinewidth": 0,
              "ticks": ""
             }
            },
            "type": "scatterternary"
           }
          ],
          "surface": [
           {
            "colorbar": {
             "outlinewidth": 0,
             "ticks": ""
            },
            "colorscale": [
             [
              0,
              "#0d0887"
             ],
             [
              0.1111111111111111,
              "#46039f"
             ],
             [
              0.2222222222222222,
              "#7201a8"
             ],
             [
              0.3333333333333333,
              "#9c179e"
             ],
             [
              0.4444444444444444,
              "#bd3786"
             ],
             [
              0.5555555555555556,
              "#d8576b"
             ],
             [
              0.6666666666666666,
              "#ed7953"
             ],
             [
              0.7777777777777778,
              "#fb9f3a"
             ],
             [
              0.8888888888888888,
              "#fdca26"
             ],
             [
              1,
              "#f0f921"
             ]
            ],
            "type": "surface"
           }
          ],
          "table": [
           {
            "cells": {
             "fill": {
              "color": "#EBF0F8"
             },
             "line": {
              "color": "white"
             }
            },
            "header": {
             "fill": {
              "color": "#C8D4E3"
             },
             "line": {
              "color": "white"
             }
            },
            "type": "table"
           }
          ]
         },
         "layout": {
          "annotationdefaults": {
           "arrowcolor": "#2a3f5f",
           "arrowhead": 0,
           "arrowwidth": 1
          },
          "autotypenumbers": "strict",
          "coloraxis": {
           "colorbar": {
            "outlinewidth": 0,
            "ticks": ""
           }
          },
          "colorscale": {
           "diverging": [
            [
             0,
             "#8e0152"
            ],
            [
             0.1,
             "#c51b7d"
            ],
            [
             0.2,
             "#de77ae"
            ],
            [
             0.3,
             "#f1b6da"
            ],
            [
             0.4,
             "#fde0ef"
            ],
            [
             0.5,
             "#f7f7f7"
            ],
            [
             0.6,
             "#e6f5d0"
            ],
            [
             0.7,
             "#b8e186"
            ],
            [
             0.8,
             "#7fbc41"
            ],
            [
             0.9,
             "#4d9221"
            ],
            [
             1,
             "#276419"
            ]
           ],
           "sequential": [
            [
             0,
             "#0d0887"
            ],
            [
             0.1111111111111111,
             "#46039f"
            ],
            [
             0.2222222222222222,
             "#7201a8"
            ],
            [
             0.3333333333333333,
             "#9c179e"
            ],
            [
             0.4444444444444444,
             "#bd3786"
            ],
            [
             0.5555555555555556,
             "#d8576b"
            ],
            [
             0.6666666666666666,
             "#ed7953"
            ],
            [
             0.7777777777777778,
             "#fb9f3a"
            ],
            [
             0.8888888888888888,
             "#fdca26"
            ],
            [
             1,
             "#f0f921"
            ]
           ],
           "sequentialminus": [
            [
             0,
             "#0d0887"
            ],
            [
             0.1111111111111111,
             "#46039f"
            ],
            [
             0.2222222222222222,
             "#7201a8"
            ],
            [
             0.3333333333333333,
             "#9c179e"
            ],
            [
             0.4444444444444444,
             "#bd3786"
            ],
            [
             0.5555555555555556,
             "#d8576b"
            ],
            [
             0.6666666666666666,
             "#ed7953"
            ],
            [
             0.7777777777777778,
             "#fb9f3a"
            ],
            [
             0.8888888888888888,
             "#fdca26"
            ],
            [
             1,
             "#f0f921"
            ]
           ]
          },
          "colorway": [
           "#636efa",
           "#EF553B",
           "#00cc96",
           "#ab63fa",
           "#FFA15A",
           "#19d3f3",
           "#FF6692",
           "#B6E880",
           "#FF97FF",
           "#FECB52"
          ],
          "font": {
           "color": "#2a3f5f"
          },
          "geo": {
           "bgcolor": "white",
           "lakecolor": "white",
           "landcolor": "white",
           "showlakes": true,
           "showland": true,
           "subunitcolor": "#C8D4E3"
          },
          "hoverlabel": {
           "align": "left"
          },
          "hovermode": "closest",
          "mapbox": {
           "style": "light"
          },
          "paper_bgcolor": "white",
          "plot_bgcolor": "white",
          "polar": {
           "angularaxis": {
            "gridcolor": "#EBF0F8",
            "linecolor": "#EBF0F8",
            "ticks": ""
           },
           "bgcolor": "white",
           "radialaxis": {
            "gridcolor": "#EBF0F8",
            "linecolor": "#EBF0F8",
            "ticks": ""
           }
          },
          "scene": {
           "xaxis": {
            "backgroundcolor": "white",
            "gridcolor": "#DFE8F3",
            "gridwidth": 2,
            "linecolor": "#EBF0F8",
            "showbackground": true,
            "ticks": "",
            "zerolinecolor": "#EBF0F8"
           },
           "yaxis": {
            "backgroundcolor": "white",
            "gridcolor": "#DFE8F3",
            "gridwidth": 2,
            "linecolor": "#EBF0F8",
            "showbackground": true,
            "ticks": "",
            "zerolinecolor": "#EBF0F8"
           },
           "zaxis": {
            "backgroundcolor": "white",
            "gridcolor": "#DFE8F3",
            "gridwidth": 2,
            "linecolor": "#EBF0F8",
            "showbackground": true,
            "ticks": "",
            "zerolinecolor": "#EBF0F8"
           }
          },
          "shapedefaults": {
           "line": {
            "color": "#2a3f5f"
           }
          },
          "ternary": {
           "aaxis": {
            "gridcolor": "#DFE8F3",
            "linecolor": "#A2B1C6",
            "ticks": ""
           },
           "baxis": {
            "gridcolor": "#DFE8F3",
            "linecolor": "#A2B1C6",
            "ticks": ""
           },
           "bgcolor": "white",
           "caxis": {
            "gridcolor": "#DFE8F3",
            "linecolor": "#A2B1C6",
            "ticks": ""
           }
          },
          "title": {
           "x": 0.05
          },
          "xaxis": {
           "automargin": true,
           "gridcolor": "#EBF0F8",
           "linecolor": "#EBF0F8",
           "ticks": "",
           "title": {
            "standoff": 15
           },
           "zerolinecolor": "#EBF0F8",
           "zerolinewidth": 2
          },
          "yaxis": {
           "automargin": true,
           "gridcolor": "#EBF0F8",
           "linecolor": "#EBF0F8",
           "ticks": "",
           "title": {
            "standoff": 15
           },
           "zerolinecolor": "#EBF0F8",
           "zerolinewidth": 2
          }
         }
        },
        "title": {
         "text": "Comparaison entre notre fonds article 9 et et MSCI World pour l'empreinte carbone"
        },
        "xaxis": {
         "title": {
          "text": "Pilier"
         }
        },
        "yaxis": {
         "title": {
          "text": "Score moyen"
         }
        }
       }
      }
     },
     "metadata": {},
     "output_type": "display_data"
    }
   ],
   "source": [
    "scores = ['INTENSITY_SCOPE_1', 'INTENSITY_SCOPE_2', 'INTENSITY_SCOPE_3', 'FOOTPRINT_SCOPE_1', 'FOOTPRINT_SCOPE_2', 'FOOTPRINT_SCOPE_3']\n",
    "\n",
    "# 📌 Calcul des valeurs pour df6 (portefeuille optimisé)\n",
    "df6_values = [\n",
    "    (df_fin['Poids'] * df_fin[metric]).sum() if metric in df_fin.columns else None for metric in scores\n",
    "]\n",
    "\n",
    "# 📌 Calcul des valeurs pour df (MSCI World)\n",
    "df_values = [\n",
    "    (df['Weight in MSCI World'] * df[metric]).sum() if metric in df.columns else None for metric in scores\n",
    "]\n",
    "\n",
    "# 📌 Création du graphique\n",
    "x = np.arange(len(scores))  # Indices des barres\n",
    "\n",
    "fig = go.Figure()\n",
    "\n",
    "# 🔹 Barres pour le portefeuille optimisé (df6)\n",
    "fig.add_trace(go.Bar(\n",
    "    x=[x for x in scores],\n",
    "    y=df6_values,\n",
    "    name=\"Fonds article 9\",\n",
    "    marker_color='blue'\n",
    "))\n",
    "\n",
    "# 🔹 Barres pour MSCI World (df)\n",
    "fig.add_trace(go.Bar(\n",
    "    x=[x for x in scores],\n",
    "    y=df_values,\n",
    "    name=\"MSCI World\",\n",
    "    marker_color='orange'\n",
    "))\n",
    "\n",
    "# 📌 Personnalisation du graphique\n",
    "fig.update_layout(\n",
    "    title=\"Comparaison entre notre fonds article 9 et et MSCI World pour l'empreinte carbone\",\n",
    "    xaxis_title=\"Pilier\",\n",
    "    yaxis_title=\"Score moyen\",\n",
    "    barmode='group',\n",
    "    template='plotly_white',\n",
    "    font=dict(\n",
    "        family=\"Arial, sans-serif\",\n",
    "        size=12,\n",
    "        color=\"black\"\n",
    "    ),\n",
    "    legend=dict(\n",
    "        title=\"Légende\",\n",
    "        x=0.02, y=0.98,\n",
    "        bgcolor='rgba(255,255,255,0.7)',\n",
    "        bordercolor='black',\n",
    "        borderwidth=1\n",
    "    )\n",
    ")\n",
    "\n",
    "# 📌 Affichage\n",
    "fig.show()"
   ]
  },
  {
   "cell_type": "markdown",
   "metadata": {},
   "source": [
    "## Backtest Benchmark"
   ]
  },
  {
   "cell_type": "code",
   "execution_count": 22,
   "metadata": {},
   "outputs": [],
   "source": [
    "# Import the data \n",
    "# import yfinance as yf\n",
    "# import pandas as pd\n",
    "# def get_msci_world_history(ticker=\"SUSW.L\", start=\"2018-01-01\", interval=\"1wk\"):\n",
    "#     \"\"\"\n",
    "#     Récupère l'historique des prix de l'ETF MSCI World depuis Yahoo Finance.\n",
    "    \n",
    "#     :param ticker: Symbole de l'actif (par défaut URTH pour l'ETF MSCI World)\n",
    "#     :param start: Date de début de l'historique (format YYYY-MM-DD)\n",
    "#     :param interval: Intervalle des données (ex: \"1d\", \"1wk\", \"1mo\")\n",
    "#     :return: DataFrame avec les données historiques\n",
    "#     \"\"\"\n",
    "#     data = yf.download(ticker, start=start, interval=interval)\n",
    "#     data[\"Adj Close Base 100\"] = (data[\"Adj Close\"] / data[\"Adj Close\"].iloc[0]) * 100\n",
    "#     return data\n",
    "# df = get_msci_world_history().rename(columns={\"Adj Close Base 100\":\"MSCI World\"})\n",
    "# df.head()\n",
    "\n",
    "# df = df[[\"MSCI World\"]]\n",
    "# df.head()\n",
    "# df.to_excel(\"MSCI_World_histo.xlsx\")"
   ]
  },
  {
   "cell_type": "code",
   "execution_count": 23,
   "metadata": {},
   "outputs": [
    {
     "data": {
      "text/html": [
       "<div>\n",
       "<style scoped>\n",
       "    .dataframe tbody tr th:only-of-type {\n",
       "        vertical-align: middle;\n",
       "    }\n",
       "\n",
       "    .dataframe tbody tr th {\n",
       "        vertical-align: top;\n",
       "    }\n",
       "\n",
       "    .dataframe thead th {\n",
       "        text-align: right;\n",
       "    }\n",
       "</style>\n",
       "<table border=\"1\" class=\"dataframe\">\n",
       "  <thead>\n",
       "    <tr style=\"text-align: right;\">\n",
       "      <th></th>\n",
       "      <th>ticker</th>\n",
       "      <th>Poids</th>\n",
       "    </tr>\n",
       "  </thead>\n",
       "  <tbody>\n",
       "    <tr>\n",
       "      <th>0</th>\n",
       "      <td>NVDA US Equity</td>\n",
       "      <td>0.05</td>\n",
       "    </tr>\n",
       "    <tr>\n",
       "      <th>1</th>\n",
       "      <td>AVGO US Equity</td>\n",
       "      <td>0.05</td>\n",
       "    </tr>\n",
       "    <tr>\n",
       "      <th>2</th>\n",
       "      <td>MA US Equity</td>\n",
       "      <td>0.05</td>\n",
       "    </tr>\n",
       "    <tr>\n",
       "      <th>3</th>\n",
       "      <td>NFLX US Equity</td>\n",
       "      <td>0.05</td>\n",
       "    </tr>\n",
       "    <tr>\n",
       "      <th>4</th>\n",
       "      <td>CRM US Equity</td>\n",
       "      <td>0.05</td>\n",
       "    </tr>\n",
       "  </tbody>\n",
       "</table>\n",
       "</div>"
      ],
      "text/plain": [
       "           ticker  Poids\n",
       "0  NVDA US Equity   0.05\n",
       "1  AVGO US Equity   0.05\n",
       "2    MA US Equity   0.05\n",
       "3  NFLX US Equity   0.05\n",
       "4   CRM US Equity   0.05"
      ]
     },
     "execution_count": 23,
     "metadata": {},
     "output_type": "execute_result"
    }
   ],
   "source": [
    "df = pd.read_excel(\"Data/Positions_finales.xlsx\")\n",
    "df.head()\n"
   ]
  },
  {
   "cell_type": "code",
   "execution_count": 24,
   "metadata": {},
   "outputs": [
    {
     "name": "stdout",
     "output_type": "stream",
     "text": [
      "Index(['Date', 'NVDA', 'AVGO', 'MA', 'NFLX', 'CRM', 'NOVO-B.CO', 'NOW', 'EQIX',\n",
      "       'MELI', 'CMG', 'REGN', 'CSU.TO', 'FTNT', 'LULU', 'ARGX.BR', 'DECK',\n",
      "       'AHT.L', 'RGEN', 'SCA-B.ST', 'REA.AX', 'SRT3.DE', 'SAGA-B.ST', 'VIV.PA',\n",
      "       'MSCI_WORLD'],\n",
      "      dtype='object')\n"
     ]
    }
   ],
   "source": [
    "weights = df[\"Poids\"]\n",
    "df_prices = pd.read_excel(\"Data/Prices.xlsx\")\n",
    "df_prices.head()\n",
    "print(df_prices.columns[:])"
   ]
  },
  {
   "cell_type": "code",
   "execution_count": 25,
   "metadata": {},
   "outputs": [],
   "source": [
    "# Calculer la performance de la stratégie pondérée\n",
    "df_prices[\"Strategy\"] = sum(df_prices[asset] * weight for asset, weight in zip(df_prices.columns[1:-1], weights))"
   ]
  },
  {
   "cell_type": "code",
   "execution_count": 26,
   "metadata": {},
   "outputs": [
    {
     "data": {
      "application/vnd.plotly.v1+json": {
       "config": {
        "plotlyServerURL": "https://plot.ly"
       },
       "data": [
        {
         "mode": "lines",
         "name": "Fonds Article 9",
         "type": "scatter",
         "x": [
          "2018-01-01T00:00:00",
          "2018-01-08T00:00:00",
          "2018-01-15T00:00:00",
          "2018-01-22T00:00:00",
          "2018-01-29T00:00:00",
          "2018-02-05T00:00:00",
          "2018-02-12T00:00:00",
          "2018-02-19T00:00:00",
          "2018-02-26T00:00:00",
          "2018-03-05T00:00:00",
          "2018-03-12T00:00:00",
          "2018-03-19T00:00:00",
          "2018-03-26T00:00:00",
          "2018-04-02T00:00:00",
          "2018-04-09T00:00:00",
          "2018-04-16T00:00:00",
          "2018-04-23T00:00:00",
          "2018-04-30T00:00:00",
          "2018-05-07T00:00:00",
          "2018-05-14T00:00:00",
          "2018-05-21T00:00:00",
          "2018-05-28T00:00:00",
          "2018-06-04T00:00:00",
          "2018-06-11T00:00:00",
          "2018-06-18T00:00:00",
          "2018-06-25T00:00:00",
          "2018-07-02T00:00:00",
          "2018-07-09T00:00:00",
          "2018-07-16T00:00:00",
          "2018-07-23T00:00:00",
          "2018-07-30T00:00:00",
          "2018-08-06T00:00:00",
          "2018-08-13T00:00:00",
          "2018-08-20T00:00:00",
          "2018-08-27T00:00:00",
          "2018-09-03T00:00:00",
          "2018-09-10T00:00:00",
          "2018-09-17T00:00:00",
          "2018-09-24T00:00:00",
          "2018-10-01T00:00:00",
          "2018-10-08T00:00:00",
          "2018-10-15T00:00:00",
          "2018-10-22T00:00:00",
          "2018-10-29T00:00:00",
          "2018-11-05T00:00:00",
          "2018-11-12T00:00:00",
          "2018-11-19T00:00:00",
          "2018-11-26T00:00:00",
          "2018-12-03T00:00:00",
          "2018-12-10T00:00:00",
          "2018-12-17T00:00:00",
          "2018-12-24T00:00:00",
          "2018-12-31T00:00:00",
          "2019-01-07T00:00:00",
          "2019-01-14T00:00:00",
          "2019-01-21T00:00:00",
          "2019-01-28T00:00:00",
          "2019-02-04T00:00:00",
          "2019-02-11T00:00:00",
          "2019-02-18T00:00:00",
          "2019-02-25T00:00:00",
          "2019-03-04T00:00:00",
          "2019-03-11T00:00:00",
          "2019-03-18T00:00:00",
          "2019-03-25T00:00:00",
          "2019-04-01T00:00:00",
          "2019-04-08T00:00:00",
          "2019-04-15T00:00:00",
          "2019-04-22T00:00:00",
          "2019-04-29T00:00:00",
          "2019-05-06T00:00:00",
          "2019-05-13T00:00:00",
          "2019-05-20T00:00:00",
          "2019-05-27T00:00:00",
          "2019-06-03T00:00:00",
          "2019-06-10T00:00:00",
          "2019-06-17T00:00:00",
          "2019-06-24T00:00:00",
          "2019-07-01T00:00:00",
          "2019-07-08T00:00:00",
          "2019-07-15T00:00:00",
          "2019-07-22T00:00:00",
          "2019-07-29T00:00:00",
          "2019-08-05T00:00:00",
          "2019-08-12T00:00:00",
          "2019-08-19T00:00:00",
          "2019-08-26T00:00:00",
          "2019-09-02T00:00:00",
          "2019-09-09T00:00:00",
          "2019-09-16T00:00:00",
          "2019-09-23T00:00:00",
          "2019-09-30T00:00:00",
          "2019-10-07T00:00:00",
          "2019-10-14T00:00:00",
          "2019-10-21T00:00:00",
          "2019-10-28T00:00:00",
          "2019-11-04T00:00:00",
          "2019-11-11T00:00:00",
          "2019-11-18T00:00:00",
          "2019-11-25T00:00:00",
          "2019-12-02T00:00:00",
          "2019-12-09T00:00:00",
          "2019-12-16T00:00:00",
          "2019-12-23T00:00:00",
          "2019-12-30T00:00:00",
          "2020-01-06T00:00:00",
          "2020-01-13T00:00:00",
          "2020-01-20T00:00:00",
          "2020-01-27T00:00:00",
          "2020-02-03T00:00:00",
          "2020-02-10T00:00:00",
          "2020-02-17T00:00:00",
          "2020-02-24T00:00:00",
          "2020-03-02T00:00:00",
          "2020-03-09T00:00:00",
          "2020-03-16T00:00:00",
          "2020-03-23T00:00:00",
          "2020-03-30T00:00:00",
          "2020-04-06T00:00:00",
          "2020-04-13T00:00:00",
          "2020-04-20T00:00:00",
          "2020-04-27T00:00:00",
          "2020-05-04T00:00:00",
          "2020-05-11T00:00:00",
          "2020-05-18T00:00:00",
          "2020-05-25T00:00:00",
          "2020-06-01T00:00:00",
          "2020-06-08T00:00:00",
          "2020-06-15T00:00:00",
          "2020-06-22T00:00:00",
          "2020-06-29T00:00:00",
          "2020-07-06T00:00:00",
          "2020-07-13T00:00:00",
          "2020-07-20T00:00:00",
          "2020-07-27T00:00:00",
          "2020-08-03T00:00:00",
          "2020-08-10T00:00:00",
          "2020-08-17T00:00:00",
          "2020-08-24T00:00:00",
          "2020-08-31T00:00:00",
          "2020-09-07T00:00:00",
          "2020-09-14T00:00:00",
          "2020-09-21T00:00:00",
          "2020-09-28T00:00:00",
          "2020-10-05T00:00:00",
          "2020-10-12T00:00:00",
          "2020-10-19T00:00:00",
          "2020-10-26T00:00:00",
          "2020-11-02T00:00:00",
          "2020-11-09T00:00:00",
          "2020-11-16T00:00:00",
          "2020-11-23T00:00:00",
          "2020-11-30T00:00:00",
          "2020-12-07T00:00:00",
          "2020-12-14T00:00:00",
          "2020-12-21T00:00:00",
          "2020-12-28T00:00:00",
          "2021-01-04T00:00:00",
          "2021-01-11T00:00:00",
          "2021-01-18T00:00:00",
          "2021-01-25T00:00:00",
          "2021-02-01T00:00:00",
          "2021-02-08T00:00:00",
          "2021-02-15T00:00:00",
          "2021-02-22T00:00:00",
          "2021-03-01T00:00:00",
          "2021-03-08T00:00:00",
          "2021-03-15T00:00:00",
          "2021-03-22T00:00:00",
          "2021-03-29T00:00:00",
          "2021-04-05T00:00:00",
          "2021-04-12T00:00:00",
          "2021-04-19T00:00:00",
          "2021-04-26T00:00:00",
          "2021-05-03T00:00:00",
          "2021-05-10T00:00:00",
          "2021-05-17T00:00:00",
          "2021-05-24T00:00:00",
          "2021-05-31T00:00:00",
          "2021-06-07T00:00:00",
          "2021-06-14T00:00:00",
          "2021-06-21T00:00:00",
          "2021-06-28T00:00:00",
          "2021-07-05T00:00:00",
          "2021-07-12T00:00:00",
          "2021-07-19T00:00:00",
          "2021-07-26T00:00:00",
          "2021-08-02T00:00:00",
          "2021-08-09T00:00:00",
          "2021-08-16T00:00:00",
          "2021-08-23T00:00:00",
          "2021-08-30T00:00:00",
          "2021-09-06T00:00:00",
          "2021-09-13T00:00:00",
          "2021-09-20T00:00:00",
          "2021-09-27T00:00:00",
          "2021-10-04T00:00:00",
          "2021-10-11T00:00:00",
          "2021-10-18T00:00:00",
          "2021-10-25T00:00:00",
          "2021-11-01T00:00:00",
          "2021-11-08T00:00:00",
          "2021-11-15T00:00:00",
          "2021-11-22T00:00:00",
          "2021-11-29T00:00:00",
          "2021-12-06T00:00:00",
          "2021-12-13T00:00:00",
          "2021-12-20T00:00:00",
          "2021-12-27T00:00:00",
          "2022-01-03T00:00:00",
          "2022-01-10T00:00:00",
          "2022-01-17T00:00:00",
          "2022-01-24T00:00:00",
          "2022-01-31T00:00:00",
          "2022-02-07T00:00:00",
          "2022-02-14T00:00:00",
          "2022-02-21T00:00:00",
          "2022-02-28T00:00:00",
          "2022-03-07T00:00:00",
          "2022-03-14T00:00:00",
          "2022-03-21T00:00:00",
          "2022-03-28T00:00:00",
          "2022-04-04T00:00:00",
          "2022-04-11T00:00:00",
          "2022-04-18T00:00:00",
          "2022-04-25T00:00:00",
          "2022-05-02T00:00:00",
          "2022-05-09T00:00:00",
          "2022-05-16T00:00:00",
          "2022-05-23T00:00:00",
          "2022-05-30T00:00:00",
          "2022-06-06T00:00:00",
          "2022-06-13T00:00:00",
          "2022-06-20T00:00:00",
          "2022-06-27T00:00:00",
          "2022-07-04T00:00:00",
          "2022-07-11T00:00:00",
          "2022-07-18T00:00:00",
          "2022-07-25T00:00:00",
          "2022-08-01T00:00:00",
          "2022-08-08T00:00:00",
          "2022-08-15T00:00:00",
          "2022-08-22T00:00:00",
          "2022-08-29T00:00:00",
          "2022-09-05T00:00:00",
          "2022-09-12T00:00:00",
          "2022-09-19T00:00:00",
          "2022-09-26T00:00:00",
          "2022-10-03T00:00:00",
          "2022-10-10T00:00:00",
          "2022-10-17T00:00:00",
          "2022-10-24T00:00:00",
          "2022-10-31T00:00:00",
          "2022-11-07T00:00:00",
          "2022-11-14T00:00:00",
          "2022-11-21T00:00:00",
          "2022-11-28T00:00:00",
          "2022-12-05T00:00:00",
          "2022-12-12T00:00:00",
          "2022-12-19T00:00:00",
          "2022-12-26T00:00:00",
          "2023-01-02T00:00:00",
          "2023-01-09T00:00:00",
          "2023-01-16T00:00:00",
          "2023-01-23T00:00:00",
          "2023-01-30T00:00:00",
          "2023-02-06T00:00:00",
          "2023-02-13T00:00:00",
          "2023-02-20T00:00:00",
          "2023-02-27T00:00:00",
          "2023-03-06T00:00:00",
          "2023-03-13T00:00:00",
          "2023-03-20T00:00:00",
          "2023-03-27T00:00:00",
          "2023-04-03T00:00:00",
          "2023-04-10T00:00:00",
          "2023-04-17T00:00:00",
          "2023-04-24T00:00:00",
          "2023-05-01T00:00:00",
          "2023-05-08T00:00:00",
          "2023-05-15T00:00:00",
          "2023-05-22T00:00:00",
          "2023-05-29T00:00:00",
          "2023-06-05T00:00:00",
          "2023-06-12T00:00:00",
          "2023-06-19T00:00:00",
          "2023-06-26T00:00:00",
          "2023-07-03T00:00:00",
          "2023-07-10T00:00:00",
          "2023-07-17T00:00:00",
          "2023-07-24T00:00:00",
          "2023-07-31T00:00:00",
          "2023-08-07T00:00:00",
          "2023-08-14T00:00:00",
          "2023-08-21T00:00:00",
          "2023-08-28T00:00:00",
          "2023-09-04T00:00:00",
          "2023-09-11T00:00:00",
          "2023-09-18T00:00:00",
          "2023-09-25T00:00:00",
          "2023-10-02T00:00:00",
          "2023-10-09T00:00:00",
          "2023-10-16T00:00:00",
          "2023-10-23T00:00:00",
          "2023-10-30T00:00:00",
          "2023-11-06T00:00:00",
          "2023-11-13T00:00:00",
          "2023-11-20T00:00:00",
          "2023-11-27T00:00:00",
          "2023-12-04T00:00:00",
          "2023-12-11T00:00:00",
          "2023-12-18T00:00:00",
          "2023-12-25T00:00:00",
          "2024-01-01T00:00:00",
          "2024-01-08T00:00:00",
          "2024-01-15T00:00:00",
          "2024-01-22T00:00:00",
          "2024-01-29T00:00:00",
          "2024-02-05T00:00:00",
          "2024-02-12T00:00:00",
          "2024-02-19T00:00:00",
          "2024-02-26T00:00:00",
          "2024-03-04T00:00:00",
          "2024-03-11T00:00:00",
          "2024-03-18T00:00:00",
          "2024-03-25T00:00:00",
          "2024-04-01T00:00:00",
          "2024-04-08T00:00:00",
          "2024-04-15T00:00:00",
          "2024-04-22T00:00:00",
          "2024-04-29T00:00:00",
          "2024-05-06T00:00:00",
          "2024-05-13T00:00:00",
          "2024-05-20T00:00:00",
          "2024-05-27T00:00:00",
          "2024-06-03T00:00:00",
          "2024-06-10T00:00:00",
          "2024-06-17T00:00:00",
          "2024-06-24T00:00:00",
          "2024-07-01T00:00:00",
          "2024-07-08T00:00:00",
          "2024-07-15T00:00:00",
          "2024-07-22T00:00:00",
          "2024-07-29T00:00:00",
          "2024-08-05T00:00:00",
          "2024-08-12T00:00:00",
          "2024-08-19T00:00:00",
          "2024-08-26T00:00:00",
          "2024-09-02T00:00:00",
          "2024-09-09T00:00:00",
          "2024-09-16T00:00:00",
          "2024-09-23T00:00:00",
          "2024-09-30T00:00:00",
          "2024-10-07T00:00:00",
          "2024-10-14T00:00:00",
          "2024-10-21T00:00:00",
          "2024-10-28T00:00:00",
          "2024-11-04T00:00:00",
          "2024-11-11T00:00:00",
          "2024-11-18T00:00:00",
          "2024-11-25T00:00:00",
          "2024-12-02T00:00:00",
          "2024-12-09T00:00:00",
          "2024-12-16T00:00:00",
          "2024-12-23T00:00:00",
          "2024-12-30T00:00:00",
          "2025-01-06T00:00:00",
          "2025-01-13T00:00:00",
          "2025-01-20T00:00:00",
          "2025-01-27T00:00:00",
          "2025-02-03T00:00:00"
         ],
         "y": [
          100.00000000000082,
          101.49455832539358,
          103.21007153533532,
          105.56545615911051,
          102.58458291252252,
          98.69322289434847,
          104.06839925671832,
          106.29871991926696,
          106.00002792401536,
          111.18999274514495,
          110.11654445408865,
          105.93136279840348,
          107.25360616075312,
          106.37836263623285,
          109.47513242951854,
          110.13653434971367,
          111.73071291069925,
          113.64239766248484,
          118.23233203025013,
          118.39313655708416,
          120.58698120583367,
          121.44653327348357,
          123.13504495435933,
          125.16358854453253,
          124.60368328634688,
          122.66227382105845,
          125.88431368834003,
          127.53938767047055,
          127.07664184881786,
          125.59981320578872,
          125.53244630524476,
          127.30594483340367,
          126.75332192312062,
          131.51829946367016,
          134.77065971543527,
          132.41856701616345,
          134.58924924198453,
          132.0860484061532,
          134.6392523907595,
          129.351789830415,
          122.62585048393437,
          121.59345992270713,
          117.37634951176204,
          124.51214619362976,
          125.52012822203278,
          120.8889177154,
          115.70500296835952,
          121.59996764355836,
          117.20509533719483,
          118.26523367226831,
          109.6885474519676,
          114.1297089115783,
          115.87637378030797,
          122.41461062510488,
          125.49747809163212,
          126.6691942668082,
          131.29523070080774,
          133.0857607543646,
          138.84211856838746,
          139.81906741655112,
          141.96572203423145,
          137.42713725808056,
          142.10457979619807,
          141.7484920636634,
          145.20554542578296,
          146.9476430211443,
          147.79086841643485,
          145.5624392473456,
          150.89445096466113,
          151.11087428464577,
          147.6344144719749,
          148.60643918106788,
          146.65539237139348,
          143.5452523384284,
          149.71354543424553,
          151.3201119358565,
          156.0598858197584,
          155.96989885373196,
          158.81659919956238,
          160.4584816583329,
          158.8206920033585,
          161.58643651970885,
          155.90114556788404,
          155.8247292537908,
          154.48848809394354,
          155.84964450931497,
          160.09871571390622,
          161.44899762279346,
          155.48197074758428,
          156.78755545248472,
          154.4159884741471,
          155.24595469581453,
          157.58614624509573,
          156.87360144274473,
          158.16466952722874,
          162.02479681083267,
          163.12309669528375,
          166.79346914281945,
          168.68289347134095,
          173.1496571235598,
          172.0936196975059,
          170.86796128679606,
          176.96507034973243,
          177.46115374102885,
          177.8233277602002,
          182.48379976110672,
          187.70982700366682,
          187.53514862906042,
          187.87380040867671,
          193.35513505281045,
          200.55221317595914,
          199.29747830739268,
          176.9056740956562,
          177.45658023903695,
          156.92555578476345,
          144.45272816465385,
          156.85791407479704,
          157.5876972022423,
          170.67111066172825,
          178.39331949555856,
          179.96856794613169,
          182.16831476750318,
          198.59923606854503,
          201.79072185838672,
          212.025486879348,
          213.9269885033254,
          215.3332324178183,
          207.8824791522428,
          215.62618563719332,
          213.5269297872277,
          221.199418812826,
          226.3677501481202,
          225.66223571600608,
          224.98324807615754,
          230.84943096685188,
          234.49017610517356,
          233.89439291317348,
          240.83336979451678,
          246.80711803850886,
          237.77421955652537,
          236.65078533990632,
          238.43341904259782,
          241.7200730554563,
          247.24671820520783,
          260.79243020423485,
          262.43236581494017,
          259.6067372108297,
          242.91221629675027,
          268.7403142624421,
          261.3912795378957,
          261.8788211541954,
          263.58506430681666,
          265.70491524720273,
          264.2509138624837,
          275.5546688963581,
          274.5152745576998,
          274.9515340624814,
          279.6341159527554,
          279.4826919417097,
          288.9425554002652,
          280.1688827607771,
          298.30030946493514,
          303.8550526396744,
          301.2895636145589,
          289.52924908981817,
          277.2767585056076,
          288.66483716269715,
          289.3733036819096,
          288.64112991572233,
          293.8620562884013,
          307.16844468383493,
          315.31759528173217,
          313.0263609930993,
          309.34203062535573,
          302.12742422101013,
          293.00919854272905,
          297.6362538371008,
          302.83079568874024,
          302.37835459937367,
          312.0565013911044,
          316.65616064641995,
          327.0115832405104,
          335.9521475945364,
          341.750388223651,
          339.779728153372,
          355.7191470425954,
          361.16699297215365,
          374.2853662679664,
          378.57044792900115,
          382.6918067828971,
          388.5036853410215,
          396.14004590298526,
          393.306177510609,
          392.9142242665772,
          393.6321064916278,
          369.7559117703361,
          365.41501248154816,
          379.2126177307365,
          391.4421859540513,
          399.66316041875825,
          405.81914506190174,
          409.31487615693675,
          417.0477154782807,
          403.98386718001234,
          385.7654570912795,
          393.21588084941334,
          385.6556405137474,
          394.632040750637,
          399.1662784042756,
          362.11026672844673,
          345.57520986248005,
          327.2504938197607,
          329.56910280194836,
          339.4486070496168,
          334.28377611457387,
          325.0835665614266,
          331.1079108970955,
          320.16108794348867,
          310.40325230796014,
          344.7657737778625,
          338.381384746853,
          344.86636131599107,
          332.22678121204353,
          328.33906704220976,
          309.82114210615106,
          304.3567734022624,
          288.36312004243115,
          286.60221456077784,
          289.74839292601575,
          304.49059368436536,
          300.46946642323496,
          287.42829634663167,
          266.92354610262515,
          286.0050209289356,
          276.4143424564559,
          292.9844574885097,
          288.33458764074163,
          308.34423937178497,
          319.5132124220709,
          320.88849026311556,
          330.6205713067982,
          321.60799923285356,
          309.5227269679406,
          298.3169627531805,
          316.2641688952194,
          300.4321045163518,
          276.46444311171734,
          276.1119628458853,
          284.717084977661,
          276.3248103864728,
          281.03498209663326,
          295.28006675629257,
          283.2156856513391,
          310.86229394372396,
          302.0244854406765,
          306.4489064404199,
          315.4684282626334,
          305.4094473417069,
          299.73350466683314,
          297.72666704545725,
          299.0334550112899,
          303.0663954863202,
          321.6431991407749,
          324.39025044375404,
          338.72507672632963,
          346.5437389299248,
          340.70666987214656,
          340.33683057214853,
          331.6114678674617,
          342.37561532757644,
          329.4866635919355,
          334.34932567084525,
          338.86492711240214,
          353.5916181911,
          349.2706817859615,
          358.7851813635225,
          357.1372996300258,
          357.1319050737798,
          357.74025969542527,
          357.08636924963326,
          366.55464336650033,
          374.48969106614743,
          379.7196679408646,
          377.66420136815265,
          390.2418770667655,
          379.73241014865687,
          388.0974235140751,
          382.9682739693087,
          396.11382083244564,
          405.09206539770145,
          403.7126935785487,
          388.58002180520907,
          389.05721809028705,
          382.89807201438185,
          389.2824984446062,
          405.0191054534111,
          399.76093858131276,
          394.3921852308818,
          379.0308297300713,
          379.9665899351742,
          381.16346436363534,
          379.2721287238985,
          367.12890368202727,
          364.31890482342493,
          389.1851579487047,
          401.0616935038717,
          409.2825061207303,
          415.26490699194375,
          420.0110331159174,
          423.2281354346108,
          444.1858789955462,
          445.4939193905605,
          444.8154815429286,
          435.09826842450997,
          453.2373263120843,
          462.16597110682153,
          478.1128868207833,
          497.2855486809839,
          511.02523475564146,
          510.2584660338026,
          518.1338480384936,
          532.1024736068189,
          534.4650933374537,
          529.4315931552345,
          549.7137835838852,
          543.2987851177805,
          533.8329624417629,
          523.4073545663531,
          493.2958380244024,
          521.5407812459338,
          518.1456704559105,
          528.7060241226836,
          539.9741296408725,
          556.4593908372194,
          552.0423070991022,
          564.7266247216731,
          581.0757358492268,
          570.698497800749,
          569.0115969694547,
          574.1143590020066,
          573.7534099404382,
          544.4604334780119,
          543.2880358543978,
          534.151937669332,
          549.4818211020585,
          579.8004664908784,
          589.5026458867271,
          585.5621902159324,
          544.4435661422801,
          581.3535090523724,
          580.4553047988179,
          589.2592579164561,
          595.1266213334395,
          611.2800904810108,
          616.798867580986,
          615.4284356412641,
          600.0913648122722,
          633.7600456660581,
          620.9103266863509,
          638.357948408844,
          639.6599521884765,
          660.9856384296236,
          653.3398878036018,
          638.4432048389311,
          644.9440945793059,
          648.54747518634,
          629.6526061902838,
          641.6838482144567,
          663.7920811960045,
          627.2591005673762,
          638.7717890876402
         ]
        },
        {
         "mode": "lines",
         "name": "MSCI World SRI",
         "type": "scatter",
         "x": [
          "2018-01-01T00:00:00",
          "2018-01-08T00:00:00",
          "2018-01-15T00:00:00",
          "2018-01-22T00:00:00",
          "2018-01-29T00:00:00",
          "2018-02-05T00:00:00",
          "2018-02-12T00:00:00",
          "2018-02-19T00:00:00",
          "2018-02-26T00:00:00",
          "2018-03-05T00:00:00",
          "2018-03-12T00:00:00",
          "2018-03-19T00:00:00",
          "2018-03-26T00:00:00",
          "2018-04-02T00:00:00",
          "2018-04-09T00:00:00",
          "2018-04-16T00:00:00",
          "2018-04-23T00:00:00",
          "2018-04-30T00:00:00",
          "2018-05-07T00:00:00",
          "2018-05-14T00:00:00",
          "2018-05-21T00:00:00",
          "2018-05-28T00:00:00",
          "2018-06-04T00:00:00",
          "2018-06-11T00:00:00",
          "2018-06-18T00:00:00",
          "2018-06-25T00:00:00",
          "2018-07-02T00:00:00",
          "2018-07-09T00:00:00",
          "2018-07-16T00:00:00",
          "2018-07-23T00:00:00",
          "2018-07-30T00:00:00",
          "2018-08-06T00:00:00",
          "2018-08-13T00:00:00",
          "2018-08-20T00:00:00",
          "2018-08-27T00:00:00",
          "2018-09-03T00:00:00",
          "2018-09-10T00:00:00",
          "2018-09-17T00:00:00",
          "2018-09-24T00:00:00",
          "2018-10-01T00:00:00",
          "2018-10-08T00:00:00",
          "2018-10-15T00:00:00",
          "2018-10-22T00:00:00",
          "2018-10-29T00:00:00",
          "2018-11-05T00:00:00",
          "2018-11-12T00:00:00",
          "2018-11-19T00:00:00",
          "2018-11-26T00:00:00",
          "2018-12-03T00:00:00",
          "2018-12-10T00:00:00",
          "2018-12-17T00:00:00",
          "2018-12-24T00:00:00",
          "2018-12-31T00:00:00",
          "2019-01-07T00:00:00",
          "2019-01-14T00:00:00",
          "2019-01-21T00:00:00",
          "2019-01-28T00:00:00",
          "2019-02-04T00:00:00",
          "2019-02-11T00:00:00",
          "2019-02-18T00:00:00",
          "2019-02-25T00:00:00",
          "2019-03-04T00:00:00",
          "2019-03-11T00:00:00",
          "2019-03-18T00:00:00",
          "2019-03-25T00:00:00",
          "2019-04-01T00:00:00",
          "2019-04-08T00:00:00",
          "2019-04-15T00:00:00",
          "2019-04-22T00:00:00",
          "2019-04-29T00:00:00",
          "2019-05-06T00:00:00",
          "2019-05-13T00:00:00",
          "2019-05-20T00:00:00",
          "2019-05-27T00:00:00",
          "2019-06-03T00:00:00",
          "2019-06-10T00:00:00",
          "2019-06-17T00:00:00",
          "2019-06-24T00:00:00",
          "2019-07-01T00:00:00",
          "2019-07-08T00:00:00",
          "2019-07-15T00:00:00",
          "2019-07-22T00:00:00",
          "2019-07-29T00:00:00",
          "2019-08-05T00:00:00",
          "2019-08-12T00:00:00",
          "2019-08-19T00:00:00",
          "2019-08-26T00:00:00",
          "2019-09-02T00:00:00",
          "2019-09-09T00:00:00",
          "2019-09-16T00:00:00",
          "2019-09-23T00:00:00",
          "2019-09-30T00:00:00",
          "2019-10-07T00:00:00",
          "2019-10-14T00:00:00",
          "2019-10-21T00:00:00",
          "2019-10-28T00:00:00",
          "2019-11-04T00:00:00",
          "2019-11-11T00:00:00",
          "2019-11-18T00:00:00",
          "2019-11-25T00:00:00",
          "2019-12-02T00:00:00",
          "2019-12-09T00:00:00",
          "2019-12-16T00:00:00",
          "2019-12-23T00:00:00",
          "2019-12-30T00:00:00",
          "2020-01-06T00:00:00",
          "2020-01-13T00:00:00",
          "2020-01-20T00:00:00",
          "2020-01-27T00:00:00",
          "2020-02-03T00:00:00",
          "2020-02-10T00:00:00",
          "2020-02-17T00:00:00",
          "2020-02-24T00:00:00",
          "2020-03-02T00:00:00",
          "2020-03-09T00:00:00",
          "2020-03-16T00:00:00",
          "2020-03-23T00:00:00",
          "2020-03-30T00:00:00",
          "2020-04-06T00:00:00",
          "2020-04-13T00:00:00",
          "2020-04-20T00:00:00",
          "2020-04-27T00:00:00",
          "2020-05-04T00:00:00",
          "2020-05-11T00:00:00",
          "2020-05-18T00:00:00",
          "2020-05-25T00:00:00",
          "2020-06-01T00:00:00",
          "2020-06-08T00:00:00",
          "2020-06-15T00:00:00",
          "2020-06-22T00:00:00",
          "2020-06-29T00:00:00",
          "2020-07-06T00:00:00",
          "2020-07-13T00:00:00",
          "2020-07-20T00:00:00",
          "2020-07-27T00:00:00",
          "2020-08-03T00:00:00",
          "2020-08-10T00:00:00",
          "2020-08-17T00:00:00",
          "2020-08-24T00:00:00",
          "2020-08-31T00:00:00",
          "2020-09-07T00:00:00",
          "2020-09-14T00:00:00",
          "2020-09-21T00:00:00",
          "2020-09-28T00:00:00",
          "2020-10-05T00:00:00",
          "2020-10-12T00:00:00",
          "2020-10-19T00:00:00",
          "2020-10-26T00:00:00",
          "2020-11-02T00:00:00",
          "2020-11-09T00:00:00",
          "2020-11-16T00:00:00",
          "2020-11-23T00:00:00",
          "2020-11-30T00:00:00",
          "2020-12-07T00:00:00",
          "2020-12-14T00:00:00",
          "2020-12-21T00:00:00",
          "2020-12-28T00:00:00",
          "2021-01-04T00:00:00",
          "2021-01-11T00:00:00",
          "2021-01-18T00:00:00",
          "2021-01-25T00:00:00",
          "2021-02-01T00:00:00",
          "2021-02-08T00:00:00",
          "2021-02-15T00:00:00",
          "2021-02-22T00:00:00",
          "2021-03-01T00:00:00",
          "2021-03-08T00:00:00",
          "2021-03-15T00:00:00",
          "2021-03-22T00:00:00",
          "2021-03-29T00:00:00",
          "2021-04-05T00:00:00",
          "2021-04-12T00:00:00",
          "2021-04-19T00:00:00",
          "2021-04-26T00:00:00",
          "2021-05-03T00:00:00",
          "2021-05-10T00:00:00",
          "2021-05-17T00:00:00",
          "2021-05-24T00:00:00",
          "2021-05-31T00:00:00",
          "2021-06-07T00:00:00",
          "2021-06-14T00:00:00",
          "2021-06-21T00:00:00",
          "2021-06-28T00:00:00",
          "2021-07-05T00:00:00",
          "2021-07-12T00:00:00",
          "2021-07-19T00:00:00",
          "2021-07-26T00:00:00",
          "2021-08-02T00:00:00",
          "2021-08-09T00:00:00",
          "2021-08-16T00:00:00",
          "2021-08-23T00:00:00",
          "2021-08-30T00:00:00",
          "2021-09-06T00:00:00",
          "2021-09-13T00:00:00",
          "2021-09-20T00:00:00",
          "2021-09-27T00:00:00",
          "2021-10-04T00:00:00",
          "2021-10-11T00:00:00",
          "2021-10-18T00:00:00",
          "2021-10-25T00:00:00",
          "2021-11-01T00:00:00",
          "2021-11-08T00:00:00",
          "2021-11-15T00:00:00",
          "2021-11-22T00:00:00",
          "2021-11-29T00:00:00",
          "2021-12-06T00:00:00",
          "2021-12-13T00:00:00",
          "2021-12-20T00:00:00",
          "2021-12-27T00:00:00",
          "2022-01-03T00:00:00",
          "2022-01-10T00:00:00",
          "2022-01-17T00:00:00",
          "2022-01-24T00:00:00",
          "2022-01-31T00:00:00",
          "2022-02-07T00:00:00",
          "2022-02-14T00:00:00",
          "2022-02-21T00:00:00",
          "2022-02-28T00:00:00",
          "2022-03-07T00:00:00",
          "2022-03-14T00:00:00",
          "2022-03-21T00:00:00",
          "2022-03-28T00:00:00",
          "2022-04-04T00:00:00",
          "2022-04-11T00:00:00",
          "2022-04-18T00:00:00",
          "2022-04-25T00:00:00",
          "2022-05-02T00:00:00",
          "2022-05-09T00:00:00",
          "2022-05-16T00:00:00",
          "2022-05-23T00:00:00",
          "2022-05-30T00:00:00",
          "2022-06-06T00:00:00",
          "2022-06-13T00:00:00",
          "2022-06-20T00:00:00",
          "2022-06-27T00:00:00",
          "2022-07-04T00:00:00",
          "2022-07-11T00:00:00",
          "2022-07-18T00:00:00",
          "2022-07-25T00:00:00",
          "2022-08-01T00:00:00",
          "2022-08-08T00:00:00",
          "2022-08-15T00:00:00",
          "2022-08-22T00:00:00",
          "2022-08-29T00:00:00",
          "2022-09-05T00:00:00",
          "2022-09-12T00:00:00",
          "2022-09-19T00:00:00",
          "2022-09-26T00:00:00",
          "2022-10-03T00:00:00",
          "2022-10-10T00:00:00",
          "2022-10-17T00:00:00",
          "2022-10-24T00:00:00",
          "2022-10-31T00:00:00",
          "2022-11-07T00:00:00",
          "2022-11-14T00:00:00",
          "2022-11-21T00:00:00",
          "2022-11-28T00:00:00",
          "2022-12-05T00:00:00",
          "2022-12-12T00:00:00",
          "2022-12-19T00:00:00",
          "2022-12-26T00:00:00",
          "2023-01-02T00:00:00",
          "2023-01-09T00:00:00",
          "2023-01-16T00:00:00",
          "2023-01-23T00:00:00",
          "2023-01-30T00:00:00",
          "2023-02-06T00:00:00",
          "2023-02-13T00:00:00",
          "2023-02-20T00:00:00",
          "2023-02-27T00:00:00",
          "2023-03-06T00:00:00",
          "2023-03-13T00:00:00",
          "2023-03-20T00:00:00",
          "2023-03-27T00:00:00",
          "2023-04-03T00:00:00",
          "2023-04-10T00:00:00",
          "2023-04-17T00:00:00",
          "2023-04-24T00:00:00",
          "2023-05-01T00:00:00",
          "2023-05-08T00:00:00",
          "2023-05-15T00:00:00",
          "2023-05-22T00:00:00",
          "2023-05-29T00:00:00",
          "2023-06-05T00:00:00",
          "2023-06-12T00:00:00",
          "2023-06-19T00:00:00",
          "2023-06-26T00:00:00",
          "2023-07-03T00:00:00",
          "2023-07-10T00:00:00",
          "2023-07-17T00:00:00",
          "2023-07-24T00:00:00",
          "2023-07-31T00:00:00",
          "2023-08-07T00:00:00",
          "2023-08-14T00:00:00",
          "2023-08-21T00:00:00",
          "2023-08-28T00:00:00",
          "2023-09-04T00:00:00",
          "2023-09-11T00:00:00",
          "2023-09-18T00:00:00",
          "2023-09-25T00:00:00",
          "2023-10-02T00:00:00",
          "2023-10-09T00:00:00",
          "2023-10-16T00:00:00",
          "2023-10-23T00:00:00",
          "2023-10-30T00:00:00",
          "2023-11-06T00:00:00",
          "2023-11-13T00:00:00",
          "2023-11-20T00:00:00",
          "2023-11-27T00:00:00",
          "2023-12-04T00:00:00",
          "2023-12-11T00:00:00",
          "2023-12-18T00:00:00",
          "2023-12-25T00:00:00",
          "2024-01-01T00:00:00",
          "2024-01-08T00:00:00",
          "2024-01-15T00:00:00",
          "2024-01-22T00:00:00",
          "2024-01-29T00:00:00",
          "2024-02-05T00:00:00",
          "2024-02-12T00:00:00",
          "2024-02-19T00:00:00",
          "2024-02-26T00:00:00",
          "2024-03-04T00:00:00",
          "2024-03-11T00:00:00",
          "2024-03-18T00:00:00",
          "2024-03-25T00:00:00",
          "2024-04-01T00:00:00",
          "2024-04-08T00:00:00",
          "2024-04-15T00:00:00",
          "2024-04-22T00:00:00",
          "2024-04-29T00:00:00",
          "2024-05-06T00:00:00",
          "2024-05-13T00:00:00",
          "2024-05-20T00:00:00",
          "2024-05-27T00:00:00",
          "2024-06-03T00:00:00",
          "2024-06-10T00:00:00",
          "2024-06-17T00:00:00",
          "2024-06-24T00:00:00",
          "2024-07-01T00:00:00",
          "2024-07-08T00:00:00",
          "2024-07-15T00:00:00",
          "2024-07-22T00:00:00",
          "2024-07-29T00:00:00",
          "2024-08-05T00:00:00",
          "2024-08-12T00:00:00",
          "2024-08-19T00:00:00",
          "2024-08-26T00:00:00",
          "2024-09-02T00:00:00",
          "2024-09-09T00:00:00",
          "2024-09-16T00:00:00",
          "2024-09-23T00:00:00",
          "2024-09-30T00:00:00",
          "2024-10-07T00:00:00",
          "2024-10-14T00:00:00",
          "2024-10-21T00:00:00",
          "2024-10-28T00:00:00",
          "2024-11-04T00:00:00",
          "2024-11-11T00:00:00",
          "2024-11-18T00:00:00",
          "2024-11-25T00:00:00",
          "2024-12-02T00:00:00",
          "2024-12-09T00:00:00",
          "2024-12-16T00:00:00",
          "2024-12-23T00:00:00",
          "2024-12-30T00:00:00",
          "2025-01-06T00:00:00",
          "2025-01-13T00:00:00",
          "2025-01-20T00:00:00",
          "2025-01-27T00:00:00",
          "2025-02-03T00:00:00"
         ],
         "y": [
          100,
          100.1901093461892,
          100.5703371039124,
          100.5703371039124,
          98.09885214603908,
          92.58554512637997,
          94.19201488167005,
          96.76805952668022,
          94.10645615727286,
          95.22337916167317,
          97.52851504212666,
          93.53611905336044,
          94.4486638588272,
          95.05703008425331,
          95.81748559969976,
          96.387831768957,
          98.12262148015324,
          99.04942607301955,
          101.1406832731697,
          102.0912481348053,
          102.6615943040625,
          102.4714758925285,
          102.8517036502517,
          103.8022775772322,
          103.0418220617858,
          101.7110203770821,
          102.0912481348053,
          104.1825053349554,
          104.3726146811446,
          105.8935347773823,
          105.8935347773823,
          106.6539902928288,
          106.0836441235715,
          105.8935347773823,
          106.6539902928288,
          105.1330792619359,
          106.0836441235715,
          107.034218050552,
          107.9847829121876,
          106.6539902928288,
          101.5209110308929,
          102.6615943040625,
          99.04942607301955,
          101.9011387886161,
          103.8022775772322,
          102.2813665463393,
          100.7604555154464,
          104.3726146811446,
          100.3802277577232,
          100.3802277577232,
          94.8669116727193,
          94.6768023265301,
          96.57794111514619,
          98.4790799037623,
          102.0912481348053,
          101.5209110308929,
          101.7823193140798,
          102.067487866036,
          105.7034163658483,
          106.7252801644816,
          106.5351708182924,
          105.4895376855449,
          108.388780004025,
          107.2243273967412,
          108.8878272362846,
          111.2642529883909,
          111.0741436422017,
          111.9534186321845,
          113.5218592659609,
          113.3079805856575,
          109.196765122355,
          112.0484778379515,
          109.9096910349179,
          108.2224309266052,
          110.9553151023206,
          112.3811759927912,
          114.1872555756403,
          113.355510188541,
          116.1121636983706,
          116.0883943642564,
          116.0646340954871,
          117.5142552547271,
          114.7813620136669,
          113.260450982774,
          113.5693888688444,
          113.4030397914245,
          116.5399210589773,
          118.0845923586396,
          118.7975273365473,
          119.6530329924159,
          119.7480921981829,
          117.2766072403096,
          119.2252756318092,
          118.2984710389429,
          120.6748967910492,
          121.3640624348428,
          123.6216687124128,
          124.5484733052791,
          124.0731863417889,
          125.7129259125629,
          125.8079760529851,
          125.9505648616357,
          128.2081711392056,
          127.8279433814824,
          127.0437185319218,
          128.9923869234214,
          130.9172950461517,
          131.3212830726442,
          127.614064701179,
          133.6501882872119,
          136.8821196951868,
          135.456267870061,
          117.9182432812197,
          116.4923914560938,
          100.1901093461892,
          98.83554739271617,
          103.6834581026959,
          104.2062656037248,
          113.6406787404973,
          116.2547434416763,
          114.6863028078999,
          113.9496166265676,
          118.4885894504769,
          116.6349802647443,
          119.2490449659234,
          120.294669033326,
          126.0931536702862,
          120.294669033326,
          124.9999909346552,
          121.7442901925661,
          124.8336418572353,
          125.8079760529851,
          127.1387777376888,
          125.4039880264926,
          122.8136835940829,
          126.2832630164754,
          128.1131119334386,
          128.8973367829992,
          131.3688126755277,
          128.0418220617858,
          128.7072183714652,
          129.6102626955621,
          128.3745202166255,
          130.2756590052416,
          133.0323125150711,
          134.648282751731,
          131.2737625351055,
          126.6159611713151,
          133.8402976334011,
          136.3593121941579,
          137.4999954673276,
          139.1872555756403,
          137.8326936221673,
          137.1435279783737,
          138.9258472924535,
          139.2110249097545,
          139.9714804252009,
          144.7718524669523,
          144.4866839149961,
          145.389728239093,
          141.77756000805,
          147.7186243883159,
          148.0513225431556,
          147.9087427998499,
          142.775663537914,
          140.7319359406474,
          147.5285150421267,
          148.6216687124128,
          150.5228075010289,
          153.1844018050915,
          154.3726146811446,
          156.6064606899453,
          155.7509459687318,
          154.6577922984457,
          156.0836441235715,
          153.7072183714652,
          153.6596978339265,
          155.3707091456638,
          156.0836441235715,
          157.8421941035371,
          158.0798330526098,
          160.8840161653229,
          163.2129213798905,
          163.4030397914245,
          163.4980989971916,
          166.0646250301423,
          165.1140692338515,
          168.2034118331759,
          169.5817431207631,
          169.6768023265301,
          170.8174765343549,
          171.5304115122627,
          170.6748967910492,
          170.5323170477435,
          170.1520802246755,
          166.492382390749,
          168.9163468110837,
          172.9087427998499,
          175.9030261934073,
          181.2024635981079,
          186.7870604894198,
          186.0741436422017,
          189.1159657039875,
          183.0323034497263,
          182.1292681909742,
          186.3355519253886,
          185.1710902527599,
          188.355510188541,
          189.8764212194339,
          185.741445487362,
          182.2243273967412,
          177.9942924589023,
          173.0988430806943,
          172.9087427998499,
          174.8098725231212,
          171.8155891295637,
          171.5304115122627,
          171.6017013839156,
          170.0570210189085,
          177.8516945849069,
          180.3231795427803,
          180.5608366225426,
          181.5113924188334,
          179.5627240273338,
          176.8060795828491,
          175.9743341957498,
          169.5342044525348,
          168.2509505014042,
          161.4068327316966,
          168.678707862011,
          167.1577787004284,
          161.6920103489977,
          153.8497981147709,
          160.1235606498764,
          158.6501882872119,
          166.492382390749,
          164.9239508223174,
          169.8193820698358,
          174.6197722422768,
          175.7129259125629,
          178.7785173084629,
          180.65587769762,
          176.8060795828491,
          170.5323170477435,
          173.526600441301,
          165.0665305656231,
          161.549430605692,
          160.2661585238718,
          159.743341957498,
          158.1748922583768,
          159.0779456478186,
          165.4942879262298,
          164.0446667669898,
          168.1083526274089,
          166.872619213817,
          170.2471394304425,
          170.5323170477435,
          167.7281339350305,
          161.5018919374636,
          160.0047502406849,
          158.7452474929789,
          161.8583594264175,
          164.2110158444097,
          163.3792704573104,
          168.4648201163628,
          172.8612041316215,
          171.6254707180297,
          171.29277256319,
          169.6292636583018,
          171.3402931007287,
          166.4448618532103,
          165.0190100280844,
          165.1615897713901,
          170.0570210189085,
          168.1083526274089,
          169.2965655034621,
          169.5817431207631,
          169.0589265543893,
          169.2490449659234,
          170.3421986362095,
          173.2889614922283,
          175.1901093461892,
          178.1131028680938,
          179.3488544123753,
          181.6539902928288,
          177.9942924589023,
          181.6064516246005,
          179.5627240273338,
          180.4182387485473,
          182.8659543723064,
          184.9809718412259,
          181.226232932222,
          180.4657774167756,
          176.4971326314339,
          178.8498071801157,
          183.8878181709398,
          183.1511319896075,
          184.7433328921532,
          180.0380200561689,
          179.2300258724941,
          177.0437185319218,
          179.7528424388678,
          172.8136835940829,
          170.6511274569351,
          177.8516945849069,
          177.2813574809945,
          181.226232932222,
          182.7471439631149,
          185.5988476133667,
          187.880214159706,
          191.6349711993995,
          190.3041785800407,
          191.7300304051665,
          190.1140601685066,
          190.9695748897201,
          191.2547525070211,
          194.7718524669523,
          197.2433374248256,
          198.3840297633401,
          200.6178576414511,
          201.1406742078248,
          201.8536091857326,
          201.1406742078248,
          199.5247039711649,
          204.7528515042127,
          206.2737625351056,
          201.5209110308929,
          201.6159521059703,
          196.1026450863112,
          200.1901002808444,
          200.2851594866114,
          203.6121591656982,
          204.0874370638436,
          202.8992241877905,
          199.809881588466,
          205.038010990824,
          207.6045551544644,
          209.4106438026583,
          209.9809809065707,
          210.2661585238718,
          213.5931400722689,
          208.4600698756779,
          207.0817385880907,
          199.6197631769319,
          200.4752778981454,
          207.4144367429304,
          208.5551290814449,
          209.8859217008037,
          202.5665260329507,
          210.5988566787115,
          210.8364956277842,
          214.258554512638,
          214.6387732050164,
          217.3003765744238,
          219.201506297695,
          219.0114060168507,
          215.0190100280844,
          225.5703280385676,
          225.9505648616357,
          233.0798421179547,
          232.1292681909742,
          233.6501792218671,
          232.3193866025082,
          227.3764166867615,
          227.8516945849069,
          228.9923869234214,
          225.7604464501016,
          232.7946645006536,
          232.1292681909742,
          231.8440905736732,
          231.0836350582267
         ]
        }
       ],
       "layout": {
        "template": {
         "data": {
          "bar": [
           {
            "error_x": {
             "color": "#2a3f5f"
            },
            "error_y": {
             "color": "#2a3f5f"
            },
            "marker": {
             "line": {
              "color": "white",
              "width": 0.5
             },
             "pattern": {
              "fillmode": "overlay",
              "size": 10,
              "solidity": 0.2
             }
            },
            "type": "bar"
           }
          ],
          "barpolar": [
           {
            "marker": {
             "line": {
              "color": "white",
              "width": 0.5
             },
             "pattern": {
              "fillmode": "overlay",
              "size": 10,
              "solidity": 0.2
             }
            },
            "type": "barpolar"
           }
          ],
          "carpet": [
           {
            "aaxis": {
             "endlinecolor": "#2a3f5f",
             "gridcolor": "#C8D4E3",
             "linecolor": "#C8D4E3",
             "minorgridcolor": "#C8D4E3",
             "startlinecolor": "#2a3f5f"
            },
            "baxis": {
             "endlinecolor": "#2a3f5f",
             "gridcolor": "#C8D4E3",
             "linecolor": "#C8D4E3",
             "minorgridcolor": "#C8D4E3",
             "startlinecolor": "#2a3f5f"
            },
            "type": "carpet"
           }
          ],
          "choropleth": [
           {
            "colorbar": {
             "outlinewidth": 0,
             "ticks": ""
            },
            "type": "choropleth"
           }
          ],
          "contour": [
           {
            "colorbar": {
             "outlinewidth": 0,
             "ticks": ""
            },
            "colorscale": [
             [
              0,
              "#0d0887"
             ],
             [
              0.1111111111111111,
              "#46039f"
             ],
             [
              0.2222222222222222,
              "#7201a8"
             ],
             [
              0.3333333333333333,
              "#9c179e"
             ],
             [
              0.4444444444444444,
              "#bd3786"
             ],
             [
              0.5555555555555556,
              "#d8576b"
             ],
             [
              0.6666666666666666,
              "#ed7953"
             ],
             [
              0.7777777777777778,
              "#fb9f3a"
             ],
             [
              0.8888888888888888,
              "#fdca26"
             ],
             [
              1,
              "#f0f921"
             ]
            ],
            "type": "contour"
           }
          ],
          "contourcarpet": [
           {
            "colorbar": {
             "outlinewidth": 0,
             "ticks": ""
            },
            "type": "contourcarpet"
           }
          ],
          "heatmap": [
           {
            "colorbar": {
             "outlinewidth": 0,
             "ticks": ""
            },
            "colorscale": [
             [
              0,
              "#0d0887"
             ],
             [
              0.1111111111111111,
              "#46039f"
             ],
             [
              0.2222222222222222,
              "#7201a8"
             ],
             [
              0.3333333333333333,
              "#9c179e"
             ],
             [
              0.4444444444444444,
              "#bd3786"
             ],
             [
              0.5555555555555556,
              "#d8576b"
             ],
             [
              0.6666666666666666,
              "#ed7953"
             ],
             [
              0.7777777777777778,
              "#fb9f3a"
             ],
             [
              0.8888888888888888,
              "#fdca26"
             ],
             [
              1,
              "#f0f921"
             ]
            ],
            "type": "heatmap"
           }
          ],
          "heatmapgl": [
           {
            "colorbar": {
             "outlinewidth": 0,
             "ticks": ""
            },
            "colorscale": [
             [
              0,
              "#0d0887"
             ],
             [
              0.1111111111111111,
              "#46039f"
             ],
             [
              0.2222222222222222,
              "#7201a8"
             ],
             [
              0.3333333333333333,
              "#9c179e"
             ],
             [
              0.4444444444444444,
              "#bd3786"
             ],
             [
              0.5555555555555556,
              "#d8576b"
             ],
             [
              0.6666666666666666,
              "#ed7953"
             ],
             [
              0.7777777777777778,
              "#fb9f3a"
             ],
             [
              0.8888888888888888,
              "#fdca26"
             ],
             [
              1,
              "#f0f921"
             ]
            ],
            "type": "heatmapgl"
           }
          ],
          "histogram": [
           {
            "marker": {
             "pattern": {
              "fillmode": "overlay",
              "size": 10,
              "solidity": 0.2
             }
            },
            "type": "histogram"
           }
          ],
          "histogram2d": [
           {
            "colorbar": {
             "outlinewidth": 0,
             "ticks": ""
            },
            "colorscale": [
             [
              0,
              "#0d0887"
             ],
             [
              0.1111111111111111,
              "#46039f"
             ],
             [
              0.2222222222222222,
              "#7201a8"
             ],
             [
              0.3333333333333333,
              "#9c179e"
             ],
             [
              0.4444444444444444,
              "#bd3786"
             ],
             [
              0.5555555555555556,
              "#d8576b"
             ],
             [
              0.6666666666666666,
              "#ed7953"
             ],
             [
              0.7777777777777778,
              "#fb9f3a"
             ],
             [
              0.8888888888888888,
              "#fdca26"
             ],
             [
              1,
              "#f0f921"
             ]
            ],
            "type": "histogram2d"
           }
          ],
          "histogram2dcontour": [
           {
            "colorbar": {
             "outlinewidth": 0,
             "ticks": ""
            },
            "colorscale": [
             [
              0,
              "#0d0887"
             ],
             [
              0.1111111111111111,
              "#46039f"
             ],
             [
              0.2222222222222222,
              "#7201a8"
             ],
             [
              0.3333333333333333,
              "#9c179e"
             ],
             [
              0.4444444444444444,
              "#bd3786"
             ],
             [
              0.5555555555555556,
              "#d8576b"
             ],
             [
              0.6666666666666666,
              "#ed7953"
             ],
             [
              0.7777777777777778,
              "#fb9f3a"
             ],
             [
              0.8888888888888888,
              "#fdca26"
             ],
             [
              1,
              "#f0f921"
             ]
            ],
            "type": "histogram2dcontour"
           }
          ],
          "mesh3d": [
           {
            "colorbar": {
             "outlinewidth": 0,
             "ticks": ""
            },
            "type": "mesh3d"
           }
          ],
          "parcoords": [
           {
            "line": {
             "colorbar": {
              "outlinewidth": 0,
              "ticks": ""
             }
            },
            "type": "parcoords"
           }
          ],
          "pie": [
           {
            "automargin": true,
            "type": "pie"
           }
          ],
          "scatter": [
           {
            "fillpattern": {
             "fillmode": "overlay",
             "size": 10,
             "solidity": 0.2
            },
            "type": "scatter"
           }
          ],
          "scatter3d": [
           {
            "line": {
             "colorbar": {
              "outlinewidth": 0,
              "ticks": ""
             }
            },
            "marker": {
             "colorbar": {
              "outlinewidth": 0,
              "ticks": ""
             }
            },
            "type": "scatter3d"
           }
          ],
          "scattercarpet": [
           {
            "marker": {
             "colorbar": {
              "outlinewidth": 0,
              "ticks": ""
             }
            },
            "type": "scattercarpet"
           }
          ],
          "scattergeo": [
           {
            "marker": {
             "colorbar": {
              "outlinewidth": 0,
              "ticks": ""
             }
            },
            "type": "scattergeo"
           }
          ],
          "scattergl": [
           {
            "marker": {
             "colorbar": {
              "outlinewidth": 0,
              "ticks": ""
             }
            },
            "type": "scattergl"
           }
          ],
          "scattermapbox": [
           {
            "marker": {
             "colorbar": {
              "outlinewidth": 0,
              "ticks": ""
             }
            },
            "type": "scattermapbox"
           }
          ],
          "scatterpolar": [
           {
            "marker": {
             "colorbar": {
              "outlinewidth": 0,
              "ticks": ""
             }
            },
            "type": "scatterpolar"
           }
          ],
          "scatterpolargl": [
           {
            "marker": {
             "colorbar": {
              "outlinewidth": 0,
              "ticks": ""
             }
            },
            "type": "scatterpolargl"
           }
          ],
          "scatterternary": [
           {
            "marker": {
             "colorbar": {
              "outlinewidth": 0,
              "ticks": ""
             }
            },
            "type": "scatterternary"
           }
          ],
          "surface": [
           {
            "colorbar": {
             "outlinewidth": 0,
             "ticks": ""
            },
            "colorscale": [
             [
              0,
              "#0d0887"
             ],
             [
              0.1111111111111111,
              "#46039f"
             ],
             [
              0.2222222222222222,
              "#7201a8"
             ],
             [
              0.3333333333333333,
              "#9c179e"
             ],
             [
              0.4444444444444444,
              "#bd3786"
             ],
             [
              0.5555555555555556,
              "#d8576b"
             ],
             [
              0.6666666666666666,
              "#ed7953"
             ],
             [
              0.7777777777777778,
              "#fb9f3a"
             ],
             [
              0.8888888888888888,
              "#fdca26"
             ],
             [
              1,
              "#f0f921"
             ]
            ],
            "type": "surface"
           }
          ],
          "table": [
           {
            "cells": {
             "fill": {
              "color": "#EBF0F8"
             },
             "line": {
              "color": "white"
             }
            },
            "header": {
             "fill": {
              "color": "#C8D4E3"
             },
             "line": {
              "color": "white"
             }
            },
            "type": "table"
           }
          ]
         },
         "layout": {
          "annotationdefaults": {
           "arrowcolor": "#2a3f5f",
           "arrowhead": 0,
           "arrowwidth": 1
          },
          "autotypenumbers": "strict",
          "coloraxis": {
           "colorbar": {
            "outlinewidth": 0,
            "ticks": ""
           }
          },
          "colorscale": {
           "diverging": [
            [
             0,
             "#8e0152"
            ],
            [
             0.1,
             "#c51b7d"
            ],
            [
             0.2,
             "#de77ae"
            ],
            [
             0.3,
             "#f1b6da"
            ],
            [
             0.4,
             "#fde0ef"
            ],
            [
             0.5,
             "#f7f7f7"
            ],
            [
             0.6,
             "#e6f5d0"
            ],
            [
             0.7,
             "#b8e186"
            ],
            [
             0.8,
             "#7fbc41"
            ],
            [
             0.9,
             "#4d9221"
            ],
            [
             1,
             "#276419"
            ]
           ],
           "sequential": [
            [
             0,
             "#0d0887"
            ],
            [
             0.1111111111111111,
             "#46039f"
            ],
            [
             0.2222222222222222,
             "#7201a8"
            ],
            [
             0.3333333333333333,
             "#9c179e"
            ],
            [
             0.4444444444444444,
             "#bd3786"
            ],
            [
             0.5555555555555556,
             "#d8576b"
            ],
            [
             0.6666666666666666,
             "#ed7953"
            ],
            [
             0.7777777777777778,
             "#fb9f3a"
            ],
            [
             0.8888888888888888,
             "#fdca26"
            ],
            [
             1,
             "#f0f921"
            ]
           ],
           "sequentialminus": [
            [
             0,
             "#0d0887"
            ],
            [
             0.1111111111111111,
             "#46039f"
            ],
            [
             0.2222222222222222,
             "#7201a8"
            ],
            [
             0.3333333333333333,
             "#9c179e"
            ],
            [
             0.4444444444444444,
             "#bd3786"
            ],
            [
             0.5555555555555556,
             "#d8576b"
            ],
            [
             0.6666666666666666,
             "#ed7953"
            ],
            [
             0.7777777777777778,
             "#fb9f3a"
            ],
            [
             0.8888888888888888,
             "#fdca26"
            ],
            [
             1,
             "#f0f921"
            ]
           ]
          },
          "colorway": [
           "#636efa",
           "#EF553B",
           "#00cc96",
           "#ab63fa",
           "#FFA15A",
           "#19d3f3",
           "#FF6692",
           "#B6E880",
           "#FF97FF",
           "#FECB52"
          ],
          "font": {
           "color": "#2a3f5f"
          },
          "geo": {
           "bgcolor": "white",
           "lakecolor": "white",
           "landcolor": "white",
           "showlakes": true,
           "showland": true,
           "subunitcolor": "#C8D4E3"
          },
          "hoverlabel": {
           "align": "left"
          },
          "hovermode": "closest",
          "mapbox": {
           "style": "light"
          },
          "paper_bgcolor": "white",
          "plot_bgcolor": "white",
          "polar": {
           "angularaxis": {
            "gridcolor": "#EBF0F8",
            "linecolor": "#EBF0F8",
            "ticks": ""
           },
           "bgcolor": "white",
           "radialaxis": {
            "gridcolor": "#EBF0F8",
            "linecolor": "#EBF0F8",
            "ticks": ""
           }
          },
          "scene": {
           "xaxis": {
            "backgroundcolor": "white",
            "gridcolor": "#DFE8F3",
            "gridwidth": 2,
            "linecolor": "#EBF0F8",
            "showbackground": true,
            "ticks": "",
            "zerolinecolor": "#EBF0F8"
           },
           "yaxis": {
            "backgroundcolor": "white",
            "gridcolor": "#DFE8F3",
            "gridwidth": 2,
            "linecolor": "#EBF0F8",
            "showbackground": true,
            "ticks": "",
            "zerolinecolor": "#EBF0F8"
           },
           "zaxis": {
            "backgroundcolor": "white",
            "gridcolor": "#DFE8F3",
            "gridwidth": 2,
            "linecolor": "#EBF0F8",
            "showbackground": true,
            "ticks": "",
            "zerolinecolor": "#EBF0F8"
           }
          },
          "shapedefaults": {
           "line": {
            "color": "#2a3f5f"
           }
          },
          "ternary": {
           "aaxis": {
            "gridcolor": "#DFE8F3",
            "linecolor": "#A2B1C6",
            "ticks": ""
           },
           "baxis": {
            "gridcolor": "#DFE8F3",
            "linecolor": "#A2B1C6",
            "ticks": ""
           },
           "bgcolor": "white",
           "caxis": {
            "gridcolor": "#DFE8F3",
            "linecolor": "#A2B1C6",
            "ticks": ""
           }
          },
          "title": {
           "x": 0.05
          },
          "xaxis": {
           "automargin": true,
           "gridcolor": "#EBF0F8",
           "linecolor": "#EBF0F8",
           "ticks": "",
           "title": {
            "standoff": 15
           },
           "zerolinecolor": "#EBF0F8",
           "zerolinewidth": 2
          },
          "yaxis": {
           "automargin": true,
           "gridcolor": "#EBF0F8",
           "linecolor": "#EBF0F8",
           "ticks": "",
           "title": {
            "standoff": 15
           },
           "zerolinecolor": "#EBF0F8",
           "zerolinewidth": 2
          }
         }
        },
        "title": {
         "text": "Backtest du fonds Article 9 vs MSCI World SRI"
        },
        "xaxis": {
         "title": {
          "text": "Date"
         }
        },
        "yaxis": {
         "title": {
          "text": "Performance"
         }
        }
       }
      }
     },
     "metadata": {},
     "output_type": "display_data"
    }
   ],
   "source": [
    "fig = go.Figure()\n",
    "fig.add_trace(go.Scatter(x=df_prices[\"Date\"], y=df_prices[\"Strategy\"], mode='lines', name=\"Fonds Article 9\"))\n",
    "fig.add_trace(go.Scatter(x=df_prices[\"Date\"], y=df_prices[\"MSCI_WORLD\"], mode='lines', name=\"MSCI World SRI\"))\n",
    "fig.update_layout(title=\"Backtest du fonds Article 9 vs MSCI World SRI\",\n",
    "                  xaxis_title=\"Date\",\n",
    "                  yaxis_title=\"Performance\",\n",
    "                  template=\"plotly_white\")\n",
    "fig.show()"
   ]
  }
 ],
 "metadata": {
  "kernelspec": {
   "display_name": "base",
   "language": "python",
   "name": "python3"
  },
  "language_info": {
   "codemirror_mode": {
    "name": "ipython",
    "version": 3
   },
   "file_extension": ".py",
   "mimetype": "text/x-python",
   "name": "python",
   "nbconvert_exporter": "python",
   "pygments_lexer": "ipython3",
   "version": "3.12.3"
  }
 },
 "nbformat": 4,
 "nbformat_minor": 2
}
